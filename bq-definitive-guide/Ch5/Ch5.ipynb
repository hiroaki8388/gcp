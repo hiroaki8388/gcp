{
 "cells": [
  {
   "cell_type": "markdown",
   "metadata": {},
   "source": [
    "# Chapter 5"
   ]
  },
  {
   "cell_type": "code",
   "execution_count": 6,
   "metadata": {},
   "outputs": [],
   "source": [
    "# from os.path import dirname, join\n",
    "# from dotenv import load_dotenv\n",
    "\n",
    "\n",
    "# dotenv_path = join(dirname(__file__), '.env')\n",
    "# load_dotenv(dotenv_patih)"
   ]
  },
  {
   "cell_type": "code",
   "execution_count": 11,
   "metadata": {},
   "outputs": [],
   "source": [
    "import pandas as pd\n",
    "import numpy as np\n",
    "import seaborn as sns\n",
    "sns.set()\n",
    "from google.cloud import bigquery\n",
    "import time"
   ]
  },
  {
   "cell_type": "markdown",
   "metadata": {},
   "source": [
    "# client librayを使って、bqに接続"
   ]
  },
  {
   "cell_type": "code",
   "execution_count": 12,
   "metadata": {},
   "outputs": [],
   "source": [
    "bq = bigquery.Client(project='scalable-data-science')"
   ]
  },
  {
   "cell_type": "markdown",
   "metadata": {},
   "source": [
    "## dataset"
   ]
  },
  {
   "cell_type": "code",
   "execution_count": 13,
   "metadata": {},
   "outputs": [],
   "source": [
    "# dsinfoを通して、datasetの情報にaccessできる\n",
    "dsdinfo = bq.get_dataset('bigquery-public-data.london_bicycles')"
   ]
  },
  {
   "cell_type": "code",
   "execution_count": 7,
   "metadata": {},
   "outputs": [
    {
     "data": {
      "text/plain": [
       "[<AccessEntry: role=WRITER, specialGroup=projectWriters>,\n",
       " <AccessEntry: role=OWNER, specialGroup=projectOwners>,\n",
       " <AccessEntry: role=READER, specialGroup=allAuthenticatedUsers>,\n",
       " <AccessEntry: role=READER, specialGroup=projectReaders>]"
      ]
     },
     "execution_count": 7,
     "metadata": {},
     "output_type": "execute_result"
    }
   ],
   "source": [
    "dsdinfo.access_entries"
   ]
  },
  {
   "cell_type": "code",
   "execution_count": 191,
   "metadata": {},
   "outputs": [],
   "source": [
    "# datasetの生成\n",
    "dataset_id = 'bq_ch05'\n",
    "dsinfo=bq.create_dataset(dataset_id, exists_ok=True)"
   ]
  },
  {
   "cell_type": "code",
   "execution_count": 145,
   "metadata": {},
   "outputs": [
    {
     "data": {
      "text/plain": [
       "'US'"
      ]
     },
     "execution_count": 145,
     "metadata": {},
     "output_type": "execute_result"
    }
   ],
   "source": [
    "dsinfo.location"
   ]
  },
  {
   "cell_type": "code",
   "execution_count": 153,
   "metadata": {},
   "outputs": [],
   "source": [
    "# datasetを再作成\n",
    "dsinfo = bigquery.Dataset('scalable-data-science'+'.'+dataset_id+'eu')\n",
    "dsinfo.location='EU'\n",
    "dsinfo = bq.create_dataset(dsinfo, exists_ok=True)"
   ]
  },
  {
   "cell_type": "code",
   "execution_count": 150,
   "metadata": {},
   "outputs": [
    {
     "data": {
      "text/plain": [
       "'EU'"
      ]
     },
     "execution_count": 150,
     "metadata": {},
     "output_type": "execute_result"
    }
   ],
   "source": [
    "dsinfo.location"
   ]
  },
  {
   "cell_type": "code",
   "execution_count": 169,
   "metadata": {},
   "outputs": [
    {
     "name": "stdout",
     "output_type": "stream",
     "text": [
      "None\n",
      "locationを変更\n"
     ]
    }
   ],
   "source": [
    "# datasetを更新\n",
    "dsinfo = bq.get_dataset(dataset_id)\n",
    "dsinfo.location = 'Asia'\n",
    "print(dsinfo.description)\n",
    "dsinfo.description = 'locationを変更'\n",
    "dsinfo = bq.update_dataset(dsinfo, ['description'])\n",
    "print(dsinfo.description)"
   ]
  },
  {
   "cell_type": "code",
   "execution_count": 170,
   "metadata": {},
   "outputs": [],
   "source": [
    "# datasetを消去\n",
    "bq.delete_dataset('bq_ch05', not_found_ok=False)"
   ]
  },
  {
   "cell_type": "markdown",
   "metadata": {},
   "source": [
    "## table"
   ]
  },
  {
   "cell_type": "code",
   "execution_count": 182,
   "metadata": {},
   "outputs": [],
   "source": [
    "tables = bq.list_tables('bigquery-public-data.london_bicycles')"
   ]
  },
  {
   "cell_type": "code",
   "execution_count": 179,
   "metadata": {},
   "outputs": [
    {
     "name": "stdout",
     "output_type": "stream",
     "text": [
      "cycle_hire\n",
      "cycle_stations\n"
     ]
    }
   ],
   "source": [
    "for table in tables:\n",
    "    print(table.table_id)"
   ]
  },
  {
   "cell_type": "code",
   "execution_count": 185,
   "metadata": {},
   "outputs": [],
   "source": [
    "# 行数などのmeta dataを取得\n",
    "table = bq.get_table('bigquery-public-data.london_bicycles.cycle_hire')"
   ]
  },
  {
   "cell_type": "code",
   "execution_count": 186,
   "metadata": {},
   "outputs": [
    {
     "data": {
      "text/plain": [
       "24369201"
      ]
     },
     "execution_count": 186,
     "metadata": {},
     "output_type": "execute_result"
    }
   ],
   "source": [
    "table.num_rows"
   ]
  },
  {
   "cell_type": "code",
   "execution_count": 215,
   "metadata": {},
   "outputs": [
    {
     "name": "stdout",
     "output_type": "stream",
     "text": [
      "[SchemaField('chapter', 'INTEGER', 'REQUIRED', None, ()), SchemaField('title', 'STRING', 'NULLABLE', None, ())]\n",
      "[SchemaField('chapter', 'INTEGER', 'REQUIRED', None, ()), SchemaField('title', 'STRING', 'NULLABLE', None, ())]\n"
     ]
    }
   ],
   "source": [
    "# table生成\n",
    "table_id = 'scalable-data-science.bq_ch05.tmp_table'\n",
    "\n",
    "table = bq.create_table(table_id, exists_ok=True)\n",
    "print(table.schema)\n",
    "\n",
    "schema = [\n",
    "    bigquery.SchemaField('chapter', 'INTEGER', mode='REQUIRED'),\n",
    "    bigquery.SchemaField('title', 'STRING', mode='NULLABLE')\n",
    "]\n",
    "table.schema = schema\n",
    "table = bq.update_table(table, ['schema'])\n",
    "\n",
    "print(table.schema)"
   ]
  },
  {
   "cell_type": "code",
   "execution_count": 216,
   "metadata": {},
   "outputs": [
    {
     "data": {
      "text/plain": [
       "[]"
      ]
     },
     "execution_count": 216,
     "metadata": {},
     "output_type": "execute_result"
    }
   ],
   "source": [
    "# insert\n",
    "data = [(1, '猿でもわかるpython'), (2, '猿でもわかるbq'), (2, '猿でもわかるpython')]\n",
    "\n",
    "bq.insert_rows(table, data)"
   ]
  },
  {
   "cell_type": "code",
   "execution_count": 217,
   "metadata": {},
   "outputs": [
    {
     "data": {
      "text/plain": [
       "[Row((2, '猿でもわかるpython'), {'chapter': 0, 'title': 1}),\n",
       " Row((2, '猿でもわかるbq'), {'chapter': 0, 'title': 1}),\n",
       " Row((1, '猿でもわかるpython'), {'chapter': 0, 'title': 1}),\n",
       " Row((2, '猿でもわかるbq'), {'chapter': 0, 'title': 1}),\n",
       " Row((1, '猿でもわかるpython'), {'chapter': 0, 'title': 1}),\n",
       " Row((2, '猿でもわかるpython'), {'chapter': 0, 'title': 1})]"
      ]
     },
     "execution_count": 217,
     "metadata": {},
     "output_type": "execute_result"
    }
   ],
   "source": [
    "rows = bq.list_rows(table)\n",
    "list(rows)"
   ]
  },
  {
   "cell_type": "code",
   "execution_count": 221,
   "metadata": {},
   "outputs": [
    {
     "data": {
      "text/plain": [
       "<google.cloud.bigquery.job.LoadJob at 0x7fcbd92d2b00>"
      ]
     },
     "execution_count": 221,
     "metadata": {},
     "output_type": "execute_result"
    }
   ],
   "source": [
    "# pandasのdataをload\n",
    "df = pd.DataFrame(data,columns=['chapter', 'title'])\n",
    "table_id = 'scalable-data-science.bq_ch05.tmp_table_df'\n",
    "job = bq.load_table_from_dataframe(df, table_id)\n",
    "job.result()"
   ]
  },
  {
   "cell_type": "code",
   "execution_count": 222,
   "metadata": {},
   "outputs": [
    {
     "data": {
      "text/plain": [
       "[Row((1, '猿でもわかるpython'), {'chapter': 0, 'title': 1}),\n",
       " Row((2, '猿でもわかるbq'), {'chapter': 0, 'title': 1}),\n",
       " Row((2, '猿でもわかるpython'), {'chapter': 0, 'title': 1}),\n",
       " Row((1, '猿でもわかるpython'), {'chapter': 0, 'title': 1}),\n",
       " Row((2, '猿でもわかるbq'), {'chapter': 0, 'title': 1}),\n",
       " Row((2, '猿でもわかるpython'), {'chapter': 0, 'title': 1})]"
      ]
     },
     "execution_count": 222,
     "metadata": {},
     "output_type": "execute_result"
    }
   ],
   "source": [
    "rows = bq.list_rows(table_id)\n",
    "list(rows)"
   ]
  },
  {
   "cell_type": "code",
   "execution_count": 22,
   "metadata": {},
   "outputs": [],
   "source": [
    "# google cloud uri からload \n",
    "job_config = bigquery.LoadJobConfig()\n",
    "job_config.autodetect = True\n",
    "job_config.source_format = bigquery.SourceFormat.CSV\n",
    "job_config.null_marker = 'NULL'\n",
    "uri = 'gs://bigquery-oreilly-book/college_scorecard.csv'\n",
    "table_id = 'scalable-data-science.bq_ch05.college_scorecard_gcs'\n",
    "\n",
    "# jobを定義した時点では実行されない\n",
    "job = bq.load_table_from_uri(uri, table_id, job_config=job_config)\n"
   ]
  },
  {
   "cell_type": "code",
   "execution_count": 24,
   "metadata": {},
   "outputs": [],
   "source": [
    "# 0.1秒ごとに監視する\n",
    "\n",
    "while not job.done():\n",
    "    print('.', flush=True)\n",
    "    time.sleep(0.1)\n",
    "    \n",
    "print('DONE')\n",
    "table = bq.get_table(table_id)\n",
    "print('num_rows={}'.format(table.num_rows))\n",
    "    "
   ]
  },
  {
   "cell_type": "code",
   "execution_count": 30,
   "metadata": {},
   "outputs": [],
   "source": [
    "# クエリを実行\n",
    "limit = 10\n",
    "\n",
    "query = 'SELECT * FROM `{}` limit {}'.format(table_id, limit)\n",
    "result_df = bq.query(query).to_dataframe()"
   ]
  },
  {
   "cell_type": "code",
   "execution_count": 32,
   "metadata": {},
   "outputs": [
    {
     "data": {
      "text/html": [
       "<div>\n",
       "<style scoped>\n",
       "    .dataframe tbody tr th:only-of-type {\n",
       "        vertical-align: middle;\n",
       "    }\n",
       "\n",
       "    .dataframe tbody tr th {\n",
       "        vertical-align: top;\n",
       "    }\n",
       "\n",
       "    .dataframe thead th {\n",
       "        text-align: right;\n",
       "    }\n",
       "</style>\n",
       "<table border=\"1\" class=\"dataframe\">\n",
       "  <thead>\n",
       "    <tr style=\"text-align: right;\">\n",
       "      <th></th>\n",
       "      <th>UNITID</th>\n",
       "      <th>OPEID</th>\n",
       "      <th>OPEID6</th>\n",
       "      <th>INSTNM</th>\n",
       "      <th>CITY</th>\n",
       "      <th>STABBR</th>\n",
       "      <th>ZIP</th>\n",
       "      <th>ACCREDAGENCY</th>\n",
       "      <th>INSTURL</th>\n",
       "      <th>NPCURL</th>\n",
       "      <th>...</th>\n",
       "      <th>OMAWDP6_FTNFT_POOLED_SUPP</th>\n",
       "      <th>OMAWDP8_FTNFT_POOLED_SUPP</th>\n",
       "      <th>OMENRYP8_FTNFT_POOLED_SUPP</th>\n",
       "      <th>OMENRAP8_FTNFT_POOLED_SUPP</th>\n",
       "      <th>OMENRUP8_FTNFT_POOLED_SUPP</th>\n",
       "      <th>OMAWDP6_PTNFT_POOLED_SUPP</th>\n",
       "      <th>OMAWDP8_PTNFT_POOLED_SUPP</th>\n",
       "      <th>OMENRYP8_PTNFT_POOLED_SUPP</th>\n",
       "      <th>OMENRAP8_PTNFT_POOLED_SUPP</th>\n",
       "      <th>OMENRUP8_PTNFT_POOLED_SUPP</th>\n",
       "    </tr>\n",
       "  </thead>\n",
       "  <tbody>\n",
       "    <tr>\n",
       "      <th>0</th>\n",
       "      <td>10236801</td>\n",
       "      <td>104703</td>\n",
       "      <td>1047</td>\n",
       "      <td>Troy University-Phenix City Campus</td>\n",
       "      <td>Phenix City</td>\n",
       "      <td>AL</td>\n",
       "      <td>368694419</td>\n",
       "      <td>Southern Association of Colleges and Schools C...</td>\n",
       "      <td>www.troy.edu/phenixcity/</td>\n",
       "      <td>None</td>\n",
       "      <td>...</td>\n",
       "      <td>None</td>\n",
       "      <td>None</td>\n",
       "      <td>None</td>\n",
       "      <td>None</td>\n",
       "      <td>None</td>\n",
       "      <td>None</td>\n",
       "      <td>None</td>\n",
       "      <td>None</td>\n",
       "      <td>None</td>\n",
       "      <td>None</td>\n",
       "    </tr>\n",
       "    <tr>\n",
       "      <th>1</th>\n",
       "      <td>10236802</td>\n",
       "      <td>104755</td>\n",
       "      <td>1047</td>\n",
       "      <td>Troy University-Montgomery Campus</td>\n",
       "      <td>Montgomery</td>\n",
       "      <td>AL</td>\n",
       "      <td>361034419</td>\n",
       "      <td>Southern Association of Colleges and Schools C...</td>\n",
       "      <td>www.troy.edu/montgomery/</td>\n",
       "      <td>None</td>\n",
       "      <td>...</td>\n",
       "      <td>None</td>\n",
       "      <td>None</td>\n",
       "      <td>None</td>\n",
       "      <td>None</td>\n",
       "      <td>None</td>\n",
       "      <td>None</td>\n",
       "      <td>None</td>\n",
       "      <td>None</td>\n",
       "      <td>None</td>\n",
       "      <td>None</td>\n",
       "    </tr>\n",
       "    <tr>\n",
       "      <th>2</th>\n",
       "      <td>10236803</td>\n",
       "      <td>104754</td>\n",
       "      <td>1047</td>\n",
       "      <td>Troy University-Dothan Campus</td>\n",
       "      <td>Dothan</td>\n",
       "      <td>AL</td>\n",
       "      <td>363034419</td>\n",
       "      <td>Southern Association of Colleges and Schools C...</td>\n",
       "      <td>www.troy.edu/dothan/</td>\n",
       "      <td>None</td>\n",
       "      <td>...</td>\n",
       "      <td>None</td>\n",
       "      <td>None</td>\n",
       "      <td>None</td>\n",
       "      <td>None</td>\n",
       "      <td>None</td>\n",
       "      <td>None</td>\n",
       "      <td>None</td>\n",
       "      <td>None</td>\n",
       "      <td>None</td>\n",
       "      <td>None</td>\n",
       "    </tr>\n",
       "    <tr>\n",
       "      <th>3</th>\n",
       "      <td>10236808</td>\n",
       "      <td>104700</td>\n",
       "      <td>1047</td>\n",
       "      <td>Troy University-Online</td>\n",
       "      <td>Troy</td>\n",
       "      <td>AL</td>\n",
       "      <td>360825327</td>\n",
       "      <td>Southern Association of Colleges and Schools C...</td>\n",
       "      <td>online.troy.edu/index.html</td>\n",
       "      <td>None</td>\n",
       "      <td>...</td>\n",
       "      <td>None</td>\n",
       "      <td>None</td>\n",
       "      <td>None</td>\n",
       "      <td>None</td>\n",
       "      <td>None</td>\n",
       "      <td>None</td>\n",
       "      <td>None</td>\n",
       "      <td>None</td>\n",
       "      <td>None</td>\n",
       "      <td>None</td>\n",
       "    </tr>\n",
       "    <tr>\n",
       "      <th>4</th>\n",
       "      <td>10236809</td>\n",
       "      <td>104700</td>\n",
       "      <td>1047</td>\n",
       "      <td>Troy University-Support Locations</td>\n",
       "      <td>Troy</td>\n",
       "      <td>AL</td>\n",
       "      <td>360825327</td>\n",
       "      <td>Southern Association of Colleges and Schools C...</td>\n",
       "      <td>www.troy.edu/servicecenters/</td>\n",
       "      <td>None</td>\n",
       "      <td>...</td>\n",
       "      <td>None</td>\n",
       "      <td>None</td>\n",
       "      <td>None</td>\n",
       "      <td>None</td>\n",
       "      <td>None</td>\n",
       "      <td>None</td>\n",
       "      <td>None</td>\n",
       "      <td>None</td>\n",
       "      <td>None</td>\n",
       "      <td>None</td>\n",
       "    </tr>\n",
       "  </tbody>\n",
       "</table>\n",
       "<p>5 rows × 1899 columns</p>\n",
       "</div>"
      ],
      "text/plain": [
       "     UNITID   OPEID  OPEID6                              INSTNM         CITY  \\\n",
       "0  10236801  104703    1047  Troy University-Phenix City Campus  Phenix City   \n",
       "1  10236802  104755    1047   Troy University-Montgomery Campus   Montgomery   \n",
       "2  10236803  104754    1047       Troy University-Dothan Campus       Dothan   \n",
       "3  10236808  104700    1047              Troy University-Online         Troy   \n",
       "4  10236809  104700    1047   Troy University-Support Locations         Troy   \n",
       "\n",
       "  STABBR        ZIP                                       ACCREDAGENCY  \\\n",
       "0     AL  368694419  Southern Association of Colleges and Schools C...   \n",
       "1     AL  361034419  Southern Association of Colleges and Schools C...   \n",
       "2     AL  363034419  Southern Association of Colleges and Schools C...   \n",
       "3     AL  360825327  Southern Association of Colleges and Schools C...   \n",
       "4     AL  360825327  Southern Association of Colleges and Schools C...   \n",
       "\n",
       "                        INSTURL NPCURL  ... OMAWDP6_FTNFT_POOLED_SUPP  \\\n",
       "0      www.troy.edu/phenixcity/   None  ...                      None   \n",
       "1      www.troy.edu/montgomery/   None  ...                      None   \n",
       "2          www.troy.edu/dothan/   None  ...                      None   \n",
       "3    online.troy.edu/index.html   None  ...                      None   \n",
       "4  www.troy.edu/servicecenters/   None  ...                      None   \n",
       "\n",
       "   OMAWDP8_FTNFT_POOLED_SUPP  OMENRYP8_FTNFT_POOLED_SUPP  \\\n",
       "0                       None                        None   \n",
       "1                       None                        None   \n",
       "2                       None                        None   \n",
       "3                       None                        None   \n",
       "4                       None                        None   \n",
       "\n",
       "   OMENRAP8_FTNFT_POOLED_SUPP  OMENRUP8_FTNFT_POOLED_SUPP  \\\n",
       "0                        None                        None   \n",
       "1                        None                        None   \n",
       "2                        None                        None   \n",
       "3                        None                        None   \n",
       "4                        None                        None   \n",
       "\n",
       "   OMAWDP6_PTNFT_POOLED_SUPP  OMAWDP8_PTNFT_POOLED_SUPP  \\\n",
       "0                       None                       None   \n",
       "1                       None                       None   \n",
       "2                       None                       None   \n",
       "3                       None                       None   \n",
       "4                       None                       None   \n",
       "\n",
       "   OMENRYP8_PTNFT_POOLED_SUPP  OMENRAP8_PTNFT_POOLED_SUPP  \\\n",
       "0                        None                        None   \n",
       "1                        None                        None   \n",
       "2                        None                        None   \n",
       "3                        None                        None   \n",
       "4                        None                        None   \n",
       "\n",
       "  OMENRUP8_PTNFT_POOLED_SUPP  \n",
       "0                       None  \n",
       "1                       None  \n",
       "2                       None  \n",
       "3                       None  \n",
       "4                       None  \n",
       "\n",
       "[5 rows x 1899 columns]"
      ]
     },
     "execution_count": 32,
     "metadata": {},
     "output_type": "execute_result"
    }
   ],
   "source": [
    "result_df.head()"
   ]
  },
  {
   "cell_type": "markdown",
   "metadata": {},
   "source": [
    "## jupyter でのbiq queryの実行方法"
   ]
  },
  {
   "cell_type": "code",
   "execution_count": 15,
   "metadata": {},
   "outputs": [
    {
     "name": "stdout",
     "output_type": "stream",
     "text": [
      "The google.cloud.bigquery extension is already loaded. To reload it, use:\n",
      "  %reload_ext google.cloud.bigquery\n"
     ]
    }
   ],
   "source": [
    "%load_ext google.cloud.bigquery"
   ]
  },
  {
   "cell_type": "code",
   "execution_count": 9,
   "metadata": {},
   "outputs": [],
   "source": [
    "PARAMS = {'num_stations':100}"
   ]
  },
  {
   "cell_type": "code",
   "execution_count": 10,
   "metadata": {},
   "outputs": [],
   "source": [
    "%%bigquery df --project  scalable-data-science --params $PARAMS\n",
    "\n",
    "SELECT \n",
    "    start_station_name\n",
    "    , AVG(duration) as duration\n",
    "    , COUNT(duration) as num_trips\n",
    "FROM `bigquery-public-data.london_bicycles.cycle_hire`\n",
    "GROUP BY start_station_name\n",
    "ORDER BY num_trips DESC\n",
    "limit @num_stations"
   ]
  },
  {
   "cell_type": "code",
   "execution_count": 15,
   "metadata": {},
   "outputs": [
    {
     "data": {
      "text/html": [
       "<div>\n",
       "<style scoped>\n",
       "    .dataframe tbody tr th:only-of-type {\n",
       "        vertical-align: middle;\n",
       "    }\n",
       "\n",
       "    .dataframe tbody tr th {\n",
       "        vertical-align: top;\n",
       "    }\n",
       "\n",
       "    .dataframe thead th {\n",
       "        text-align: right;\n",
       "    }\n",
       "</style>\n",
       "<table border=\"1\" class=\"dataframe\">\n",
       "  <thead>\n",
       "    <tr style=\"text-align: right;\">\n",
       "      <th></th>\n",
       "      <th>duration</th>\n",
       "      <th>num_trips</th>\n",
       "    </tr>\n",
       "  </thead>\n",
       "  <tbody>\n",
       "    <tr>\n",
       "      <th>count</th>\n",
       "      <td>100.000000</td>\n",
       "      <td>100.000000</td>\n",
       "    </tr>\n",
       "    <tr>\n",
       "      <th>mean</th>\n",
       "      <td>1346.966769</td>\n",
       "      <td>75827.580000</td>\n",
       "    </tr>\n",
       "    <tr>\n",
       "      <th>std</th>\n",
       "      <td>617.531421</td>\n",
       "      <td>33290.657751</td>\n",
       "    </tr>\n",
       "    <tr>\n",
       "      <th>min</th>\n",
       "      <td>755.634703</td>\n",
       "      <td>48977.000000</td>\n",
       "    </tr>\n",
       "    <tr>\n",
       "      <th>25%</th>\n",
       "      <td>1004.099102</td>\n",
       "      <td>56659.750000</td>\n",
       "    </tr>\n",
       "    <tr>\n",
       "      <th>50%</th>\n",
       "      <td>1129.325159</td>\n",
       "      <td>66677.500000</td>\n",
       "    </tr>\n",
       "    <tr>\n",
       "      <th>75%</th>\n",
       "      <td>1389.550022</td>\n",
       "      <td>79973.000000</td>\n",
       "    </tr>\n",
       "    <tr>\n",
       "      <th>max</th>\n",
       "      <td>4006.008655</td>\n",
       "      <td>234458.000000</td>\n",
       "    </tr>\n",
       "  </tbody>\n",
       "</table>\n",
       "</div>"
      ],
      "text/plain": [
       "          duration      num_trips\n",
       "count   100.000000     100.000000\n",
       "mean   1346.966769   75827.580000\n",
       "std     617.531421   33290.657751\n",
       "min     755.634703   48977.000000\n",
       "25%    1004.099102   56659.750000\n",
       "50%    1129.325159   66677.500000\n",
       "75%    1389.550022   79973.000000\n",
       "max    4006.008655  234458.000000"
      ]
     },
     "execution_count": 15,
     "metadata": {},
     "output_type": "execute_result"
    }
   ],
   "source": [
    "df.describe()"
   ]
  },
  {
   "cell_type": "code",
   "execution_count": 16,
   "metadata": {},
   "outputs": [
    {
     "data": {
      "text/plain": [
       "<matplotlib.axes._subplots.AxesSubplot at 0x7fcbec0a2cf8>"
      ]
     },
     "execution_count": 16,
     "metadata": {},
     "output_type": "execute_result"
    },
    {
     "data": {
      "image/png": "[encoded data removed]",
      "text/plain": [
       "<Figure size 432x288 with 1 Axes>"
      ]
     },
     "metadata": {
      "needs_background": "light"
     },
     "output_type": "display_data"
    }
   ],
   "source": [
    "df.plot.scatter('duration', 'num_trips')"
   ]
  },
  {
   "cell_type": "markdown",
   "metadata": {},
   "source": [
    "### 多忙なサイクル店を見つける\n",
    "- 貸し借りが同じ店で、かつ一回の時間が10min以下のレンタル数を見積もる"
   ]
  },
  {
   "cell_type": "code",
   "execution_count": 17,
   "metadata": {},
   "outputs": [],
   "source": [
    "%%bigquery badtrips --project scalable-data-science\n",
    "WITH all_bad_trips AS(\n",
    "SELECT \n",
    "    start_station_name\n",
    "    , COUNTIF(duration<600 AND start_station_name = end_station_name) AS bad_trips\n",
    "    , COUNT(1) AS num_trips\n",
    "FROM `bigquery-public-data.london_bicycles.cycle_hire`\n",
    "WHERE EXTRACT(YEAR FROM start_date) =2015\n",
    "GROUP BY start_station_name\n",
    "HAVING num_trips > 10\n",
    ")\n",
    "\n",
    "SELECT *, bad_trips/num_trips AS fraction_bad FROM all_bad_trips\n",
    "ORDER BY fraction_bad DESC"
   ]
  },
  {
   "cell_type": "code",
   "execution_count": 18,
   "metadata": {},
   "outputs": [
    {
     "data": {
      "text/html": [
       "<div>\n",
       "<style scoped>\n",
       "    .dataframe tbody tr th:only-of-type {\n",
       "        vertical-align: middle;\n",
       "    }\n",
       "\n",
       "    .dataframe tbody tr th {\n",
       "        vertical-align: top;\n",
       "    }\n",
       "\n",
       "    .dataframe thead th {\n",
       "        text-align: right;\n",
       "    }\n",
       "</style>\n",
       "<table border=\"1\" class=\"dataframe\">\n",
       "  <thead>\n",
       "    <tr style=\"text-align: right;\">\n",
       "      <th></th>\n",
       "      <th>start_station_name</th>\n",
       "      <th>bad_trips</th>\n",
       "      <th>num_trips</th>\n",
       "      <th>fraction_bad</th>\n",
       "    </tr>\n",
       "  </thead>\n",
       "  <tbody>\n",
       "    <tr>\n",
       "      <th>0</th>\n",
       "      <td>Contact Centre, Southbury House</td>\n",
       "      <td>20</td>\n",
       "      <td>48</td>\n",
       "      <td>0.416667</td>\n",
       "    </tr>\n",
       "    <tr>\n",
       "      <th>1</th>\n",
       "      <td>Monier Road, Newham</td>\n",
       "      <td>1</td>\n",
       "      <td>25</td>\n",
       "      <td>0.040000</td>\n",
       "    </tr>\n",
       "    <tr>\n",
       "      <th>2</th>\n",
       "      <td>Aberfeldy Street, Poplar</td>\n",
       "      <td>35</td>\n",
       "      <td>955</td>\n",
       "      <td>0.036649</td>\n",
       "    </tr>\n",
       "    <tr>\n",
       "      <th>3</th>\n",
       "      <td>Ormonde Gate, Chelsea</td>\n",
       "      <td>315</td>\n",
       "      <td>8932</td>\n",
       "      <td>0.035266</td>\n",
       "    </tr>\n",
       "    <tr>\n",
       "      <th>4</th>\n",
       "      <td>Thornfield House, Poplar</td>\n",
       "      <td>28</td>\n",
       "      <td>947</td>\n",
       "      <td>0.029567</td>\n",
       "    </tr>\n",
       "  </tbody>\n",
       "</table>\n",
       "</div>"
      ],
      "text/plain": [
       "                start_station_name  bad_trips  num_trips  fraction_bad\n",
       "0  Contact Centre, Southbury House         20         48      0.416667\n",
       "1              Monier Road, Newham          1         25      0.040000\n",
       "2         Aberfeldy Street, Poplar         35        955      0.036649\n",
       "3            Ormonde Gate, Chelsea        315       8932      0.035266\n",
       "4         Thornfield House, Poplar         28        947      0.029567"
      ]
     },
     "execution_count": 18,
     "metadata": {},
     "output_type": "execute_result"
    }
   ],
   "source": [
    "badtrips.head()"
   ]
  },
  {
   "cell_type": "code",
   "execution_count": 19,
   "metadata": {},
   "outputs": [
    {
     "data": {
      "text/plain": [
       "<matplotlib.axes._subplots.AxesSubplot at 0x7fcbe59342b0>"
      ]
     },
     "execution_count": 19,
     "metadata": {},
     "output_type": "execute_result"
    },
    {
     "data": {
      "image/png": "[encoded data removed]",
      "text/plain": [
       "<Figure size 432x288 with 1 Axes>"
      ]
     },
     "metadata": {
      "needs_background": "light"
     },
     "output_type": "display_data"
    }
   ],
   "source": [
    "badtrips.plot.scatter('num_trips', 'fraction_bad')"
   ]
  },
  {
   "cell_type": "markdown",
   "metadata": {},
   "source": [
    "一位の0.4は外れ値だった"
   ]
  },
  {
   "cell_type": "markdown",
   "metadata": {},
   "source": [
    "### 全体傾向を調べる"
   ]
  },
  {
   "cell_type": "code",
   "execution_count": 24,
   "metadata": {},
   "outputs": [
    {
     "data": {
      "text/plain": [
       "(0, 0.05)"
      ]
     },
     "execution_count": 24,
     "metadata": {},
     "output_type": "execute_result"
    },
    {
     "data": {
      "image/png": "[encoded data removed]",
      "text/plain": [
       "<Figure size 432x288 with 1 Axes>"
      ]
     },
     "metadata": {},
     "output_type": "display_data"
    }
   ],
   "source": [
    "ax = sns.regplot(x='num_trips', y='fraction_bad', data=badtrips)\n",
    "ax.set_ylim(0,0.05)"
   ]
  },
  {
   "cell_type": "markdown",
   "metadata": {},
   "source": [
    "貸出が多い店舗のほうが多忙になるような貸出は少ない"
   ]
  },
  {
   "cell_type": "markdown",
   "metadata": {},
   "source": [
    "### percentileで区切り、bandごとにworst 5を抽出"
   ]
  },
  {
   "cell_type": "code",
   "execution_count": 39,
   "metadata": {},
   "outputs": [
    {
     "data": {
      "text/html": [
       "<div>\n",
       "<style scoped>\n",
       "    .dataframe tbody tr th:only-of-type {\n",
       "        vertical-align: middle;\n",
       "    }\n",
       "\n",
       "    .dataframe tbody tr th {\n",
       "        vertical-align: top;\n",
       "    }\n",
       "\n",
       "    .dataframe thead th {\n",
       "        text-align: right;\n",
       "    }\n",
       "</style>\n",
       "<table border=\"1\" class=\"dataframe\">\n",
       "  <thead>\n",
       "    <tr style=\"text-align: right;\">\n",
       "      <th></th>\n",
       "      <th></th>\n",
       "      <th>start_station_name</th>\n",
       "      <th>bad_trips</th>\n",
       "      <th>num_trips</th>\n",
       "      <th>fraction_bad</th>\n",
       "      <th>band</th>\n",
       "    </tr>\n",
       "    <tr>\n",
       "      <th>band</th>\n",
       "      <th></th>\n",
       "      <th></th>\n",
       "      <th></th>\n",
       "      <th></th>\n",
       "      <th></th>\n",
       "      <th></th>\n",
       "    </tr>\n",
       "  </thead>\n",
       "  <tbody>\n",
       "    <tr>\n",
       "      <th rowspan=\"5\" valign=\"top\">(10.999, 4826.4]</th>\n",
       "      <th>0</th>\n",
       "      <td>Contact Centre, Southbury House</td>\n",
       "      <td>20</td>\n",
       "      <td>48</td>\n",
       "      <td>0.416667</td>\n",
       "      <td>(10.999, 4826.4]</td>\n",
       "    </tr>\n",
       "    <tr>\n",
       "      <th>1</th>\n",
       "      <td>Monier Road, Newham</td>\n",
       "      <td>1</td>\n",
       "      <td>25</td>\n",
       "      <td>0.040000</td>\n",
       "      <td>(10.999, 4826.4]</td>\n",
       "    </tr>\n",
       "    <tr>\n",
       "      <th>2</th>\n",
       "      <td>Aberfeldy Street, Poplar</td>\n",
       "      <td>35</td>\n",
       "      <td>955</td>\n",
       "      <td>0.036649</td>\n",
       "      <td>(10.999, 4826.4]</td>\n",
       "    </tr>\n",
       "    <tr>\n",
       "      <th>4</th>\n",
       "      <td>Thornfield House, Poplar</td>\n",
       "      <td>28</td>\n",
       "      <td>947</td>\n",
       "      <td>0.029567</td>\n",
       "      <td>(10.999, 4826.4]</td>\n",
       "    </tr>\n",
       "    <tr>\n",
       "      <th>5</th>\n",
       "      <td>Langdon Park, Poplar</td>\n",
       "      <td>74</td>\n",
       "      <td>2724</td>\n",
       "      <td>0.027166</td>\n",
       "      <td>(10.999, 4826.4]</td>\n",
       "    </tr>\n",
       "    <tr>\n",
       "      <th rowspan=\"5\" valign=\"top\">(4826.4, 8511.8]</th>\n",
       "      <th>6</th>\n",
       "      <td>River Street , Clerkenwell</td>\n",
       "      <td>221</td>\n",
       "      <td>8279</td>\n",
       "      <td>0.026694</td>\n",
       "      <td>(4826.4, 8511.8]</td>\n",
       "    </tr>\n",
       "    <tr>\n",
       "      <th>9</th>\n",
       "      <td>Courland Grove, Wandsworth Road</td>\n",
       "      <td>105</td>\n",
       "      <td>5369</td>\n",
       "      <td>0.019557</td>\n",
       "      <td>(4826.4, 8511.8]</td>\n",
       "    </tr>\n",
       "    <tr>\n",
       "      <th>10</th>\n",
       "      <td>Stanley Grove, Battersea</td>\n",
       "      <td>92</td>\n",
       "      <td>4882</td>\n",
       "      <td>0.018845</td>\n",
       "      <td>(4826.4, 8511.8]</td>\n",
       "    </tr>\n",
       "    <tr>\n",
       "      <th>12</th>\n",
       "      <td>Southern Grove, Bow</td>\n",
       "      <td>112</td>\n",
       "      <td>6152</td>\n",
       "      <td>0.018205</td>\n",
       "      <td>(4826.4, 8511.8]</td>\n",
       "    </tr>\n",
       "    <tr>\n",
       "      <th>18</th>\n",
       "      <td>Richmond Way, Shepherd's Bush</td>\n",
       "      <td>126</td>\n",
       "      <td>8149</td>\n",
       "      <td>0.015462</td>\n",
       "      <td>(4826.4, 8511.8]</td>\n",
       "    </tr>\n",
       "    <tr>\n",
       "      <th rowspan=\"5\" valign=\"top\">(8511.8, 11502.6]</th>\n",
       "      <th>3</th>\n",
       "      <td>Ormonde Gate, Chelsea</td>\n",
       "      <td>315</td>\n",
       "      <td>8932</td>\n",
       "      <td>0.035266</td>\n",
       "      <td>(8511.8, 11502.6]</td>\n",
       "    </tr>\n",
       "    <tr>\n",
       "      <th>41</th>\n",
       "      <td>Emperor's Gate, South Kensington</td>\n",
       "      <td>136</td>\n",
       "      <td>10554</td>\n",
       "      <td>0.012886</td>\n",
       "      <td>(8511.8, 11502.6]</td>\n",
       "    </tr>\n",
       "    <tr>\n",
       "      <th>53</th>\n",
       "      <td>Chepstow Villas, Notting Hill</td>\n",
       "      <td>135</td>\n",
       "      <td>11038</td>\n",
       "      <td>0.012230</td>\n",
       "      <td>(8511.8, 11502.6]</td>\n",
       "    </tr>\n",
       "    <tr>\n",
       "      <th>57</th>\n",
       "      <td>Salmon Lane, Limehouse</td>\n",
       "      <td>113</td>\n",
       "      <td>9345</td>\n",
       "      <td>0.012092</td>\n",
       "      <td>(8511.8, 11502.6]</td>\n",
       "    </tr>\n",
       "    <tr>\n",
       "      <th>63</th>\n",
       "      <td>Greyhound Road, Hammersmith</td>\n",
       "      <td>118</td>\n",
       "      <td>9998</td>\n",
       "      <td>0.011802</td>\n",
       "      <td>(8511.8, 11502.6]</td>\n",
       "    </tr>\n",
       "    <tr>\n",
       "      <th rowspan=\"5\" valign=\"top\">(11502.6, 16509.2]</th>\n",
       "      <th>35</th>\n",
       "      <td>Hertford Road, De Beauvoir Town</td>\n",
       "      <td>195</td>\n",
       "      <td>14188</td>\n",
       "      <td>0.013744</td>\n",
       "      <td>(11502.6, 16509.2]</td>\n",
       "    </tr>\n",
       "    <tr>\n",
       "      <th>39</th>\n",
       "      <td>Bramham Gardens, Earl's Court</td>\n",
       "      <td>212</td>\n",
       "      <td>16178</td>\n",
       "      <td>0.013104</td>\n",
       "      <td>(11502.6, 16509.2]</td>\n",
       "    </tr>\n",
       "    <tr>\n",
       "      <th>62</th>\n",
       "      <td>Lancaster Gate , Bayswater</td>\n",
       "      <td>172</td>\n",
       "      <td>14554</td>\n",
       "      <td>0.011818</td>\n",
       "      <td>(11502.6, 16509.2]</td>\n",
       "    </tr>\n",
       "    <tr>\n",
       "      <th>75</th>\n",
       "      <td>Ilchester Gardens, Bayswater</td>\n",
       "      <td>159</td>\n",
       "      <td>14137</td>\n",
       "      <td>0.011247</td>\n",
       "      <td>(11502.6, 16509.2]</td>\n",
       "    </tr>\n",
       "    <tr>\n",
       "      <th>80</th>\n",
       "      <td>Westfield Library Corner, Shepherd's Bush</td>\n",
       "      <td>126</td>\n",
       "      <td>11517</td>\n",
       "      <td>0.010940</td>\n",
       "      <td>(11502.6, 16509.2]</td>\n",
       "    </tr>\n",
       "    <tr>\n",
       "      <th rowspan=\"5\" valign=\"top\">(16509.2, 95740.0]</th>\n",
       "      <th>25</th>\n",
       "      <td>Queen's Gate, Kensington Gardens</td>\n",
       "      <td>396</td>\n",
       "      <td>27457</td>\n",
       "      <td>0.014423</td>\n",
       "      <td>(16509.2, 95740.0]</td>\n",
       "    </tr>\n",
       "    <tr>\n",
       "      <th>74</th>\n",
       "      <td>Speakers' Corner 2, Hyde Park</td>\n",
       "      <td>468</td>\n",
       "      <td>41107</td>\n",
       "      <td>0.011385</td>\n",
       "      <td>(16509.2, 95740.0]</td>\n",
       "    </tr>\n",
       "    <tr>\n",
       "      <th>76</th>\n",
       "      <td>Cumberland Gate, Hyde Park</td>\n",
       "      <td>303</td>\n",
       "      <td>26981</td>\n",
       "      <td>0.011230</td>\n",
       "      <td>(16509.2, 95740.0]</td>\n",
       "    </tr>\n",
       "    <tr>\n",
       "      <th>77</th>\n",
       "      <td>Albert Gate, Hyde Park</td>\n",
       "      <td>729</td>\n",
       "      <td>66547</td>\n",
       "      <td>0.010955</td>\n",
       "      <td>(16509.2, 95740.0]</td>\n",
       "    </tr>\n",
       "    <tr>\n",
       "      <th>82</th>\n",
       "      <td>Triangle Car Park, Hyde Park</td>\n",
       "      <td>454</td>\n",
       "      <td>41675</td>\n",
       "      <td>0.010894</td>\n",
       "      <td>(16509.2, 95740.0]</td>\n",
       "    </tr>\n",
       "  </tbody>\n",
       "</table>\n",
       "</div>"
      ],
      "text/plain": [
       "                                              start_station_name  bad_trips  \\\n",
       "band                                                                          \n",
       "(10.999, 4826.4]   0             Contact Centre, Southbury House         20   \n",
       "                   1                         Monier Road, Newham          1   \n",
       "                   2                    Aberfeldy Street, Poplar         35   \n",
       "                   4                    Thornfield House, Poplar         28   \n",
       "                   5                        Langdon Park, Poplar         74   \n",
       "(4826.4, 8511.8]   6                  River Street , Clerkenwell        221   \n",
       "                   9             Courland Grove, Wandsworth Road        105   \n",
       "                   10                   Stanley Grove, Battersea         92   \n",
       "                   12                        Southern Grove, Bow        112   \n",
       "                   18              Richmond Way, Shepherd's Bush        126   \n",
       "(8511.8, 11502.6]  3                       Ormonde Gate, Chelsea        315   \n",
       "                   41           Emperor's Gate, South Kensington        136   \n",
       "                   53              Chepstow Villas, Notting Hill        135   \n",
       "                   57                     Salmon Lane, Limehouse        113   \n",
       "                   63                Greyhound Road, Hammersmith        118   \n",
       "(11502.6, 16509.2] 35            Hertford Road, De Beauvoir Town        195   \n",
       "                   39              Bramham Gardens, Earl's Court        212   \n",
       "                   62                 Lancaster Gate , Bayswater        172   \n",
       "                   75               Ilchester Gardens, Bayswater        159   \n",
       "                   80  Westfield Library Corner, Shepherd's Bush        126   \n",
       "(16509.2, 95740.0] 25           Queen's Gate, Kensington Gardens        396   \n",
       "                   74              Speakers' Corner 2, Hyde Park        468   \n",
       "                   76                 Cumberland Gate, Hyde Park        303   \n",
       "                   77                     Albert Gate, Hyde Park        729   \n",
       "                   82               Triangle Car Park, Hyde Park        454   \n",
       "\n",
       "                       num_trips  fraction_bad                band  \n",
       "band                                                                \n",
       "(10.999, 4826.4]   0          48      0.416667    (10.999, 4826.4]  \n",
       "                   1          25      0.040000    (10.999, 4826.4]  \n",
       "                   2         955      0.036649    (10.999, 4826.4]  \n",
       "                   4         947      0.029567    (10.999, 4826.4]  \n",
       "                   5        2724      0.027166    (10.999, 4826.4]  \n",
       "(4826.4, 8511.8]   6        8279      0.026694    (4826.4, 8511.8]  \n",
       "                   9        5369      0.019557    (4826.4, 8511.8]  \n",
       "                   10       4882      0.018845    (4826.4, 8511.8]  \n",
       "                   12       6152      0.018205    (4826.4, 8511.8]  \n",
       "                   18       8149      0.015462    (4826.4, 8511.8]  \n",
       "(8511.8, 11502.6]  3        8932      0.035266   (8511.8, 11502.6]  \n",
       "                   41      10554      0.012886   (8511.8, 11502.6]  \n",
       "                   53      11038      0.012230   (8511.8, 11502.6]  \n",
       "                   57       9345      0.012092   (8511.8, 11502.6]  \n",
       "                   63       9998      0.011802   (8511.8, 11502.6]  \n",
       "(11502.6, 16509.2] 35      14188      0.013744  (11502.6, 16509.2]  \n",
       "                   39      16178      0.013104  (11502.6, 16509.2]  \n",
       "                   62      14554      0.011818  (11502.6, 16509.2]  \n",
       "                   75      14137      0.011247  (11502.6, 16509.2]  \n",
       "                   80      11517      0.010940  (11502.6, 16509.2]  \n",
       "(16509.2, 95740.0] 25      27457      0.014423  (16509.2, 95740.0]  \n",
       "                   74      41107      0.011385  (16509.2, 95740.0]  \n",
       "                   76      26981      0.011230  (16509.2, 95740.0]  \n",
       "                   77      66547      0.010955  (16509.2, 95740.0]  \n",
       "                   82      41675      0.010894  (16509.2, 95740.0]  "
      ]
     },
     "execution_count": 39,
     "metadata": {},
     "output_type": "execute_result"
    }
   ],
   "source": [
    "badtrips['band']=pd.qcut(badtrips['num_trips'], 5)\n",
    "badtrips.groupby('band').apply(lambda x:x.sort_values('fraction_bad', ascending=False).head())"
   ]
  },
  {
   "cell_type": "code",
   "execution_count": null,
   "metadata": {},
   "outputs": [],
   "source": []
  }
 ],
 "metadata": {
  "kernelspec": {
   "display_name": "Python 3",
   "language": "python",
   "name": "python3"
  },
  "language_info": {
   "codemirror_mode": {
    "name": "ipython",
    "version": 3
   },
   "file_extension": ".py",
   "mimetype": "text/x-python",
   "name": "python",
   "nbconvert_exporter": "python",
   "pygments_lexer": "ipython3",
   "version": "3.5.3"
  }
 },
 "nbformat": 4,
 "nbformat_minor": 2
}
