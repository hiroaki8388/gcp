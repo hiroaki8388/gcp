{
 "cells": [
  {
   "cell_type": "markdown",
   "metadata": {},
   "source": [
    "# BQMLに新たに追加されたTRANSFORM句で、予測時のモデルの前処理を自動的に行う"
   ]
  },
  {
   "cell_type": "markdown",
   "metadata": {},
   "source": [
    "# これなに?"
   ]
  },
  {
   "cell_type": "markdown",
   "metadata": {},
   "source": [
    "BQMLに新たに築かされた`TRANSFORM`句についての解説記事です。2019/12/2時点で、まだ日本語の公式ドキュメントが存在しないことから、記事にしようと思いました。なお、現時点ではまだこの機能は`Beta`です。[英語の公式ドキュメント](https://cloud.google.com/bigquery-ml/docs/reference/standard-sql/bigqueryml-syntax-create)は存在するので、興味があれば、こちらも参考することをお勧めします。"
   ]
  },
  {
   "cell_type": "markdown",
   "metadata": {},
   "source": [
    "# TRANSFORM句とは?"
   ]
  },
  {
   "cell_type": "markdown",
   "metadata": {},
   "source": [
    "**行いたい前処理をモデル構築時に定義し、予測、評価時に自動的に実行する**ためにしようするSQLの句(clause)です。  \n",
    "これにより、BQMLで作成するアルゴリズムとそれに伴う前処理を一体化させ、モデルを構築することができます。"
   ]
  },
  {
   "cell_type": "markdown",
   "metadata": {},
   "source": [
    "# 具体例"
   ]
  },
  {
   "cell_type": "markdown",
   "metadata": {},
   "source": [
    "今回は例として、`bigquery-public-data.samples.natality` 配下にある、新生児のデータを使用し、出産時の体重を目的変数とするモデルを構築してみたいと思います"
   ]
  },
  {
   "cell_type": "code",
   "execution_count": 24,
   "metadata": {},
   "outputs": [
    {
     "data": {
      "text/html": [
       "<div>\n",
       "<style scoped>\n",
       "    .dataframe tbody tr th:only-of-type {\n",
       "        vertical-align: middle;\n",
       "    }\n",
       "\n",
       "    .dataframe tbody tr th {\n",
       "        vertical-align: top;\n",
       "    }\n",
       "\n",
       "    .dataframe thead th {\n",
       "        text-align: right;\n",
       "    }\n",
       "</style>\n",
       "<table border=\"1\" class=\"dataframe\">\n",
       "  <thead>\n",
       "    <tr style=\"text-align: right;\">\n",
       "      <th></th>\n",
       "      <th>weight_pounds</th>\n",
       "      <th>is_male</th>\n",
       "      <th>plurality</th>\n",
       "      <th>gestation_weeks</th>\n",
       "      <th>alcohol_use</th>\n",
       "      <th>cigarette_use</th>\n",
       "    </tr>\n",
       "  </thead>\n",
       "  <tbody>\n",
       "    <tr>\n",
       "      <td>0</td>\n",
       "      <td>7.625790</td>\n",
       "      <td>True</td>\n",
       "      <td>NaN</td>\n",
       "      <td>38</td>\n",
       "      <td>None</td>\n",
       "      <td>None</td>\n",
       "    </tr>\n",
       "    <tr>\n",
       "      <td>1</td>\n",
       "      <td>7.438397</td>\n",
       "      <td>False</td>\n",
       "      <td>1.0</td>\n",
       "      <td>38</td>\n",
       "      <td>None</td>\n",
       "      <td>None</td>\n",
       "    </tr>\n",
       "    <tr>\n",
       "      <td>2</td>\n",
       "      <td>8.437091</td>\n",
       "      <td>False</td>\n",
       "      <td>1.0</td>\n",
       "      <td>41</td>\n",
       "      <td>None</td>\n",
       "      <td>None</td>\n",
       "    </tr>\n",
       "    <tr>\n",
       "      <td>3</td>\n",
       "      <td>7.374463</td>\n",
       "      <td>True</td>\n",
       "      <td>1.0</td>\n",
       "      <td>99</td>\n",
       "      <td>None</td>\n",
       "      <td>None</td>\n",
       "    </tr>\n",
       "    <tr>\n",
       "      <td>4</td>\n",
       "      <td>5.813590</td>\n",
       "      <td>False</td>\n",
       "      <td>1.0</td>\n",
       "      <td>99</td>\n",
       "      <td>None</td>\n",
       "      <td>None</td>\n",
       "    </tr>\n",
       "  </tbody>\n",
       "</table>\n",
       "</div>"
      ],
      "text/plain": [
       "   weight_pounds  is_male  plurality  gestation_weeks alcohol_use  \\\n",
       "0       7.625790     True        NaN               38        None   \n",
       "1       7.438397    False        1.0               38        None   \n",
       "2       8.437091    False        1.0               41        None   \n",
       "3       7.374463     True        1.0               99        None   \n",
       "4       5.813590    False        1.0               99        None   \n",
       "\n",
       "  cigarette_use  \n",
       "0          None  \n",
       "1          None  \n",
       "2          None  \n",
       "3          None  \n",
       "4          None  "
      ]
     },
     "execution_count": 24,
     "metadata": {},
     "output_type": "execute_result"
    }
   ],
   "source": [
    "% % bigquery --project $PROJECT\n",
    "SELECT\n",
    "  weight_pounds,\n",
    "  -- 目的変数\n",
    "  is_male,\n",
    "  plurality,\n",
    "  --一回の妊娠で生まれた子供の数\n",
    "  gestation_weeks,\n",
    "  -- 妊娠期間\n",
    "  alcohol_use,\n",
    "  -- 母親が飲酒してたか\n",
    "  cigarette_use -- 母親がタバコを吸っていたか\n",
    "FROM\n",
    "  `bigquery-public-data.samples.natality`\n",
    "LIMIT\n",
    "  5"
   ]
  },
  {
   "cell_type": "markdown",
   "metadata": {},
   "source": [
    "BQMLの場合、そのままデータを入力しても基本的な前処理は自動で行ってくれますが、自分で特徴量を作成したほうがより良い精度が期待できます。\n",
    "そこで、以下のような特徴量を作成します。\n",
    "- 多胎児で生まれたか否か\n",
    "- 妊娠期間が37-42週に当てはまっているかどうか\n",
    "- (母親が)アルコールを摂取していたかと、タバコを吸っていたかの交差特徴量"
   ]
  },
  {
   "cell_type": "code",
   "execution_count": 40,
   "metadata": {},
   "outputs": [
    {
     "data": {
      "text/html": [
       "<div>\n",
       "<style scoped>\n",
       "    .dataframe tbody tr th:only-of-type {\n",
       "        vertical-align: middle;\n",
       "    }\n",
       "\n",
       "    .dataframe tbody tr th {\n",
       "        vertical-align: top;\n",
       "    }\n",
       "\n",
       "    .dataframe thead th {\n",
       "        text-align: right;\n",
       "    }\n",
       "</style>\n",
       "<table border=\"1\" class=\"dataframe\">\n",
       "  <thead>\n",
       "    <tr style=\"text-align: right;\">\n",
       "      <th></th>\n",
       "      <th>weight_pounds</th>\n",
       "      <th>is_male</th>\n",
       "      <th>plurality</th>\n",
       "      <th>is_plurality</th>\n",
       "      <th>bined_gestation_weeks</th>\n",
       "      <th>gestation_weeks</th>\n",
       "      <th>alcohol_cigarette_use</th>\n",
       "    </tr>\n",
       "  </thead>\n",
       "  <tbody>\n",
       "    <tr>\n",
       "      <td>0</td>\n",
       "      <td>8.911085</td>\n",
       "      <td>False</td>\n",
       "      <td>1</td>\n",
       "      <td>0</td>\n",
       "      <td>bin_2</td>\n",
       "      <td>40</td>\n",
       "      <td>{'alcohol_use_cigarette_use': None}</td>\n",
       "    </tr>\n",
       "    <tr>\n",
       "      <td>1</td>\n",
       "      <td>8.146081</td>\n",
       "      <td>True</td>\n",
       "      <td>1</td>\n",
       "      <td>0</td>\n",
       "      <td>bin_2</td>\n",
       "      <td>39</td>\n",
       "      <td>{'alcohol_use_cigarette_use': None}</td>\n",
       "    </tr>\n",
       "    <tr>\n",
       "      <td>2</td>\n",
       "      <td>5.485101</td>\n",
       "      <td>True</td>\n",
       "      <td>1</td>\n",
       "      <td>0</td>\n",
       "      <td>bin_1</td>\n",
       "      <td>35</td>\n",
       "      <td>{'alcohol_use_cigarette_use': None}</td>\n",
       "    </tr>\n",
       "    <tr>\n",
       "      <td>3</td>\n",
       "      <td>7.098885</td>\n",
       "      <td>False</td>\n",
       "      <td>1</td>\n",
       "      <td>0</td>\n",
       "      <td>bin_2</td>\n",
       "      <td>37</td>\n",
       "      <td>{'alcohol_use_cigarette_use': None}</td>\n",
       "    </tr>\n",
       "    <tr>\n",
       "      <td>4</td>\n",
       "      <td>8.463546</td>\n",
       "      <td>True</td>\n",
       "      <td>1</td>\n",
       "      <td>0</td>\n",
       "      <td>bin_3</td>\n",
       "      <td>43</td>\n",
       "      <td>{'alcohol_use_cigarette_use': None}</td>\n",
       "    </tr>\n",
       "  </tbody>\n",
       "</table>\n",
       "</div>"
      ],
      "text/plain": [
       "   weight_pounds  is_male  plurality  is_plurality bined_gestation_weeks  \\\n",
       "0       8.911085    False          1             0                 bin_2   \n",
       "1       8.146081     True          1             0                 bin_2   \n",
       "2       5.485101     True          1             0                 bin_1   \n",
       "3       7.098885    False          1             0                 bin_2   \n",
       "4       8.463546     True          1             0                 bin_3   \n",
       "\n",
       "   gestation_weeks                alcohol_cigarette_use  \n",
       "0               40  {'alcohol_use_cigarette_use': None}  \n",
       "1               39  {'alcohol_use_cigarette_use': None}  \n",
       "2               35  {'alcohol_use_cigarette_use': None}  \n",
       "3               37  {'alcohol_use_cigarette_use': None}  \n",
       "4               43  {'alcohol_use_cigarette_use': None}  "
      ]
     },
     "execution_count": 40,
     "metadata": {},
     "output_type": "execute_result"
    }
   ],
   "source": [
    "%%bigquery --project $PROJECT\n",
    "SELECT\n",
    "  weight_pounds,\n",
    "  is_male,\n",
    " \n",
    "  IF(plurality > 1, 1, 0) AS is_plurality,\n",
    "  ML.BUCKETIZE(gestation_weeks, [37, 42]) AS bined_gestation_weeks,\n",
    "  ML.FEATURE_CROSS(\n",
    "    STRUCT(\n",
    "      CAST(alcohol_use AS STRING) AS alcohol_use,\n",
    "      CAST(cigarette_use AS STRING) AS cigarette_use\n",
    "    )\n",
    "  ) AS alcohol_cigarette_use\n",
    "FROM\n",
    "  `bigquery-public-data.samples.natality`\n",
    "WHERE alcohol_use is not null\n",
    "LIMIT\n",
    "  5"
   ]
  },
  {
   "cell_type": "markdown",
   "metadata": {},
   "source": [
    "上記の関数については、[公式ドキュメント](https://cloud.google.com/bigquery-ml/docs/reference/standard-sql/bigqueryml-preprocessing-functions?hl=ja)か、[以前の記事](https://qiita.com/Hase8388/items/5fcc9f056d44105d186e)を参照してください。"
   ]
  },
  {
   "cell_type": "markdown",
   "metadata": {},
   "source": [
    "さて、問題は、ここからです。上記の処理をした上でモデルに食わせ、学習させる必要がありますが、**そのままだと、予測時に,もう一度同じ前処理を行った上でモデルに入力する必要がありました**これだと、二度同じ処理が発生するともに、うっかり学習時と違う処理をしてしまうことで、面倒なバグを生む温床になりかねません"
   ]
  },
  {
   "cell_type": "code",
   "execution_count": null,
   "metadata": {},
   "outputs": [],
   "source": [
    "-- TRANSFORM句を使わない場合"
   ]
  },
  {
   "cell_type": "markdown",
   "metadata": {},
   "source": []
  },
  {
   "cell_type": "code",
   "execution_count": null,
   "metadata": {},
   "outputs": [],
   "source": [
    "## TRANSFORMを使う"
   ]
  }
 ],
 "metadata": {
  "kernelspec": {
   "display_name": "Python 3",
   "language": "python",
   "name": "python3"
  },
  "language_info": {
   "codemirror_mode": {
    "name": "ipython",
    "version": 3
   },
   "file_extension": ".py",
   "mimetype": "text/x-python",
   "name": "python",
   "nbconvert_exporter": "python",
   "pygments_lexer": "ipython3",
   "version": "3.7.1"
  }
 },
 "nbformat": 4,
 "nbformat_minor": 4
}
