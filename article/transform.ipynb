{
 "cells": [
  {
   "cell_type": "markdown",
   "metadata": {},
   "source": [
    "# BQMLに新たに追加されたTRANSFORM句で、予測時のモデルの前処理を自動的に行う"
   ]
  },
  {
   "cell_type": "markdown",
   "metadata": {},
   "source": [
    "# これなに?"
   ]
  },
  {
   "cell_type": "markdown",
   "metadata": {},
   "source": [
    "BQMLに新たに追加かされた`TRANSFORM`句についての解説記事です。2019/12/2時点で、まだ日本語の公式ドキュメントが存在しないことから、記事にしようと思いました。なお、現時点ではまだこの機能は`Beta`です。[英語の公式ドキュメント](https://cloud.google.com/bigquery-ml/docs/reference/standard-sql/bigqueryml-syntax-create)は存在するので、興味があれば、こちらも参考することをお勧めします。  \n",
    "今回の記事では、BigQuery(ML)の基本事項は一切説明しません。BQMLで使用できる関数などについては[前記事](https://qiita.com/Hase8388/items/5631ffd31380fb5337c8)を参照してください。"
   ]
  },
  {
   "cell_type": "markdown",
   "metadata": {},
   "source": [
    "# TRANSFORM句とは?"
   ]
  },
  {
   "cell_type": "markdown",
   "metadata": {},
   "source": [
    "**行いたい前処理をモデル構築時に定義し、予測、評価時に自動的に実行する**ためにしようするSQLの句(clause)です。  \n",
    "これにより、BQMLで作成するアルゴリズムとそれに伴う前処理を一体化させ、モデルを構築することができます。"
   ]
  },
  {
   "cell_type": "markdown",
   "metadata": {},
   "source": [
    "TODO イメージ図"
   ]
  },
  {
   "cell_type": "markdown",
   "metadata": {},
   "source": [
    "# 具体例"
   ]
  },
  {
   "cell_type": "markdown",
   "metadata": {},
   "source": [
    "今回は例として、`bigquery-public-data.samples.natality` 配下にある、新生児のデータを使用し、出産時の体重を目的変数とするモデルを構築してみたいと思います"
   ]
  },
  {
   "cell_type": "code",
   "execution_count": 24,
   "metadata": {},
   "outputs": [
    {
     "data": {
      "text/html": [
       "<div>\n",
       "<style scoped>\n",
       "    .dataframe tbody tr th:only-of-type {\n",
       "        vertical-align: middle;\n",
       "    }\n",
       "\n",
       "    .dataframe tbody tr th {\n",
       "        vertical-align: top;\n",
       "    }\n",
       "\n",
       "    .dataframe thead th {\n",
       "        text-align: right;\n",
       "    }\n",
       "</style>\n",
       "<table border=\"1\" class=\"dataframe\">\n",
       "  <thead>\n",
       "    <tr style=\"text-align: right;\">\n",
       "      <th></th>\n",
       "      <th>weight_pounds</th>\n",
       "      <th>is_male</th>\n",
       "      <th>plurality</th>\n",
       "      <th>gestation_weeks</th>\n",
       "      <th>alcohol_use</th>\n",
       "      <th>cigarette_use</th>\n",
       "    </tr>\n",
       "  </thead>\n",
       "  <tbody>\n",
       "    <tr>\n",
       "      <td>0</td>\n",
       "      <td>7.625790</td>\n",
       "      <td>True</td>\n",
       "      <td>NaN</td>\n",
       "      <td>38</td>\n",
       "      <td>None</td>\n",
       "      <td>None</td>\n",
       "    </tr>\n",
       "    <tr>\n",
       "      <td>1</td>\n",
       "      <td>7.438397</td>\n",
       "      <td>False</td>\n",
       "      <td>1.0</td>\n",
       "      <td>38</td>\n",
       "      <td>None</td>\n",
       "      <td>None</td>\n",
       "    </tr>\n",
       "    <tr>\n",
       "      <td>2</td>\n",
       "      <td>8.437091</td>\n",
       "      <td>False</td>\n",
       "      <td>1.0</td>\n",
       "      <td>41</td>\n",
       "      <td>None</td>\n",
       "      <td>None</td>\n",
       "    </tr>\n",
       "    <tr>\n",
       "      <td>3</td>\n",
       "      <td>7.374463</td>\n",
       "      <td>True</td>\n",
       "      <td>1.0</td>\n",
       "      <td>99</td>\n",
       "      <td>None</td>\n",
       "      <td>None</td>\n",
       "    </tr>\n",
       "    <tr>\n",
       "      <td>4</td>\n",
       "      <td>5.813590</td>\n",
       "      <td>False</td>\n",
       "      <td>1.0</td>\n",
       "      <td>99</td>\n",
       "      <td>None</td>\n",
       "      <td>None</td>\n",
       "    </tr>\n",
       "  </tbody>\n",
       "</table>\n",
       "</div>"
      ],
      "text/plain": [
       "   weight_pounds  is_male  plurality  gestation_weeks alcohol_use  \\\n",
       "0       7.625790     True        NaN               38        None   \n",
       "1       7.438397    False        1.0               38        None   \n",
       "2       8.437091    False        1.0               41        None   \n",
       "3       7.374463     True        1.0               99        None   \n",
       "4       5.813590    False        1.0               99        None   \n",
       "\n",
       "  cigarette_use  \n",
       "0          None  \n",
       "1          None  \n",
       "2          None  \n",
       "3          None  \n",
       "4          None  "
      ]
     },
     "execution_count": 24,
     "metadata": {},
     "output_type": "execute_result"
    }
   ],
   "source": [
    "%%bigquery --project $PROJECT\n",
    "SELECT\n",
    "  weight_pounds,\n",
    "  -- 目的変数\n",
    "  is_male,\n",
    "  plurality,\n",
    "  --一回の妊娠で生まれた子供の数\n",
    "  gestation_weeks,\n",
    "  -- 妊娠期間\n",
    "  alcohol_use,\n",
    "  -- 母親が飲酒してたか\n",
    "  cigarette_use -- 母親がタバコを吸っていたか\n",
    "FROM\n",
    "  `bigquery-public-data.samples.natality`\n",
    "LIMIT\n",
    "  5"
   ]
  },
  {
   "cell_type": "markdown",
   "metadata": {},
   "source": [
    "BQMLの場合、そのままデータを入力しても基本的な前処理は自動で行ってくれますが、自分で特徴量を作成したほうがより良い精度が期待できます。\n",
    "そこで、以下のような特徴量を作成します。\n",
    "- 多胎児で生まれたか否か\n",
    "- 妊娠期間が(一般的な期間である)37-42週に当てはまっているかどうか\n",
    "- (母親が)アルコールを摂取していたかと、タバコを吸っていたかの交差特徴量"
   ]
  },
  {
   "cell_type": "code",
   "execution_count": 43,
   "metadata": {},
   "outputs": [
    {
     "data": {
      "text/html": [
       "<div>\n",
       "<style scoped>\n",
       "    .dataframe tbody tr th:only-of-type {\n",
       "        vertical-align: middle;\n",
       "    }\n",
       "\n",
       "    .dataframe tbody tr th {\n",
       "        vertical-align: top;\n",
       "    }\n",
       "\n",
       "    .dataframe thead th {\n",
       "        text-align: right;\n",
       "    }\n",
       "</style>\n",
       "<table border=\"1\" class=\"dataframe\">\n",
       "  <thead>\n",
       "    <tr style=\"text-align: right;\">\n",
       "      <th></th>\n",
       "      <th>weight_pounds</th>\n",
       "      <th>is_male</th>\n",
       "      <th>plurality</th>\n",
       "      <th>gestation_weeks</th>\n",
       "      <th>alcohol_cigarette_use</th>\n",
       "    </tr>\n",
       "  </thead>\n",
       "  <tbody>\n",
       "    <tr>\n",
       "      <td>0</td>\n",
       "      <td>6.311835</td>\n",
       "      <td>False</td>\n",
       "      <td>0</td>\n",
       "      <td>bin_2</td>\n",
       "      <td>{'alcohol_use_cigarette_use': 'true_true'}</td>\n",
       "    </tr>\n",
       "    <tr>\n",
       "      <td>1</td>\n",
       "      <td>6.062712</td>\n",
       "      <td>True</td>\n",
       "      <td>0</td>\n",
       "      <td>bin_2</td>\n",
       "      <td>{'alcohol_use_cigarette_use': None}</td>\n",
       "    </tr>\n",
       "    <tr>\n",
       "      <td>2</td>\n",
       "      <td>8.728101</td>\n",
       "      <td>False</td>\n",
       "      <td>0</td>\n",
       "      <td>bin_2</td>\n",
       "      <td>{'alcohol_use_cigarette_use': 'true_true'}</td>\n",
       "    </tr>\n",
       "    <tr>\n",
       "      <td>3</td>\n",
       "      <td>6.946766</td>\n",
       "      <td>True</td>\n",
       "      <td>0</td>\n",
       "      <td>bin_2</td>\n",
       "      <td>{'alcohol_use_cigarette_use': 'true_true'}</td>\n",
       "    </tr>\n",
       "    <tr>\n",
       "      <td>4</td>\n",
       "      <td>6.999677</td>\n",
       "      <td>True</td>\n",
       "      <td>0</td>\n",
       "      <td>bin_2</td>\n",
       "      <td>{'alcohol_use_cigarette_use': 'true_true'}</td>\n",
       "    </tr>\n",
       "  </tbody>\n",
       "</table>\n",
       "</div>"
      ],
      "text/plain": [
       "   weight_pounds  is_male  plurality gestation_weeks  \\\n",
       "0       6.311835    False          0           bin_2   \n",
       "1       6.062712     True          0           bin_2   \n",
       "2       8.728101    False          0           bin_2   \n",
       "3       6.946766     True          0           bin_2   \n",
       "4       6.999677     True          0           bin_2   \n",
       "\n",
       "                        alcohol_cigarette_use  \n",
       "0  {'alcohol_use_cigarette_use': 'true_true'}  \n",
       "1         {'alcohol_use_cigarette_use': None}  \n",
       "2  {'alcohol_use_cigarette_use': 'true_true'}  \n",
       "3  {'alcohol_use_cigarette_use': 'true_true'}  \n",
       "4  {'alcohol_use_cigarette_use': 'true_true'}  "
      ]
     },
     "execution_count": 43,
     "metadata": {},
     "output_type": "execute_result"
    }
   ],
   "source": [
    "%%bigquery --project $PROJECT\n",
    "SELECT\n",
    "  weight_pounds,\n",
    "  is_male,\n",
    "  IF(plurality > 1, 1, 0) AS plurality,\n",
    "  ML.BUCKETIZE(gestation_weeks, [37, 42]) AS gestation_weeks,\n",
    "  ML.FEATURE_CROSS(\n",
    "    STRUCT(\n",
    "      CAST(alcohol_use AS STRING) AS alcohol_use,\n",
    "      CAST(cigarette_use AS STRING) AS cigarette_use\n",
    "    )\n",
    "  ) AS alcohol_cigarette_use\n",
    "FROM\n",
    "  `bigquery-public-data.samples.natality`\n",
    "LIMIT\n",
    "  5"
   ]
  },
  {
   "cell_type": "markdown",
   "metadata": {},
   "source": [
    "上記の関数については、[公式ドキュメント](https://cloud.google.com/bigquery-ml/docs/reference/standard-sql/bigqueryml-preprocessing-functions?hl=ja)か、[以前の記事](https://qiita.com/Hase8388/items/5fcc9f056d44105d186e)を参照してください。"
   ]
  },
  {
   "cell_type": "markdown",
   "metadata": {},
   "source": [
    "さて、問題はここからです。上記の処理をした上でモデルに食わせ、学習させる必要がありますが、**そのままだと、評価、予測時に,もう一度同じ前処理を行った上でモデルに入力する必要があります。**  \n",
    "これだと、二度同じ処理が発生するともに、うっかり学習時と違う処理をしてしまったりして、面倒なバグを生む温床になりかねません"
   ]
  },
  {
   "cell_type": "markdown",
   "metadata": {},
   "source": [
    "### 学習(TRANSFORM句を使わない)"
   ]
  },
  {
   "cell_type": "code",
   "execution_count": 51,
   "metadata": {},
   "outputs": [
    {
     "data": {
      "text/html": [
       "<div>\n",
       "<style scoped>\n",
       "    .dataframe tbody tr th:only-of-type {\n",
       "        vertical-align: middle;\n",
       "    }\n",
       "\n",
       "    .dataframe tbody tr th {\n",
       "        vertical-align: top;\n",
       "    }\n",
       "\n",
       "    .dataframe thead th {\n",
       "        text-align: right;\n",
       "    }\n",
       "</style>\n",
       "<table border=\"1\" class=\"dataframe\">\n",
       "  <thead>\n",
       "    <tr style=\"text-align: right;\">\n",
       "      <th></th>\n",
       "    </tr>\n",
       "  </thead>\n",
       "  <tbody>\n",
       "  </tbody>\n",
       "</table>\n",
       "</div>"
      ],
      "text/plain": [
       "Empty DataFrame\n",
       "Columns: []\n",
       "Index: []"
      ]
     },
     "execution_count": 51,
     "metadata": {},
     "output_type": "execute_result"
    }
   ],
   "source": [
    "%%bigquery --project $PROJECT\n",
    "-- TRANSFORM句を使わない場合\n",
    "CREATE MODEL `transform_tutorial.natality_model` OPTIONS (\n",
    "  model_type = 'linear_reg',\n",
    "  input_label_cols = ['weight_pounds']\n",
    ") AS\n",
    "SELECT\n",
    "  weight_pounds,\n",
    "  is_male,\n",
    "  IF(plurality > 1, 1, 0) AS plurality,\n",
    "  ML.BUCKETIZE(gestation_weeks, [37, 42]) AS gestation_weeks,\n",
    "  ML.FEATURE_CROSS(\n",
    "    STRUCT(\n",
    "      CAST(alcohol_use AS STRING) AS alcohol_use,\n",
    "      CAST(cigarette_use AS STRING) AS cigarette_use\n",
    "    )\n",
    "  ) AS alcohol_cigarette_use\n",
    "FROM\n",
    "  `bigquery-public-data.samples.natality`\n",
    "WHERE\n",
    "  weight_pounds IS NOT NULL \n",
    "  AND RAND() < 0.001 -- 適当にサンプリング"
   ]
  },
  {
   "cell_type": "markdown",
   "metadata": {},
   "source": [
    "### 予測"
   ]
  },
  {
   "cell_type": "code",
   "execution_count": 56,
   "metadata": {},
   "outputs": [
    {
     "data": {
      "text/html": [
       "<div>\n",
       "<style scoped>\n",
       "    .dataframe tbody tr th:only-of-type {\n",
       "        vertical-align: middle;\n",
       "    }\n",
       "\n",
       "    .dataframe tbody tr th {\n",
       "        vertical-align: top;\n",
       "    }\n",
       "\n",
       "    .dataframe thead th {\n",
       "        text-align: right;\n",
       "    }\n",
       "</style>\n",
       "<table border=\"1\" class=\"dataframe\">\n",
       "  <thead>\n",
       "    <tr style=\"text-align: right;\">\n",
       "      <th></th>\n",
       "      <th>predicted_weight_pounds</th>\n",
       "    </tr>\n",
       "  </thead>\n",
       "  <tbody>\n",
       "    <tr>\n",
       "      <td>0</td>\n",
       "      <td>7.658442</td>\n",
       "    </tr>\n",
       "    <tr>\n",
       "      <td>1</td>\n",
       "      <td>7.385880</td>\n",
       "    </tr>\n",
       "    <tr>\n",
       "      <td>2</td>\n",
       "      <td>7.385880</td>\n",
       "    </tr>\n",
       "    <tr>\n",
       "      <td>3</td>\n",
       "      <td>7.385880</td>\n",
       "    </tr>\n",
       "    <tr>\n",
       "      <td>4</td>\n",
       "      <td>7.385880</td>\n",
       "    </tr>\n",
       "  </tbody>\n",
       "</table>\n",
       "</div>"
      ],
      "text/plain": [
       "   predicted_weight_pounds\n",
       "0                 7.658442\n",
       "1                 7.385880\n",
       "2                 7.385880\n",
       "3                 7.385880\n",
       "4                 7.385880"
      ]
     },
     "execution_count": 56,
     "metadata": {},
     "output_type": "execute_result"
    }
   ],
   "source": [
    "%%bigquery --project $PROJECT\n",
    "-- TRANSFORM句を使わない場合\n",
    "SELECT\n",
    "  predicted_weight_pounds\n",
    "FROM\n",
    "  ML.PREDICT(\n",
    "    MODEL `transform_tutorial.natality_model`,\n",
    "    (\n",
    "      SELECT\n",
    "        is_male,\n",
    "        -- イチイチ同じ前処理を実行しなければいけない\n",
    "        IF(plurality > 1, 1, 0) AS plurality,\n",
    "        ML.BUCKETIZE(gestation_weeks, [37, 42]) AS gestation_weeks,\n",
    "        ML.FEATURE_CROSS(\n",
    "          STRUCT(\n",
    "            CAST(alcohol_use AS STRING) AS alcohol_use,\n",
    "            CAST(cigarette_use AS STRING) AS cigarette_use\n",
    "          )\n",
    "        ) AS alcohol_cigarette_use\n",
    "      FROM\n",
    "        `bigquery-public-data.samples.natality`\n",
    "      LIMIT\n",
    "        5\n",
    "    )\n",
    "  )"
   ]
  },
  {
   "cell_type": "markdown",
   "metadata": {},
   "source": [
    "メンドイですね"
   ]
  },
  {
   "cell_type": "markdown",
   "metadata": {},
   "source": [
    "## TRANSFORMを使う"
   ]
  },
  {
   "cell_type": "markdown",
   "metadata": {},
   "source": [
    "そこで、`TRANSFORM`句の出番です。モデル学習時に、以下のように行う前処理の関数とともに定義します。"
   ]
  },
  {
   "cell_type": "markdown",
   "metadata": {},
   "source": [
    " ### 学習(TRANSFORM句を使用)"
   ]
  },
  {
   "cell_type": "code",
   "execution_count": 74,
   "metadata": {},
   "outputs": [
    {
     "data": {
      "text/html": [
       "<div>\n",
       "<style scoped>\n",
       "    .dataframe tbody tr th:only-of-type {\n",
       "        vertical-align: middle;\n",
       "    }\n",
       "\n",
       "    .dataframe tbody tr th {\n",
       "        vertical-align: top;\n",
       "    }\n",
       "\n",
       "    .dataframe thead th {\n",
       "        text-align: right;\n",
       "    }\n",
       "</style>\n",
       "<table border=\"1\" class=\"dataframe\">\n",
       "  <thead>\n",
       "    <tr style=\"text-align: right;\">\n",
       "      <th></th>\n",
       "    </tr>\n",
       "  </thead>\n",
       "  <tbody>\n",
       "  </tbody>\n",
       "</table>\n",
       "</div>"
      ],
      "text/plain": [
       "Empty DataFrame\n",
       "Columns: []\n",
       "Index: []"
      ]
     },
     "execution_count": 74,
     "metadata": {},
     "output_type": "execute_result"
    }
   ],
   "source": [
    "%%bigquery --project $PROJECT\n",
    "CREATE MODEL `transform_tutorial.natality_model_with_trans` TRANSFORM(\n",
    "  -- 前処理の関数を定義\n",
    "  weight_pounds,\n",
    "  is_male,\n",
    "  IF(plurality > 1, 1, 0) AS plurality,\n",
    "  ML.BUCKETIZE(gestation_weeks, [37, 42]) AS gestation_weeks,\n",
    "  ML.FEATURE_CROSS(\n",
    "    STRUCT(\n",
    "      CAST(alcohol_use AS STRING) AS alcohol_use,\n",
    "      CAST(cigarette_use AS STRING) AS cigarette_use\n",
    "    )\n",
    "  ) AS alcohol_cigarette_use\n",
    ") OPTIONS (\n",
    "  model_type = 'linear_reg',\n",
    "  input_label_cols = ['weight_pounds']\n",
    ") AS\n",
    "SELECT\n",
    "  *\n",
    "FROM\n",
    "  `bigquery-public-data.samples.natality`\n",
    "WHERE\n",
    "  weight_pounds IS NOT NULL -- 適当にサンプリング\n",
    "  AND RAND() < 0.001\n"
   ]
  },
  {
   "cell_type": "markdown",
   "metadata": {},
   "source": [
    "### 予測"
   ]
  },
  {
   "cell_type": "code",
   "execution_count": 75,
   "metadata": {},
   "outputs": [
    {
     "data": {
      "text/html": [
       "<div>\n",
       "<style scoped>\n",
       "    .dataframe tbody tr th:only-of-type {\n",
       "        vertical-align: middle;\n",
       "    }\n",
       "\n",
       "    .dataframe tbody tr th {\n",
       "        vertical-align: top;\n",
       "    }\n",
       "\n",
       "    .dataframe thead th {\n",
       "        text-align: right;\n",
       "    }\n",
       "</style>\n",
       "<table border=\"1\" class=\"dataframe\">\n",
       "  <thead>\n",
       "    <tr style=\"text-align: right;\">\n",
       "      <th></th>\n",
       "      <th>predicted_weight_pounds</th>\n",
       "    </tr>\n",
       "  </thead>\n",
       "  <tbody>\n",
       "    <tr>\n",
       "      <td>0</td>\n",
       "      <td>7.646798</td>\n",
       "    </tr>\n",
       "    <tr>\n",
       "      <td>1</td>\n",
       "      <td>7.376921</td>\n",
       "    </tr>\n",
       "    <tr>\n",
       "      <td>2</td>\n",
       "      <td>7.376921</td>\n",
       "    </tr>\n",
       "    <tr>\n",
       "      <td>3</td>\n",
       "      <td>7.715983</td>\n",
       "    </tr>\n",
       "    <tr>\n",
       "      <td>4</td>\n",
       "      <td>7.446106</td>\n",
       "    </tr>\n",
       "  </tbody>\n",
       "</table>\n",
       "</div>"
      ],
      "text/plain": [
       "   predicted_weight_pounds\n",
       "0                 7.646798\n",
       "1                 7.376921\n",
       "2                 7.376921\n",
       "3                 7.715983\n",
       "4                 7.446106"
      ]
     },
     "execution_count": 75,
     "metadata": {},
     "output_type": "execute_result"
    }
   ],
   "source": [
    "%%bigquery --project $PROJECT\n",
    "SELECT\n",
    "  predicted_weight_pounds\n",
    "FROM\n",
    "  ML.PREDICT(\n",
    "    MODEL `transform_tutorial.natality_model_with_trans`,\n",
    "    (\n",
    "      SELECT *\n",
    "      FROM\n",
    "        `bigquery-public-data.samples.natality`\n",
    "      LIMIT\n",
    "        5\n",
    "    )\n",
    "  )"
   ]
  },
  {
   "cell_type": "markdown",
   "metadata": {},
   "source": [
    "`TRANSFORM`句を使わない場合と比較すると、元のデータを読み込ませるだけで自動的に前処理が実行されるので、予測のクエリがだいぶ簡略化できますね。  また、モデルの評価のときも同様に前処理を省略できます。"
   ]
  },
  {
   "cell_type": "markdown",
   "metadata": {},
   "source": [
    "# 最後に"
   ]
  },
  {
   "cell_type": "markdown",
   "metadata": {},
   "source": [
    "BQMLはまだサービスを開始してから間もないですが、続々と新しいアルゴリズム、前処理用の関数などが出てきています。これからも新しい機能が発表されたらまたまとめてきたいです。"
   ]
  }
 ],
 "metadata": {
  "kernelspec": {
   "display_name": "Python 3",
   "language": "python",
   "name": "python3"
  },
  "language_info": {
   "codemirror_mode": {
    "name": "ipython",
    "version": 3
   },
   "file_extension": ".py",
   "mimetype": "text/x-python",
   "name": "python",
   "nbconvert_exporter": "python",
   "pygments_lexer": "ipython3",
   "version": "3.7.1"
  }
 },
 "nbformat": 4,
 "nbformat_minor": 4
}
