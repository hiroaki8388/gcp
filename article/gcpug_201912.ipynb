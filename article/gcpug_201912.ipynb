{
 "cells": [
  {
   "cell_type": "markdown",
   "metadata": {},
   "source": [
    "# GCPUG発表用資料"
   ]
  },
  {
   "cell_type": "code",
   "execution_count": 1,
   "metadata": {},
   "outputs": [],
   "source": [
    "from google.cloud.bigquery import magics\n",
    "from google.oauth2 import service_account\n",
    "credentials = (service_account.Credentials.from_service_account_file('../scalable-data-science-8a106588da7e.json'))\n",
    "magics.context.credentials = credentials"
   ]
  },
  {
   "cell_type": "code",
   "execution_count": 2,
   "metadata": {},
   "outputs": [],
   "source": [
    "%load_ext google.cloud.bigquery"
   ]
  },
  {
   "cell_type": "code",
   "execution_count": 16,
   "metadata": {},
   "outputs": [],
   "source": [
    "PROJECT ='scalable-data-science'\n",
    "from google.cloud.bigquery import magics\n",
    "magics.context.project = PROJECT"
   ]
  },
  {
   "cell_type": "code",
   "execution_count": 29,
   "metadata": {},
   "outputs": [],
   "source": [
    "from google.cloud.bigquery import magics\n",
    "# 指定したバイト以上のクエリを実行すると、失敗する\n",
    "# https://cloud.google.com/bigquery/docs/best-practices-costs?hl=ja\n",
    "magics.context.default_query_job_config.maximum_bytes_billed = 100000000"
   ]
  },
  {
   "cell_type": "markdown",
   "metadata": {},
   "source": [
    "# データの概観を眺める"
   ]
  },
  {
   "cell_type": "code",
   "execution_count": 12,
   "metadata": {},
   "outputs": [
    {
     "data": {
      "text/html": [
       "<div>\n",
       "<style scoped>\n",
       "    .dataframe tbody tr th:only-of-type {\n",
       "        vertical-align: middle;\n",
       "    }\n",
       "\n",
       "    .dataframe tbody tr th {\n",
       "        vertical-align: top;\n",
       "    }\n",
       "\n",
       "    .dataframe thead th {\n",
       "        text-align: right;\n",
       "    }\n",
       "</style>\n",
       "<table border=\"1\" class=\"dataframe\">\n",
       "  <thead>\n",
       "    <tr style=\"text-align: right;\">\n",
       "      <th></th>\n",
       "      <th>species</th>\n",
       "      <th>count</th>\n",
       "      <th>avg</th>\n",
       "      <th>std</th>\n",
       "      <th>max</th>\n",
       "      <th>min</th>\n",
       "      <th>corr</th>\n",
       "    </tr>\n",
       "  </thead>\n",
       "  <tbody>\n",
       "    <tr>\n",
       "      <td>0</td>\n",
       "      <td>versicolor</td>\n",
       "      <td>50</td>\n",
       "      <td>5.936</td>\n",
       "      <td>0.516171</td>\n",
       "      <td>7.0</td>\n",
       "      <td>4.9</td>\n",
       "      <td>0.525911</td>\n",
       "    </tr>\n",
       "    <tr>\n",
       "      <td>1</td>\n",
       "      <td>virginica</td>\n",
       "      <td>50</td>\n",
       "      <td>6.588</td>\n",
       "      <td>0.635880</td>\n",
       "      <td>7.9</td>\n",
       "      <td>4.9</td>\n",
       "      <td>0.457228</td>\n",
       "    </tr>\n",
       "    <tr>\n",
       "      <td>2</td>\n",
       "      <td>setosa</td>\n",
       "      <td>50</td>\n",
       "      <td>5.006</td>\n",
       "      <td>0.352490</td>\n",
       "      <td>5.8</td>\n",
       "      <td>4.3</td>\n",
       "      <td>0.746780</td>\n",
       "    </tr>\n",
       "  </tbody>\n",
       "</table>\n",
       "</div>"
      ],
      "text/plain": [
       "      species  count    avg       std  max  min      corr\n",
       "0  versicolor     50  5.936  0.516171  7.0  4.9  0.525911\n",
       "1   virginica     50  6.588  0.635880  7.9  4.9  0.457228\n",
       "2      setosa     50  5.006  0.352490  5.8  4.3  0.746780"
      ]
     },
     "execution_count": 12,
     "metadata": {},
     "output_type": "execute_result"
    }
   ],
   "source": [
    "%%bigquery --project $PROJECT \n",
    "SELECT \n",
    "    species,\n",
    "    COUNT(*) AS count,\n",
    "    AVG(sepal_length) AS avg,\n",
    "    STDDEV(sepal_length) AS std,\n",
    "    MAX(sepal_length) AS max,\n",
    "    MIN(sepal_length) AS min,\n",
    "    CORR(sepal_length, sepal_width) AS corr\n",
    "FROM `bigquery-public-data.ml_datasets.iris` GROUP BY species"
   ]
  },
  {
   "cell_type": "code",
   "execution_count": 30,
   "metadata": {},
   "outputs": [],
   "source": [
    "%%bigquery data --project $PROJECT  \n",
    "-- 変数名dataにBQの出力結果がDataFrameとして格納される\n",
    "SELECT \n",
    "    species,\n",
    "    AVG(sepal_length) AS avg\n",
    "FROM `bigquery-public-data.ml_datasets.iris` GROUP BY species"
   ]
  },
  {
   "cell_type": "code",
   "execution_count": 31,
   "metadata": {},
   "outputs": [
    {
     "data": {
      "text/plain": [
       "<matplotlib.axes._subplots.AxesSubplot at 0x12a6b4fd0>"
      ]
     },
     "execution_count": 31,
     "metadata": {},
     "output_type": "execute_result"
    }
   ],
   "source": [
    "# matplotlibで可視化\n",
    "data.plot(x='species', y='avg', kind='bar', title='sepal_length by species', rot= 45)"
   ]
  },
  {
   "cell_type": "markdown",
   "metadata": {},
   "source": [
    "# 特徴量を作成するための関数"
   ]
  },
  {
   "cell_type": "code",
   "execution_count": 40,
   "metadata": {},
   "outputs": [
    {
     "data": {
      "text/html": [
       "<div>\n",
       "<style scoped>\n",
       "    .dataframe tbody tr th:only-of-type {\n",
       "        vertical-align: middle;\n",
       "    }\n",
       "\n",
       "    .dataframe tbody tr th {\n",
       "        vertical-align: top;\n",
       "    }\n",
       "\n",
       "    .dataframe thead th {\n",
       "        text-align: right;\n",
       "    }\n",
       "</style>\n",
       "<table border=\"1\" class=\"dataframe\">\n",
       "  <thead>\n",
       "    <tr style=\"text-align: right;\">\n",
       "      <th></th>\n",
       "      <th>output</th>\n",
       "    </tr>\n",
       "  </thead>\n",
       "  <tbody>\n",
       "    <tr>\n",
       "      <td>0</td>\n",
       "      <td>{'f1': 2.0, 'f1_f1': 4.0, 'f1_f2': 6.0, 'f2': ...</td>\n",
       "    </tr>\n",
       "  </tbody>\n",
       "</table>\n",
       "</div>"
      ],
      "text/plain": [
       "                                              output\n",
       "0  {'f1': 2.0, 'f1_f1': 4.0, 'f1_f2': 6.0, 'f2': ..."
      ]
     },
     "execution_count": 40,
     "metadata": {},
     "output_type": "execute_result"
    }
   ],
   "source": [
    "%%bigquery\n",
    "SELECT\n",
    "  ML.POLYNOMIAL_EXPAND(\n",
    "      STRUCT(2 AS f1, 3 AS f2)\n",
    "  ) \n",
    "AS output;"
   ]
  },
  {
   "cell_type": "code",
   "execution_count": 36,
   "metadata": {},
   "outputs": [
    {
     "data": {
      "text/html": [
       "<div>\n",
       "<style scoped>\n",
       "    .dataframe tbody tr th:only-of-type {\n",
       "        vertical-align: middle;\n",
       "    }\n",
       "\n",
       "    .dataframe tbody tr th {\n",
       "        vertical-align: top;\n",
       "    }\n",
       "\n",
       "    .dataframe thead th {\n",
       "        text-align: right;\n",
       "    }\n",
       "</style>\n",
       "<table border=\"1\" class=\"dataframe\">\n",
       "  <thead>\n",
       "    <tr style=\"text-align: right;\">\n",
       "      <th></th>\n",
       "      <th>output</th>\n",
       "    </tr>\n",
       "  </thead>\n",
       "  <tbody>\n",
       "    <tr>\n",
       "      <td>0</td>\n",
       "      <td>{'f1_f2': 'a_b', 'f1_f3': 'a_c', 'f2_f3': 'b_c'}</td>\n",
       "    </tr>\n",
       "  </tbody>\n",
       "</table>\n",
       "</div>"
      ],
      "text/plain": [
       "                                             output\n",
       "0  {'f1_f2': 'a_b', 'f1_f3': 'a_c', 'f2_f3': 'b_c'}"
      ]
     },
     "execution_count": 36,
     "metadata": {},
     "output_type": "execute_result"
    }
   ],
   "source": [
    "%%bigquery\n",
    "\n",
    "SELECT\n",
    "  ML.FEATURE_CROSS(\n",
    "      STRUCT('a' AS f1, 'b' AS f2, 'c' AS f3)\n",
    "  )\n",
    "AS output;"
   ]
  },
  {
   "cell_type": "code",
   "execution_count": 37,
   "metadata": {},
   "outputs": [
    {
     "data": {
      "text/html": [
       "<div>\n",
       "<style scoped>\n",
       "    .dataframe tbody tr th:only-of-type {\n",
       "        vertical-align: middle;\n",
       "    }\n",
       "\n",
       "    .dataframe tbody tr th {\n",
       "        vertical-align: top;\n",
       "    }\n",
       "\n",
       "    .dataframe thead th {\n",
       "        text-align: right;\n",
       "    }\n",
       "</style>\n",
       "<table border=\"1\" class=\"dataframe\">\n",
       "  <thead>\n",
       "    <tr style=\"text-align: right;\">\n",
       "      <th></th>\n",
       "      <th>output</th>\n",
       "    </tr>\n",
       "  </thead>\n",
       "  <tbody>\n",
       "    <tr>\n",
       "      <td>0</td>\n",
       "      <td>[a#b, a#b#c, b#c]</td>\n",
       "    </tr>\n",
       "  </tbody>\n",
       "</table>\n",
       "</div>"
      ],
      "text/plain": [
       "              output\n",
       "0  [a#b, a#b#c, b#c]"
      ]
     },
     "execution_count": 37,
     "metadata": {},
     "output_type": "execute_result"
    }
   ],
   "source": [
    "%%bigquery\n",
    "\n",
    "SELECT\n",
    "  ML.NGRAMS(['a', 'b', 'c'], [2,3], '#') AS output;"
   ]
  },
  {
   "cell_type": "markdown",
   "metadata": {},
   "source": [
    "## 特徴量を変換するための関数"
   ]
  },
  {
   "cell_type": "code",
   "execution_count": 32,
   "metadata": {},
   "outputs": [
    {
     "data": {
      "text/html": [
       "<div>\n",
       "<style scoped>\n",
       "    .dataframe tbody tr th:only-of-type {\n",
       "        vertical-align: middle;\n",
       "    }\n",
       "\n",
       "    .dataframe tbody tr th {\n",
       "        vertical-align: top;\n",
       "    }\n",
       "\n",
       "    .dataframe thead th {\n",
       "        text-align: right;\n",
       "    }\n",
       "</style>\n",
       "<table border=\"1\" class=\"dataframe\">\n",
       "  <thead>\n",
       "    <tr style=\"text-align: right;\">\n",
       "      <th></th>\n",
       "      <th>f</th>\n",
       "      <th>bucket</th>\n",
       "    </tr>\n",
       "  </thead>\n",
       "  <tbody>\n",
       "    <tr>\n",
       "      <td>0</td>\n",
       "      <td>1</td>\n",
       "      <td>bin_1</td>\n",
       "    </tr>\n",
       "    <tr>\n",
       "      <td>1</td>\n",
       "      <td>2</td>\n",
       "      <td>bin_2</td>\n",
       "    </tr>\n",
       "    <tr>\n",
       "      <td>2</td>\n",
       "      <td>4</td>\n",
       "      <td>bin_3</td>\n",
       "    </tr>\n",
       "    <tr>\n",
       "      <td>3</td>\n",
       "      <td>3</td>\n",
       "      <td>bin_2</td>\n",
       "    </tr>\n",
       "    <tr>\n",
       "      <td>4</td>\n",
       "      <td>5</td>\n",
       "      <td>bin_3</td>\n",
       "    </tr>\n",
       "  </tbody>\n",
       "</table>\n",
       "</div>"
      ],
      "text/plain": [
       "   f bucket\n",
       "0  1  bin_1\n",
       "1  2  bin_2\n",
       "2  4  bin_3\n",
       "3  3  bin_2\n",
       "4  5  bin_3"
      ]
     },
     "execution_count": 32,
     "metadata": {},
     "output_type": "execute_result"
    }
   ],
   "source": [
    "%%bigquery\n",
    "SELECT\n",
    "  f, ML.QUANTILE_BUCKETIZE(f, 3) OVER() AS bucket\n",
    "FROM\n",
    "  UNNEST([1,2,3,4,5]) AS f;"
   ]
  },
  {
   "cell_type": "code",
   "execution_count": 43,
   "metadata": {},
   "outputs": [
    {
     "data": {
      "text/html": [
       "<div>\n",
       "<style scoped>\n",
       "    .dataframe tbody tr th:only-of-type {\n",
       "        vertical-align: middle;\n",
       "    }\n",
       "\n",
       "    .dataframe tbody tr th {\n",
       "        vertical-align: top;\n",
       "    }\n",
       "\n",
       "    .dataframe thead th {\n",
       "        text-align: right;\n",
       "    }\n",
       "</style>\n",
       "<table border=\"1\" class=\"dataframe\">\n",
       "  <thead>\n",
       "    <tr style=\"text-align: right;\">\n",
       "      <th></th>\n",
       "      <th>f</th>\n",
       "      <th>output</th>\n",
       "    </tr>\n",
       "  </thead>\n",
       "  <tbody>\n",
       "    <tr>\n",
       "      <td>0</td>\n",
       "      <td>1</td>\n",
       "      <td>0</td>\n",
       "    </tr>\n",
       "    <tr>\n",
       "      <td>1</td>\n",
       "      <td>2</td>\n",
       "      <td>0</td>\n",
       "    </tr>\n",
       "    <tr>\n",
       "      <td>2</td>\n",
       "      <td>3</td>\n",
       "      <td>1</td>\n",
       "    </tr>\n",
       "  </tbody>\n",
       "</table>\n",
       "</div>"
      ],
      "text/plain": [
       "   f  output\n",
       "0  1       0\n",
       "1  2       0\n",
       "2  3       1"
      ]
     },
     "execution_count": 43,
     "metadata": {},
     "output_type": "execute_result"
    }
   ],
   "source": [
    "%%bigquery\n",
    "\n",
    "SELECT\n",
    "    f,\n",
    "    IF(f>2, 1, 0) AS output\n",
    "FROM\n",
    "  UNNEST([1,2,3]) AS f;"
   ]
  },
  {
   "cell_type": "code",
   "execution_count": 42,
   "metadata": {},
   "outputs": [
    {
     "data": {
      "text/html": [
       "<div>\n",
       "<style scoped>\n",
       "    .dataframe tbody tr th:only-of-type {\n",
       "        vertical-align: middle;\n",
       "    }\n",
       "\n",
       "    .dataframe tbody tr th {\n",
       "        vertical-align: top;\n",
       "    }\n",
       "\n",
       "    .dataframe thead th {\n",
       "        text-align: right;\n",
       "    }\n",
       "</style>\n",
       "<table border=\"1\" class=\"dataframe\">\n",
       "  <thead>\n",
       "    <tr style=\"text-align: right;\">\n",
       "      <th></th>\n",
       "      <th>f</th>\n",
       "      <th>min_max</th>\n",
       "      <th>std</th>\n",
       "    </tr>\n",
       "  </thead>\n",
       "  <tbody>\n",
       "    <tr>\n",
       "      <td>0</td>\n",
       "      <td>1</td>\n",
       "      <td>0.00</td>\n",
       "      <td>-1.264911</td>\n",
       "    </tr>\n",
       "    <tr>\n",
       "      <td>1</td>\n",
       "      <td>5</td>\n",
       "      <td>1.00</td>\n",
       "      <td>1.264911</td>\n",
       "    </tr>\n",
       "    <tr>\n",
       "      <td>2</td>\n",
       "      <td>2</td>\n",
       "      <td>0.25</td>\n",
       "      <td>-0.632456</td>\n",
       "    </tr>\n",
       "    <tr>\n",
       "      <td>3</td>\n",
       "      <td>4</td>\n",
       "      <td>0.75</td>\n",
       "      <td>0.632456</td>\n",
       "    </tr>\n",
       "    <tr>\n",
       "      <td>4</td>\n",
       "      <td>3</td>\n",
       "      <td>0.50</td>\n",
       "      <td>0.000000</td>\n",
       "    </tr>\n",
       "  </tbody>\n",
       "</table>\n",
       "</div>"
      ],
      "text/plain": [
       "   f  min_max       std\n",
       "0  1     0.00 -1.264911\n",
       "1  5     1.00  1.264911\n",
       "2  2     0.25 -0.632456\n",
       "3  4     0.75  0.632456\n",
       "4  3     0.50  0.000000"
      ]
     },
     "execution_count": 42,
     "metadata": {},
     "output_type": "execute_result"
    }
   ],
   "source": [
    "%%bigquery\n",
    "\n",
    "SELECT\n",
    "    f, \n",
    "    ML.MIN_MAX_SCALER(f) OVER() AS min_max,\n",
    "    ML.STANDARD_SCALER(f) OVER() AS std\n",
    "FROM\n",
    "  UNNEST([1,2,3,4,5]) AS f;"
   ]
  },
  {
   "cell_type": "markdown",
   "metadata": {},
   "source": [
    "## ST_GEOHASH"
   ]
  },
  {
   "cell_type": "code",
   "execution_count": 60,
   "metadata": {},
   "outputs": [
    {
     "data": {
      "text/html": [
       "<div>\n",
       "<style scoped>\n",
       "    .dataframe tbody tr th:only-of-type {\n",
       "        vertical-align: middle;\n",
       "    }\n",
       "\n",
       "    .dataframe tbody tr th {\n",
       "        vertical-align: top;\n",
       "    }\n",
       "\n",
       "    .dataframe thead th {\n",
       "        text-align: right;\n",
       "    }\n",
       "</style>\n",
       "<table border=\"1\" class=\"dataframe\">\n",
       "  <thead>\n",
       "    <tr style=\"text-align: right;\">\n",
       "      <th></th>\n",
       "      <th>country</th>\n",
       "      <th>port_name</th>\n",
       "      <th>hash_2</th>\n",
       "      <th>hash_4</th>\n",
       "      <th>hash_8</th>\n",
       "    </tr>\n",
       "  </thead>\n",
       "  <tbody>\n",
       "    <tr>\n",
       "      <td>0</td>\n",
       "      <td>JP</td>\n",
       "      <td>ISHIGAKI</td>\n",
       "      <td>wu</td>\n",
       "      <td>wu26</td>\n",
       "      <td>wu263mxr</td>\n",
       "    </tr>\n",
       "    <tr>\n",
       "      <td>1</td>\n",
       "      <td>JP</td>\n",
       "      <td>HIRARA KO</td>\n",
       "      <td>wu</td>\n",
       "      <td>wu3j</td>\n",
       "      <td>wu3j4fsw</td>\n",
       "    </tr>\n",
       "    <tr>\n",
       "      <td>2</td>\n",
       "      <td>JP</td>\n",
       "      <td>NAHA KO</td>\n",
       "      <td>wu</td>\n",
       "      <td>wudv</td>\n",
       "      <td>wudv1s85</td>\n",
       "    </tr>\n",
       "    <tr>\n",
       "      <td>3</td>\n",
       "      <td>JP</td>\n",
       "      <td>NISHIHARA</td>\n",
       "      <td>wu</td>\n",
       "      <td>wudv</td>\n",
       "      <td>wudvhht5</td>\n",
       "    </tr>\n",
       "    <tr>\n",
       "      <td>4</td>\n",
       "      <td>JP</td>\n",
       "      <td>NAKAGUSUKU</td>\n",
       "      <td>wu</td>\n",
       "      <td>wudv</td>\n",
       "      <td>wudvqvdn</td>\n",
       "    </tr>\n",
       "  </tbody>\n",
       "</table>\n",
       "</div>"
      ],
      "text/plain": [
       "  country   port_name hash_2 hash_4    hash_8\n",
       "0      JP    ISHIGAKI     wu   wu26  wu263mxr\n",
       "1      JP   HIRARA KO     wu   wu3j  wu3j4fsw\n",
       "2      JP     NAHA KO     wu   wudv  wudv1s85\n",
       "3      JP   NISHIHARA     wu   wudv  wudvhht5\n",
       "4      JP  NAKAGUSUKU     wu   wudv  wudvqvdn"
      ]
     },
     "execution_count": 60,
     "metadata": {},
     "output_type": "execute_result"
    }
   ],
   "source": [
    "%%bigquery\n",
    "\n",
    "SELECT\n",
    "    country,\n",
    "    port_name,\n",
    "    ST_GeoHash(port_geom, 2) AS hash_2,\n",
    "    ST_GeoHash(port_geom, 4) AS hash_4,\n",
    "    ST_GeoHash(port_geom, 8) AS hash_8\n",
    "FROM\n",
    "  `bigquery-public-data.geo_international_ports.world_port_index`\n",
    "WHERE country=\"JP\"\n",
    "ORDER BY hash_8\n",
    "LIMIT 5"
   ]
  },
  {
   "cell_type": "markdown",
   "metadata": {},
   "source": [
    "# 前処理したデータをモデルに流し込む"
   ]
  },
  {
   "cell_type": "code",
   "execution_count": null,
   "metadata": {},
   "outputs": [],
   "source": [
    "CREATE MODEL `transform_tutorial.natality_model` OPTIONS (\n",
    "  model_type = 'linear_reg',\n",
    "  input_label_cols = ['weight_pounds']\n",
    ") AS\n",
    "SELECT\n",
    "  weight_pounds,\n",
    "  is_male,\n",
    "  IF(plurality > 1, 1, 0) AS plurality,\n",
    "  ML.BUCKETIZE(gestation_weeks, [37, 42]) AS gestation_weeks,\n",
    "  ML.FEATURE_CROSS(\n",
    "    STRUCT(\n",
    "      CAST(alcohol_use AS STRING) AS alcohol_use,\n",
    "      CAST(cigarette_use AS STRING) AS cigarette_use\n",
    "    )\n",
    "  ) AS alcohol_cigarette_use\n",
    "FROM\n",
    "  `bigquery-public-data.samples.natality`"
   ]
  },
  {
   "cell_type": "code",
   "execution_count": null,
   "metadata": {},
   "outputs": [],
   "source": [
    "SELECT\n",
    "  predicted_weight_pounds\n",
    "FROM\n",
    "  ML.PREDICT(\n",
    "    MODEL `transform_tutorial.natality_model`,\n",
    "    (\n",
    "      SELECT\n",
    "        is_male,\n",
    "        -- イチイチ同じ前処理を実行しなければいけない\n",
    "        IF(plurality > 1, 1, 0) AS plurality,\n",
    "        ML.BUCKETIZE(gestation_weeks, [37, 42]) AS gestation_weeks,\n",
    "        ML.FEATURE_CROSS(\n",
    "          STRUCT(\n",
    "            CAST(alcohol_use AS STRING) AS alcohol_use,\n",
    "            CAST(cigarette_use AS STRING) AS cigarette_use\n",
    "          )\n",
    "        ) AS alcohol_cigarette_use\n",
    "      FROM\n",
    "        `bigquery-public-data.samples.natality`\n",
    "      LIMIT\n",
    "        5\n",
    "    )\n",
    "  )"
   ]
  },
  {
   "cell_type": "code",
   "execution_count": null,
   "metadata": {},
   "outputs": [],
   "source": [
    "CREATE MODEL `transform_tutorial.natality_model_with_trans` TRANSFORM(\n",
    "  -- 前処理の関数を定義\n",
    "  weight_pounds,\n",
    "  is_male,\n",
    "  IF(plurality > 1, 1, 0) AS plurality,\n",
    "  ML.BUCKETIZE(gestation_weeks, [37, 42]) AS gestation_weeks,\n",
    "  ML.FEATURE_CROSS(\n",
    "    STRUCT(\n",
    "      CAST(alcohol_use AS STRING) AS alcohol_use,\n",
    "      CAST(cigarette_use AS STRING) AS cigarette_use\n",
    "    )\n",
    "  ) AS alcohol_cigarette_use\n",
    ") OPTIONS (\n",
    "  model_type = 'linear_reg',\n",
    "  input_label_cols = ['weight_pounds']\n",
    ") AS\n",
    "SELECT\n",
    "  *\n",
    "FROM\n",
    "  `bigquery-public-data.samples.natality`\n",
    "WHERE\n",
    "  weight_pounds IS NOT NULL -- 適当にサンプリング\n",
    "  AND RAND() < 0.001"
   ]
  },
  {
   "cell_type": "code",
   "execution_count": null,
   "metadata": {},
   "outputs": [],
   "source": [
    "SELECT\n",
    "  predicted_weight_pounds\n",
    "FROM\n",
    "  ML.PREDICT(\n",
    "    MODEL `transform_tutorial.natality_model_with_trans`,\n",
    "    (\n",
    "      SELECT *\n",
    "      FROM\n",
    "        `bigquery-public-data.samples.natality`\n",
    "      LIMIT\n",
    "        5\n",
    "    )\n",
    "  )"
   ]
  }
 ],
 "metadata": {
  "kernelspec": {
   "display_name": "Python 3",
   "language": "python",
   "name": "python3"
  },
  "language_info": {
   "codemirror_mode": {
    "name": "ipython",
    "version": 3
   },
   "file_extension": ".py",
   "mimetype": "text/x-python",
   "name": "python",
   "nbconvert_exporter": "python",
   "pygments_lexer": "ipython3",
   "version": "3.7.1"
  }
 },
 "nbformat": 4,
 "nbformat_minor": 4
}
