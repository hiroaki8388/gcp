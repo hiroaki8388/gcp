{
 "cells": [
  {
   "cell_type": "markdown",
   "metadata": {},
   "source": [
    "# Datalabのマジックコマンドを使って、サクサク分析する"
   ]
  },
  {
   "cell_type": "markdown",
   "metadata": {},
   "source": [
    "# これなに?\n",
    "TODO"
   ]
  },
  {
   "cell_type": "markdown",
   "metadata": {},
   "source": [
    "# マジックコマンドって?\n",
    "TODO"
   ]
  },
  {
   "cell_type": "markdown",
   "metadata": {},
   "source": [
    "# Datalabって?\n",
    "TODO"
   ]
  },
  {
   "cell_type": "markdown",
   "metadata": {},
   "source": [
    "# DataLabの立ち上げ\n",
    "`gcloud`コマンドを使って、DataLabのインスタンスを立ち上げます"
   ]
  },
  {
   "cell_type": "markdown",
   "metadata": {},
   "source": [
    "# gcsとの接続"
   ]
  },
  {
   "cell_type": "markdown",
   "metadata": {},
   "source": [
    "# bigqueryとの接続\n",
    "BigQueryのマジックコマンドは、DataLabでなくても`google-cloud-bigquery`ライブラリを入れることで実行できますが、行えるのは(2019/8月時点では)クエリの実行だけです。(具体的な方法は[こちらの記事](https://qiita.com/hiroaki_hase/items/3d7da2166b5bc495879f)を参照してください)  \n",
    "Datalabでの場合は、他にもさまざまな処理をマジックコマンドで実行できます。"
   ]
  },
  {
   "cell_type": "code",
   "execution_count": null,
   "metadata": {},
   "outputs": [],
   "source": []
  }
 ],
 "metadata": {
  "kernelspec": {
   "display_name": "Python 3",
   "language": "python",
   "name": "python3"
  },
  "language_info": {
   "codemirror_mode": {
    "name": "ipython",
    "version": 3
   },
   "file_extension": ".py",
   "mimetype": "text/x-python",
   "name": "python",
   "nbconvert_exporter": "python",
   "pygments_lexer": "ipython3",
   "version": "3.7.1"
  }
 },
 "nbformat": 4,
 "nbformat_minor": 4
}
