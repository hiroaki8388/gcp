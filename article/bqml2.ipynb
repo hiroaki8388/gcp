{
 "cells": [
  {
   "cell_type": "markdown",
   "metadata": {},
   "source": [
    "# BQML + jupyterで機械学習を行う(その2: 前処理、EDA、特徴量生成)"
   ]
  },
  {
   "cell_type": "markdown",
   "metadata": {},
   "source": [
    "# これなに?\n",
    "BQMLを利用して、機械学習を行うために有用そうな方法をまとめた記事です。この記事の中では、きか"
   ]
  },
  {
   "cell_type": "markdown",
   "metadata": {},
   "source": [
    "## 使用するデータセット"
   ]
  },
  {
   "cell_type": "markdown",
   "metadata": {},
   "source": [
    "前回の記事で作成したgoogle_analyticsのdatasetから、特定の商品をclickする確率を予測します(データセットはgoogleAnalyticsを使用します)"
   ]
  },
  {
   "cell_type": "markdown",
   "metadata": {},
   "source": [
    "前回と同様にmagic commandを利用します(接続方法は前記事参照)"
   ]
  },
  {
   "cell_type": "code",
   "execution_count": 2,
   "metadata": {},
   "outputs": [],
   "source": [
    "from google.cloud.bigquery import magics\n",
    "from google.oauth2 import service_account\n",
    "credentials = (service_account.Credentials.from_service_account_file('/Users/hiroaki/Downloads/scalable-data-science-b045d3ddcc4c.json'))\n",
    "magics.context.credentials = credentials"
   ]
  },
  {
   "cell_type": "code",
   "execution_count": 3,
   "metadata": {},
   "outputs": [],
   "source": [
    "%load_ext google.cloud.bigquery"
   ]
  },
  {
   "cell_type": "code",
   "execution_count": 5,
   "metadata": {},
   "outputs": [],
   "source": [
    "PROJECT ='scalable-data-science'"
   ]
  },
  {
   "cell_type": "code",
   "execution_count": 6,
   "metadata": {},
   "outputs": [
    {
     "data": {
      "text/html": [
       "<div>\n",
       "<style scoped>\n",
       "    .dataframe tbody tr th:only-of-type {\n",
       "        vertical-align: middle;\n",
       "    }\n",
       "\n",
       "    .dataframe tbody tr th {\n",
       "        vertical-align: top;\n",
       "    }\n",
       "\n",
       "    .dataframe thead th {\n",
       "        text-align: right;\n",
       "    }\n",
       "</style>\n",
       "<table border=\"1\" class=\"dataframe\">\n",
       "  <thead>\n",
       "    <tr style=\"text-align: right;\">\n",
       "      <th></th>\n",
       "      <th>hour</th>\n",
       "      <th>browser</th>\n",
       "      <th>isMobile</th>\n",
       "      <th>country</th>\n",
       "      <th>productPrice</th>\n",
       "      <th>isClick</th>\n",
       "    </tr>\n",
       "  </thead>\n",
       "  <tbody>\n",
       "    <tr>\n",
       "      <th>0</th>\n",
       "      <td>13</td>\n",
       "      <td>Chrome</td>\n",
       "      <td>False</td>\n",
       "      <td>United States</td>\n",
       "      <td>20990000</td>\n",
       "      <td>None</td>\n",
       "    </tr>\n",
       "    <tr>\n",
       "      <th>1</th>\n",
       "      <td>13</td>\n",
       "      <td>Chrome</td>\n",
       "      <td>False</td>\n",
       "      <td>United States</td>\n",
       "      <td>990000</td>\n",
       "      <td>None</td>\n",
       "    </tr>\n",
       "    <tr>\n",
       "      <th>2</th>\n",
       "      <td>7</td>\n",
       "      <td>Firefox</td>\n",
       "      <td>False</td>\n",
       "      <td>Canada</td>\n",
       "      <td>16990000</td>\n",
       "      <td>None</td>\n",
       "    </tr>\n",
       "    <tr>\n",
       "      <th>3</th>\n",
       "      <td>7</td>\n",
       "      <td>Firefox</td>\n",
       "      <td>False</td>\n",
       "      <td>Canada</td>\n",
       "      <td>16990000</td>\n",
       "      <td>None</td>\n",
       "    </tr>\n",
       "    <tr>\n",
       "      <th>4</th>\n",
       "      <td>13</td>\n",
       "      <td>Chrome</td>\n",
       "      <td>False</td>\n",
       "      <td>United States</td>\n",
       "      <td>12990000</td>\n",
       "      <td>None</td>\n",
       "    </tr>\n",
       "  </tbody>\n",
       "</table>\n",
       "</div>"
      ],
      "text/plain": [
       "   hour  browser  isMobile        country  productPrice isClick\n",
       "0    13   Chrome     False  United States      20990000    None\n",
       "1    13   Chrome     False  United States        990000    None\n",
       "2     7  Firefox     False         Canada      16990000    None\n",
       "3     7  Firefox     False         Canada      16990000    None\n",
       "4    13   Chrome     False  United States      12990000    None"
      ]
     },
     "execution_count": 6,
     "metadata": {},
     "output_type": "execute_result"
    }
   ],
   "source": [
    "%%bigquery --project $PROJECT \n",
    "SELECT * FROM `google_analytics.ga_dataset` LIMIT 5"
   ]
  },
  {
   "cell_type": "markdown",
   "metadata": {},
   "source": [
    "# データセットの特徴を調べる"
   ]
  },
  {
   "cell_type": "markdown",
   "metadata": {},
   "source": [
    "まず、`isClick`がどのようになっているか確認します"
   ]
  },
  {
   "cell_type": "code",
   "execution_count": 10,
   "metadata": {},
   "outputs": [
    {
     "data": {
      "text/html": [
       "<div>\n",
       "<style scoped>\n",
       "    .dataframe tbody tr th:only-of-type {\n",
       "        vertical-align: middle;\n",
       "    }\n",
       "\n",
       "    .dataframe tbody tr th {\n",
       "        vertical-align: top;\n",
       "    }\n",
       "\n",
       "    .dataframe thead th {\n",
       "        text-align: right;\n",
       "    }\n",
       "</style>\n",
       "<table border=\"1\" class=\"dataframe\">\n",
       "  <thead>\n",
       "    <tr style=\"text-align: right;\">\n",
       "      <th></th>\n",
       "      <th>isClick</th>\n",
       "      <th>numIsClick</th>\n",
       "    </tr>\n",
       "  </thead>\n",
       "  <tbody>\n",
       "    <tr>\n",
       "      <th>0</th>\n",
       "      <td>None</td>\n",
       "      <td>90973</td>\n",
       "    </tr>\n",
       "    <tr>\n",
       "      <th>1</th>\n",
       "      <td>True</td>\n",
       "      <td>2034</td>\n",
       "    </tr>\n",
       "  </tbody>\n",
       "</table>\n",
       "</div>"
      ],
      "text/plain": [
       "  isClick  numIsClick\n",
       "0    None       90973\n",
       "1    True        2034"
      ]
     },
     "execution_count": 10,
     "metadata": {},
     "output_type": "execute_result"
    }
   ],
   "source": [
    "%%bigquery --project $PROJECT \n",
    "SELECT \n",
    "    isClick, COUNT(1) AS numIsClick \n",
    "FROM `google_analytics.ga_dataset`\n",
    "GROUP BY isClick"
   ]
  },
  {
   "cell_type": "markdown",
   "metadata": {},
   "source": [
    "この結果を見る限り、どうやらclickしなかった場合、は`False`ではなく、`null`が入っているようです  \n",
    "今後の分析のことを考えると、1/0で二値化したほうが楽なので、変換します  \n",
    "また、`productPrice`の値も極端に大きいので10の6乗で割ります"
   ]
  },
  {
   "cell_type": "code",
   "execution_count": 139,
   "metadata": {},
   "outputs": [
    {
     "data": {
      "text/html": [
       "<div>\n",
       "<style scoped>\n",
       "    .dataframe tbody tr th:only-of-type {\n",
       "        vertical-align: middle;\n",
       "    }\n",
       "\n",
       "    .dataframe tbody tr th {\n",
       "        vertical-align: top;\n",
       "    }\n",
       "\n",
       "    .dataframe thead th {\n",
       "        text-align: right;\n",
       "    }\n",
       "</style>\n",
       "<table border=\"1\" class=\"dataframe\">\n",
       "  <thead>\n",
       "    <tr style=\"text-align: right;\">\n",
       "      <th></th>\n",
       "    </tr>\n",
       "  </thead>\n",
       "  <tbody>\n",
       "  </tbody>\n",
       "</table>\n",
       "</div>"
      ],
      "text/plain": [
       "Empty DataFrame\n",
       "Columns: []\n",
       "Index: []"
      ]
     },
     "execution_count": 139,
     "metadata": {},
     "output_type": "execute_result"
    }
   ],
   "source": [
    "%%bigquery --project $PROJECT \n",
    "-- 新たなdatasetを定義\n",
    "CREATE OR REPLACE TABLE google_analytics.ga_dataset_cleansed AS\n",
    "SELECT \n",
    "    *EXCEPT(isClick, productPrice),\n",
    "    IF(isClick, 1, 0) AS isClick,\n",
    "    productPrice/1e6 AS productPrice\n",
    "FROM `google_analytics.ga_dataset`"
   ]
  },
  {
   "cell_type": "code",
   "execution_count": 123,
   "metadata": {},
   "outputs": [
    {
     "data": {
      "text/html": [
       "<div>\n",
       "<style scoped>\n",
       "    .dataframe tbody tr th:only-of-type {\n",
       "        vertical-align: middle;\n",
       "    }\n",
       "\n",
       "    .dataframe tbody tr th {\n",
       "        vertical-align: top;\n",
       "    }\n",
       "\n",
       "    .dataframe thead th {\n",
       "        text-align: right;\n",
       "    }\n",
       "</style>\n",
       "<table border=\"1\" class=\"dataframe\">\n",
       "  <thead>\n",
       "    <tr style=\"text-align: right;\">\n",
       "      <th></th>\n",
       "      <th>hour</th>\n",
       "      <th>browser</th>\n",
       "      <th>isMobile</th>\n",
       "      <th>country</th>\n",
       "      <th>isClick</th>\n",
       "      <th>productPrice</th>\n",
       "    </tr>\n",
       "  </thead>\n",
       "  <tbody>\n",
       "    <tr>\n",
       "      <th>0</th>\n",
       "      <td>0</td>\n",
       "      <td>Chrome</td>\n",
       "      <td>False</td>\n",
       "      <td>United States</td>\n",
       "      <td>0</td>\n",
       "      <td>0.0</td>\n",
       "    </tr>\n",
       "    <tr>\n",
       "      <th>1</th>\n",
       "      <td>0</td>\n",
       "      <td>Chrome</td>\n",
       "      <td>False</td>\n",
       "      <td>United States</td>\n",
       "      <td>0</td>\n",
       "      <td>0.0</td>\n",
       "    </tr>\n",
       "    <tr>\n",
       "      <th>2</th>\n",
       "      <td>1</td>\n",
       "      <td>Chrome</td>\n",
       "      <td>False</td>\n",
       "      <td>United States</td>\n",
       "      <td>0</td>\n",
       "      <td>0.0</td>\n",
       "    </tr>\n",
       "    <tr>\n",
       "      <th>3</th>\n",
       "      <td>1</td>\n",
       "      <td>Chrome</td>\n",
       "      <td>False</td>\n",
       "      <td>United States</td>\n",
       "      <td>0</td>\n",
       "      <td>0.0</td>\n",
       "    </tr>\n",
       "    <tr>\n",
       "      <th>4</th>\n",
       "      <td>1</td>\n",
       "      <td>Chrome</td>\n",
       "      <td>False</td>\n",
       "      <td>United States</td>\n",
       "      <td>0</td>\n",
       "      <td>0.0</td>\n",
       "    </tr>\n",
       "  </tbody>\n",
       "</table>\n",
       "</div>"
      ],
      "text/plain": [
       "   hour browser  isMobile        country  isClick  productPrice\n",
       "0     0  Chrome     False  United States        0           0.0\n",
       "1     0  Chrome     False  United States        0           0.0\n",
       "2     1  Chrome     False  United States        0           0.0\n",
       "3     1  Chrome     False  United States        0           0.0\n",
       "4     1  Chrome     False  United States        0           0.0"
      ]
     },
     "execution_count": 123,
     "metadata": {},
     "output_type": "execute_result"
    }
   ],
   "source": [
    "%%bigquery --project $PROJECT \n",
    "SELECT * FROM `google_analytics.ga_dataset_cleansed` LIMIT 5"
   ]
  },
  {
   "cell_type": "markdown",
   "metadata": {},
   "source": [
    "# pandasを利用して統計的な特徴を確認"
   ]
  },
  {
   "cell_type": "markdown",
   "metadata": {},
   "source": [
    "次に、pandasを利用して、データセットの概観を確認します。ただし、全部とってくると当然メモリに乗らない(乗る量ならそもそもBigQueryを使わなくてもよい)ので、`RAND()`関数で適当にsamplingしてきます"
   ]
  },
  {
   "cell_type": "code",
   "execution_count": 124,
   "metadata": {},
   "outputs": [],
   "source": [
    "%%bigquery data_sampled --project $PROJECT \n",
    "-- 10%だけサンプリング\n",
    "SELECT \n",
    "    * FROM `google_analytics.ga_dataset_cleansed` \n",
    "WHERE  RAND() < 0.1"
   ]
  },
  {
   "cell_type": "markdown",
   "metadata": {},
   "source": [
    "概観を確認します"
   ]
  },
  {
   "cell_type": "code",
   "execution_count": 125,
   "metadata": {},
   "outputs": [
    {
     "data": {
      "text/html": [
       "<div>\n",
       "<style scoped>\n",
       "    .dataframe tbody tr th:only-of-type {\n",
       "        vertical-align: middle;\n",
       "    }\n",
       "\n",
       "    .dataframe tbody tr th {\n",
       "        vertical-align: top;\n",
       "    }\n",
       "\n",
       "    .dataframe thead th {\n",
       "        text-align: right;\n",
       "    }\n",
       "</style>\n",
       "<table border=\"1\" class=\"dataframe\">\n",
       "  <thead>\n",
       "    <tr style=\"text-align: right;\">\n",
       "      <th></th>\n",
       "      <th>hour</th>\n",
       "      <th>isClick</th>\n",
       "      <th>productPrice</th>\n",
       "    </tr>\n",
       "  </thead>\n",
       "  <tbody>\n",
       "    <tr>\n",
       "      <th>count</th>\n",
       "      <td>9230.000000</td>\n",
       "      <td>9230.000000</td>\n",
       "      <td>9230.000000</td>\n",
       "    </tr>\n",
       "    <tr>\n",
       "      <th>mean</th>\n",
       "      <td>12.747996</td>\n",
       "      <td>0.021993</td>\n",
       "      <td>23.121088</td>\n",
       "    </tr>\n",
       "    <tr>\n",
       "      <th>std</th>\n",
       "      <td>5.346544</td>\n",
       "      <td>0.146670</td>\n",
       "      <td>25.548049</td>\n",
       "    </tr>\n",
       "    <tr>\n",
       "      <th>min</th>\n",
       "      <td>0.000000</td>\n",
       "      <td>0.000000</td>\n",
       "      <td>0.000000</td>\n",
       "    </tr>\n",
       "    <tr>\n",
       "      <th>25%</th>\n",
       "      <td>9.000000</td>\n",
       "      <td>0.000000</td>\n",
       "      <td>7.967500</td>\n",
       "    </tr>\n",
       "    <tr>\n",
       "      <th>50%</th>\n",
       "      <td>12.000000</td>\n",
       "      <td>0.000000</td>\n",
       "      <td>16.990000</td>\n",
       "    </tr>\n",
       "    <tr>\n",
       "      <th>75%</th>\n",
       "      <td>17.000000</td>\n",
       "      <td>0.000000</td>\n",
       "      <td>21.990000</td>\n",
       "    </tr>\n",
       "    <tr>\n",
       "      <th>max</th>\n",
       "      <td>23.000000</td>\n",
       "      <td>1.000000</td>\n",
       "      <td>575.700000</td>\n",
       "    </tr>\n",
       "  </tbody>\n",
       "</table>\n",
       "</div>"
      ],
      "text/plain": [
       "              hour      isClick  productPrice\n",
       "count  9230.000000  9230.000000   9230.000000\n",
       "mean     12.747996     0.021993     23.121088\n",
       "std       5.346544     0.146670     25.548049\n",
       "min       0.000000     0.000000      0.000000\n",
       "25%       9.000000     0.000000      7.967500\n",
       "50%      12.000000     0.000000     16.990000\n",
       "75%      17.000000     0.000000     21.990000\n",
       "max      23.000000     1.000000    575.700000"
      ]
     },
     "execution_count": 125,
     "metadata": {},
     "output_type": "execute_result"
    }
   ],
   "source": [
    "data_sampled.describe()"
   ]
  },
  {
   "cell_type": "markdown",
   "metadata": {},
   "source": [
    "大まかな値段の分布やclickする確率がわかります。CTRは0.02程度で、`productPrice`の分布は右に歪んでそうですね"
   ]
  },
  {
   "cell_type": "markdown",
   "metadata": {},
   "source": [
    "# よりよい特徴量を探索"
   ]
  },
  {
   "cell_type": "markdown",
   "metadata": {},
   "source": [
    "よりよい説明変数を見つけたり、逆に役に立たない変数を削ったりするために、特徴量ごとに分布や特性を分析、可視化してきます"
   ]
  },
  {
   "cell_type": "markdown",
   "metadata": {},
   "source": [
    "## hour特徴量"
   ]
  },
  {
   "cell_type": "markdown",
   "metadata": {},
   "source": [
    "`hour`ごとに見たときになにか特徴がないかを確認します"
   ]
  },
  {
   "cell_type": "code",
   "execution_count": 99,
   "metadata": {},
   "outputs": [
    {
     "data": {
      "text/html": [
       "<div>\n",
       "<style scoped>\n",
       "    .dataframe tbody tr th:only-of-type {\n",
       "        vertical-align: middle;\n",
       "    }\n",
       "\n",
       "    .dataframe tbody tr th {\n",
       "        vertical-align: top;\n",
       "    }\n",
       "\n",
       "    .dataframe thead th {\n",
       "        text-align: right;\n",
       "    }\n",
       "</style>\n",
       "<table border=\"1\" class=\"dataframe\">\n",
       "  <thead>\n",
       "    <tr style=\"text-align: right;\">\n",
       "      <th></th>\n",
       "      <th>corr</th>\n",
       "    </tr>\n",
       "  </thead>\n",
       "  <tbody>\n",
       "    <tr>\n",
       "      <th>0</th>\n",
       "      <td>0.32829</td>\n",
       "    </tr>\n",
       "  </tbody>\n",
       "</table>\n",
       "</div>"
      ],
      "text/plain": [
       "      corr\n",
       "0  0.32829"
      ]
     },
     "execution_count": 99,
     "metadata": {},
     "output_type": "execute_result"
    }
   ],
   "source": [
    "%%bigquery --project $PROJECT \n",
    "-- hourとtransactionの数の相関係数\n",
    "WITH data AS(\n",
    "SELECT \n",
    "    hour, COUNT(1) AS numTrans \n",
    "FROM `google_analytics.ga_dataset_cleansed` GROUP BY hour\n",
    ")\n",
    "SELECT CORR(hour, numTrans) AS corr FROM data\n"
   ]
  },
  {
   "cell_type": "markdown",
   "metadata": {},
   "source": [
    "transction数と時間にはかなり相関がありますね。加えて、おそらく`hour`の値は国ごとに共通なので、時差のことを踏まえると、国別に見るとより相関が高いかもしれません"
   ]
  },
  {
   "cell_type": "code",
   "execution_count": 101,
   "metadata": {},
   "outputs": [
    {
     "data": {
      "text/html": [
       "<div>\n",
       "<style scoped>\n",
       "    .dataframe tbody tr th:only-of-type {\n",
       "        vertical-align: middle;\n",
       "    }\n",
       "\n",
       "    .dataframe tbody tr th {\n",
       "        vertical-align: top;\n",
       "    }\n",
       "\n",
       "    .dataframe thead th {\n",
       "        text-align: right;\n",
       "    }\n",
       "</style>\n",
       "<table border=\"1\" class=\"dataframe\">\n",
       "  <thead>\n",
       "    <tr style=\"text-align: right;\">\n",
       "      <th></th>\n",
       "      <th>country</th>\n",
       "      <th>numTrans</th>\n",
       "      <th>corr</th>\n",
       "    </tr>\n",
       "  </thead>\n",
       "  <tbody>\n",
       "    <tr>\n",
       "      <th>0</th>\n",
       "      <td>United States</td>\n",
       "      <td>71621</td>\n",
       "      <td>0.378118</td>\n",
       "    </tr>\n",
       "    <tr>\n",
       "      <th>1</th>\n",
       "      <td>United Kingdom</td>\n",
       "      <td>2502</td>\n",
       "      <td>-0.377689</td>\n",
       "    </tr>\n",
       "    <tr>\n",
       "      <th>2</th>\n",
       "      <td>Canada</td>\n",
       "      <td>2067</td>\n",
       "      <td>0.377426</td>\n",
       "    </tr>\n",
       "    <tr>\n",
       "      <th>3</th>\n",
       "      <td>India</td>\n",
       "      <td>2020</td>\n",
       "      <td>-0.086196</td>\n",
       "    </tr>\n",
       "    <tr>\n",
       "      <th>4</th>\n",
       "      <td>Brazil</td>\n",
       "      <td>1438</td>\n",
       "      <td>0.140260</td>\n",
       "    </tr>\n",
       "    <tr>\n",
       "      <th>5</th>\n",
       "      <td>Mexico</td>\n",
       "      <td>971</td>\n",
       "      <td>0.446485</td>\n",
       "    </tr>\n",
       "    <tr>\n",
       "      <th>6</th>\n",
       "      <td>Taiwan</td>\n",
       "      <td>901</td>\n",
       "      <td>0.563291</td>\n",
       "    </tr>\n",
       "    <tr>\n",
       "      <th>7</th>\n",
       "      <td>Japan</td>\n",
       "      <td>891</td>\n",
       "      <td>-0.219272</td>\n",
       "    </tr>\n",
       "    <tr>\n",
       "      <th>8</th>\n",
       "      <td>Australia</td>\n",
       "      <td>643</td>\n",
       "      <td>-0.066862</td>\n",
       "    </tr>\n",
       "    <tr>\n",
       "      <th>9</th>\n",
       "      <td>Spain</td>\n",
       "      <td>570</td>\n",
       "      <td>0.884690</td>\n",
       "    </tr>\n",
       "  </tbody>\n",
       "</table>\n",
       "</div>"
      ],
      "text/plain": [
       "          country  numTrans      corr\n",
       "0   United States     71621  0.378118\n",
       "1  United Kingdom      2502 -0.377689\n",
       "2          Canada      2067  0.377426\n",
       "3           India      2020 -0.086196\n",
       "4          Brazil      1438  0.140260\n",
       "5          Mexico       971  0.446485\n",
       "6          Taiwan       901  0.563291\n",
       "7           Japan       891 -0.219272\n",
       "8       Australia       643 -0.066862\n",
       "9           Spain       570  0.884690"
      ]
     },
     "execution_count": 101,
     "metadata": {},
     "output_type": "execute_result"
    }
   ],
   "source": [
    "%%bigquery --project $PROJECT \n",
    "-- hourとtransactionの数の相関係数\n",
    "WITH data AS(\n",
    "SELECT \n",
    "    country, hour, COUNT(1) AS numTrans \n",
    "FROM `google_analytics.ga_dataset_cleansed` GROUP BY country, hour\n",
    ")\n",
    "-- 国ごと集計\n",
    "SELECT \n",
    "    country, SUM(numTrans) AS numTrans, CORR(hour, numTrans) AS corr \n",
    "FROM data GROUP BY country\n",
    "-- transction数が多い国のみ表示\n",
    "ORDER BY numTrans DESC LIMIT 10 "
   ]
  },
  {
   "cell_type": "markdown",
   "metadata": {},
   "source": [
    "国ごとに見たほうがtransaction数と時間にかなり相関がありそうです。同じ時間でも国ごとに特徴が違うならば、`hour`特徴量はそのまま使うよりも`country`との交差特徴量として生成したほうがより有用そうです  \n",
    "交差項の作成のために、bqには`ML.FEATURE_CROSS`という関数が用意されているので、これで交差特徴量を作成します"
   ]
  },
  {
   "cell_type": "code",
   "execution_count": 153,
   "metadata": {},
   "outputs": [
    {
     "data": {
      "text/html": [
       "<div>\n",
       "<style scoped>\n",
       "    .dataframe tbody tr th:only-of-type {\n",
       "        vertical-align: middle;\n",
       "    }\n",
       "\n",
       "    .dataframe tbody tr th {\n",
       "        vertical-align: top;\n",
       "    }\n",
       "\n",
       "    .dataframe thead th {\n",
       "        text-align: right;\n",
       "    }\n",
       "</style>\n",
       "<table border=\"1\" class=\"dataframe\">\n",
       "  <thead>\n",
       "    <tr style=\"text-align: right;\">\n",
       "      <th></th>\n",
       "      <th>country</th>\n",
       "      <th>hour</th>\n",
       "      <th>country_hour</th>\n",
       "    </tr>\n",
       "  </thead>\n",
       "  <tbody>\n",
       "    <tr>\n",
       "      <th>0</th>\n",
       "      <td>United States</td>\n",
       "      <td>0</td>\n",
       "      <td>{'country_hour': 'United States_0'}</td>\n",
       "    </tr>\n",
       "    <tr>\n",
       "      <th>1</th>\n",
       "      <td>United States</td>\n",
       "      <td>0</td>\n",
       "      <td>{'country_hour': 'United States_0'}</td>\n",
       "    </tr>\n",
       "    <tr>\n",
       "      <th>2</th>\n",
       "      <td>United States</td>\n",
       "      <td>1</td>\n",
       "      <td>{'country_hour': 'United States_1'}</td>\n",
       "    </tr>\n",
       "    <tr>\n",
       "      <th>3</th>\n",
       "      <td>United States</td>\n",
       "      <td>1</td>\n",
       "      <td>{'country_hour': 'United States_1'}</td>\n",
       "    </tr>\n",
       "    <tr>\n",
       "      <th>4</th>\n",
       "      <td>United States</td>\n",
       "      <td>1</td>\n",
       "      <td>{'country_hour': 'United States_1'}</td>\n",
       "    </tr>\n",
       "  </tbody>\n",
       "</table>\n",
       "</div>"
      ],
      "text/plain": [
       "         country  hour                         country_hour\n",
       "0  United States     0  {'country_hour': 'United States_0'}\n",
       "1  United States     0  {'country_hour': 'United States_0'}\n",
       "2  United States     1  {'country_hour': 'United States_1'}\n",
       "3  United States     1  {'country_hour': 'United States_1'}\n",
       "4  United States     1  {'country_hour': 'United States_1'}"
      ]
     },
     "execution_count": 153,
     "metadata": {},
     "output_type": "execute_result"
    }
   ],
   "source": [
    "%%bigquery --project $PROJECT \n",
    "SELECT \n",
    "    country,\n",
    "    hour,\n",
    "    ML.FEATURE_CROSS(\n",
    "    STRUCT(\n",
    "            country,\n",
    "-- 数値型の場合はサポートされていないので、CASTする\n",
    "            CAST(hour AS STRING) AS hour\n",
    "    )) AS countryHour\n",
    "FROM `google_analytics.ga_dataset_cleansed`  LIMIT 5"
   ]
  },
  {
   "cell_type": "markdown",
   "metadata": {},
   "source": [
    "## productPrice特徴量"
   ]
  },
  {
   "cell_type": "markdown",
   "metadata": {},
   "source": [
    "商品の値段分布にどのような特徴があるかを見てみます  \n",
    "まず、観測数を10分割したときに区切りとなる値を`APPROX_QUANTIELS`関数で見てみます"
   ]
  },
  {
   "cell_type": "code",
   "execution_count": 143,
   "metadata": {},
   "outputs": [
    {
     "data": {
      "text/html": [
       "<div>\n",
       "<style scoped>\n",
       "    .dataframe tbody tr th:only-of-type {\n",
       "        vertical-align: middle;\n",
       "    }\n",
       "\n",
       "    .dataframe tbody tr th {\n",
       "        vertical-align: top;\n",
       "    }\n",
       "\n",
       "    .dataframe thead th {\n",
       "        text-align: right;\n",
       "    }\n",
       "</style>\n",
       "<table border=\"1\" class=\"dataframe\">\n",
       "  <thead>\n",
       "    <tr style=\"text-align: right;\">\n",
       "      <th></th>\n",
       "      <th>quantile</th>\n",
       "    </tr>\n",
       "  </thead>\n",
       "  <tbody>\n",
       "    <tr>\n",
       "      <th>0</th>\n",
       "      <td>0.00</td>\n",
       "    </tr>\n",
       "    <tr>\n",
       "      <th>1</th>\n",
       "      <td>1.99</td>\n",
       "    </tr>\n",
       "    <tr>\n",
       "      <th>2</th>\n",
       "      <td>4.99</td>\n",
       "    </tr>\n",
       "    <tr>\n",
       "      <th>3</th>\n",
       "      <td>10.99</td>\n",
       "    </tr>\n",
       "    <tr>\n",
       "      <th>4</th>\n",
       "      <td>16.99</td>\n",
       "    </tr>\n",
       "    <tr>\n",
       "      <th>5</th>\n",
       "      <td>16.99</td>\n",
       "    </tr>\n",
       "    <tr>\n",
       "      <th>6</th>\n",
       "      <td>17.99</td>\n",
       "    </tr>\n",
       "    <tr>\n",
       "      <th>7</th>\n",
       "      <td>20.99</td>\n",
       "    </tr>\n",
       "    <tr>\n",
       "      <th>8</th>\n",
       "      <td>25.00</td>\n",
       "    </tr>\n",
       "    <tr>\n",
       "      <th>9</th>\n",
       "      <td>59.99</td>\n",
       "    </tr>\n",
       "    <tr>\n",
       "      <th>10</th>\n",
       "      <td>575.70</td>\n",
       "    </tr>\n",
       "  </tbody>\n",
       "</table>\n",
       "</div>"
      ],
      "text/plain": [
       "    quantile\n",
       "0       0.00\n",
       "1       1.99\n",
       "2       4.99\n",
       "3      10.99\n",
       "4      16.99\n",
       "5      16.99\n",
       "6      17.99\n",
       "7      20.99\n",
       "8      25.00\n",
       "9      59.99\n",
       "10    575.70"
      ]
     },
     "execution_count": 143,
     "metadata": {},
     "output_type": "execute_result"
    }
   ],
   "source": [
    "%%bigquery --project $PROJECT \n",
    "-- hourとtransactionの数の総関係数\n",
    "WITH data AS(\n",
    "SELECT \n",
    "        APPROX_QUANTILES(productPrice, 10) AS q\n",
    "FROM `google_analytics.ga_dataset_cleansed` \n",
    ")\n",
    "SELECT \n",
    "    quantile\n",
    "FROM data, UNNEST(q) AS quantile"
   ]
  },
  {
   "cell_type": "markdown",
   "metadata": {},
   "source": [
    "25以上の値の数は少なく、また、17あたりに値が集中しているようです  \n",
    "ここで、値段ごとにctrがどれ位変わるかを見るために、`ML.BUCKETIZE`関数で、指定した境界値ごとの値に区切ってみます"
   ]
  },
  {
   "cell_type": "code",
   "execution_count": 184,
   "metadata": {},
   "outputs": [
    {
     "data": {
      "text/html": [
       "<div>\n",
       "<style scoped>\n",
       "    .dataframe tbody tr th:only-of-type {\n",
       "        vertical-align: middle;\n",
       "    }\n",
       "\n",
       "    .dataframe tbody tr th {\n",
       "        vertical-align: top;\n",
       "    }\n",
       "\n",
       "    .dataframe thead th {\n",
       "        text-align: right;\n",
       "    }\n",
       "</style>\n",
       "<table border=\"1\" class=\"dataframe\">\n",
       "  <thead>\n",
       "    <tr style=\"text-align: right;\">\n",
       "      <th></th>\n",
       "      <th>productPrice</th>\n",
       "      <th>priceBin</th>\n",
       "    </tr>\n",
       "  </thead>\n",
       "  <tbody>\n",
       "    <tr>\n",
       "      <th>0</th>\n",
       "      <td>0.0</td>\n",
       "      <td>bin_1</td>\n",
       "    </tr>\n",
       "    <tr>\n",
       "      <th>1</th>\n",
       "      <td>0.0</td>\n",
       "      <td>bin_1</td>\n",
       "    </tr>\n",
       "    <tr>\n",
       "      <th>2</th>\n",
       "      <td>0.0</td>\n",
       "      <td>bin_1</td>\n",
       "    </tr>\n",
       "    <tr>\n",
       "      <th>3</th>\n",
       "      <td>0.0</td>\n",
       "      <td>bin_1</td>\n",
       "    </tr>\n",
       "    <tr>\n",
       "      <th>4</th>\n",
       "      <td>0.0</td>\n",
       "      <td>bin_1</td>\n",
       "    </tr>\n",
       "  </tbody>\n",
       "</table>\n",
       "</div>"
      ],
      "text/plain": [
       "   productPrice priceBin\n",
       "0           0.0    bin_1\n",
       "1           0.0    bin_1\n",
       "2           0.0    bin_1\n",
       "3           0.0    bin_1\n",
       "4           0.0    bin_1"
      ]
     },
     "execution_count": 184,
     "metadata": {},
     "output_type": "execute_result"
    }
   ],
   "source": [
    "%%bigquery --project $PROJECT \n",
    "SELECT \n",
    "    productPrice,\n",
    "    ML.BUCKETIZE(\n",
    "        productPrice,\n",
    "        [2, 5, 16, 17, 20, 50]\n",
    "    ) AS priceBin\n",
    "FROM `google_analytics.ga_dataset_cleansed` \n",
    "LIMIT 5"
   ]
  },
  {
   "cell_type": "markdown",
   "metadata": {},
   "source": [
    "値段ごとにctrがどれ位変わるかを確認してみます"
   ]
  },
  {
   "cell_type": "code",
   "execution_count": 182,
   "metadata": {},
   "outputs": [
    {
     "data": {
      "text/html": [
       "<div>\n",
       "<style scoped>\n",
       "    .dataframe tbody tr th:only-of-type {\n",
       "        vertical-align: middle;\n",
       "    }\n",
       "\n",
       "    .dataframe tbody tr th {\n",
       "        vertical-align: top;\n",
       "    }\n",
       "\n",
       "    .dataframe thead th {\n",
       "        text-align: right;\n",
       "    }\n",
       "</style>\n",
       "<table border=\"1\" class=\"dataframe\">\n",
       "  <thead>\n",
       "    <tr style=\"text-align: right;\">\n",
       "      <th></th>\n",
       "      <th>priceBin</th>\n",
       "      <th>minPrice</th>\n",
       "      <th>maxPrice</th>\n",
       "      <th>numTrans</th>\n",
       "      <th>click</th>\n",
       "      <th>CTR</th>\n",
       "    </tr>\n",
       "  </thead>\n",
       "  <tbody>\n",
       "    <tr>\n",
       "      <th>0</th>\n",
       "      <td>bin_1</td>\n",
       "      <td>0.00</td>\n",
       "      <td>1.99</td>\n",
       "      <td>9247</td>\n",
       "      <td>168</td>\n",
       "      <td>0.018168</td>\n",
       "    </tr>\n",
       "    <tr>\n",
       "      <th>1</th>\n",
       "      <td>bin_2</td>\n",
       "      <td>2.00</td>\n",
       "      <td>4.99</td>\n",
       "      <td>11340</td>\n",
       "      <td>306</td>\n",
       "      <td>0.026984</td>\n",
       "    </tr>\n",
       "    <tr>\n",
       "      <th>2</th>\n",
       "      <td>bin_3</td>\n",
       "      <td>5.60</td>\n",
       "      <td>15.99</td>\n",
       "      <td>15928</td>\n",
       "      <td>365</td>\n",
       "      <td>0.022916</td>\n",
       "    </tr>\n",
       "    <tr>\n",
       "      <th>3</th>\n",
       "      <td>bin_4</td>\n",
       "      <td>16.79</td>\n",
       "      <td>16.99</td>\n",
       "      <td>17176</td>\n",
       "      <td>285</td>\n",
       "      <td>0.016593</td>\n",
       "    </tr>\n",
       "    <tr>\n",
       "      <th>4</th>\n",
       "      <td>bin_5</td>\n",
       "      <td>17.50</td>\n",
       "      <td>19.99</td>\n",
       "      <td>10084</td>\n",
       "      <td>140</td>\n",
       "      <td>0.013883</td>\n",
       "    </tr>\n",
       "    <tr>\n",
       "      <th>5</th>\n",
       "      <td>bin_6</td>\n",
       "      <td>20.00</td>\n",
       "      <td>49.95</td>\n",
       "      <td>17630</td>\n",
       "      <td>322</td>\n",
       "      <td>0.018264</td>\n",
       "    </tr>\n",
       "    <tr>\n",
       "      <th>6</th>\n",
       "      <td>bin_7</td>\n",
       "      <td>50.00</td>\n",
       "      <td>575.70</td>\n",
       "      <td>11602</td>\n",
       "      <td>448</td>\n",
       "      <td>0.038614</td>\n",
       "    </tr>\n",
       "  </tbody>\n",
       "</table>\n",
       "</div>"
      ],
      "text/plain": [
       "  priceBin  minPrice  maxPrice  numTrans  click       CTR\n",
       "0    bin_1      0.00      1.99      9247    168  0.018168\n",
       "1    bin_2      2.00      4.99     11340    306  0.026984\n",
       "2    bin_3      5.60     15.99     15928    365  0.022916\n",
       "3    bin_4     16.79     16.99     17176    285  0.016593\n",
       "4    bin_5     17.50     19.99     10084    140  0.013883\n",
       "5    bin_6     20.00     49.95     17630    322  0.018264\n",
       "6    bin_7     50.00    575.70     11602    448  0.038614"
      ]
     },
     "execution_count": 182,
     "metadata": {},
     "output_type": "execute_result"
    }
   ],
   "source": [
    "%%bigquery --project $PROJECT \n",
    "\n",
    "WITH data AS(\n",
    "SELECT\n",
    "    isClick,\n",
    "    productPrice,\n",
    "    ML.BUCKETIZE(\n",
    "        productPrice,\n",
    "        [2, 5, 16, 17, 20, 50]\n",
    "    ) AS priceBin\n",
    "FROM `google_analytics.ga_dataset_cleansed` \n",
    ") \n",
    "\n",
    "SELECT \n",
    "    priceBin,\n",
    "    MIN(productPrice)　AS minPrice,\n",
    "    MAX(productPrice)　AS maxPrice,\n",
    "    COUNT(1)　AS numTrans,\n",
    "    SUM(isClick) AS click,\n",
    "    SUM(isClick)/COUNT(1) AS CTR\n",
    "FROM data\n",
    "GROUP BY priceBin\n",
    "ORDER BY priceBin"
   ]
  },
  {
   "cell_type": "markdown",
   "metadata": {},
   "source": [
    "値段が高くなると、CTRが下がるような傾向は見られず、また、`16.8`まわりに値段が極端に集中してます  \n",
    "なので、`productPrice`はそのまま数値としてではなく、binで区切り、カテゴリ特徴量に変換し、モデルに入力します"
   ]
  },
  {
   "cell_type": "markdown",
   "metadata": {},
   "source": [
    "# カテゴリ系の特徴量"
   ]
  },
  {
   "cell_type": "markdown",
   "metadata": {},
   "source": [
    "ブラウザごと、あるいは携帯からのアクセスかどうかで、CTRに違いが現れるかを確認します"
   ]
  },
  {
   "cell_type": "code",
   "execution_count": 195,
   "metadata": {},
   "outputs": [
    {
     "data": {
      "text/html": [
       "<div>\n",
       "<style scoped>\n",
       "    .dataframe tbody tr th:only-of-type {\n",
       "        vertical-align: middle;\n",
       "    }\n",
       "\n",
       "    .dataframe tbody tr th {\n",
       "        vertical-align: top;\n",
       "    }\n",
       "\n",
       "    .dataframe thead th {\n",
       "        text-align: right;\n",
       "    }\n",
       "</style>\n",
       "<table border=\"1\" class=\"dataframe\">\n",
       "  <thead>\n",
       "    <tr style=\"text-align: right;\">\n",
       "      <th></th>\n",
       "      <th>browser</th>\n",
       "      <th>isMobile</th>\n",
       "      <th>numTrans</th>\n",
       "      <th>numClick</th>\n",
       "      <th>CTR</th>\n",
       "    </tr>\n",
       "  </thead>\n",
       "  <tbody>\n",
       "    <tr>\n",
       "      <th>0</th>\n",
       "      <td>Amazon Silk</td>\n",
       "      <td>True</td>\n",
       "      <td>26</td>\n",
       "      <td>0</td>\n",
       "      <td>0.000000</td>\n",
       "    </tr>\n",
       "    <tr>\n",
       "      <th>1</th>\n",
       "      <td>Chrome</td>\n",
       "      <td>True</td>\n",
       "      <td>9271</td>\n",
       "      <td>159</td>\n",
       "      <td>0.017150</td>\n",
       "    </tr>\n",
       "    <tr>\n",
       "      <th>2</th>\n",
       "      <td>Chrome</td>\n",
       "      <td>False</td>\n",
       "      <td>67104</td>\n",
       "      <td>1574</td>\n",
       "      <td>0.023456</td>\n",
       "    </tr>\n",
       "    <tr>\n",
       "      <th>3</th>\n",
       "      <td>Edge</td>\n",
       "      <td>False</td>\n",
       "      <td>870</td>\n",
       "      <td>5</td>\n",
       "      <td>0.005747</td>\n",
       "    </tr>\n",
       "    <tr>\n",
       "      <th>4</th>\n",
       "      <td>Firefox</td>\n",
       "      <td>False</td>\n",
       "      <td>3699</td>\n",
       "      <td>55</td>\n",
       "      <td>0.014869</td>\n",
       "    </tr>\n",
       "    <tr>\n",
       "      <th>5</th>\n",
       "      <td>Internet Explorer</td>\n",
       "      <td>True</td>\n",
       "      <td>34</td>\n",
       "      <td>0</td>\n",
       "      <td>0.000000</td>\n",
       "    </tr>\n",
       "    <tr>\n",
       "      <th>6</th>\n",
       "      <td>Internet Explorer</td>\n",
       "      <td>False</td>\n",
       "      <td>1500</td>\n",
       "      <td>13</td>\n",
       "      <td>0.008667</td>\n",
       "    </tr>\n",
       "    <tr>\n",
       "      <th>7</th>\n",
       "      <td>Opera</td>\n",
       "      <td>False</td>\n",
       "      <td>140</td>\n",
       "      <td>2</td>\n",
       "      <td>0.014286</td>\n",
       "    </tr>\n",
       "    <tr>\n",
       "      <th>8</th>\n",
       "      <td>Safari</td>\n",
       "      <td>True</td>\n",
       "      <td>7207</td>\n",
       "      <td>146</td>\n",
       "      <td>0.020258</td>\n",
       "    </tr>\n",
       "    <tr>\n",
       "      <th>9</th>\n",
       "      <td>Safari</td>\n",
       "      <td>False</td>\n",
       "      <td>2570</td>\n",
       "      <td>71</td>\n",
       "      <td>0.027626</td>\n",
       "    </tr>\n",
       "    <tr>\n",
       "      <th>10</th>\n",
       "      <td>Safari (in-app)</td>\n",
       "      <td>True</td>\n",
       "      <td>215</td>\n",
       "      <td>9</td>\n",
       "      <td>0.041860</td>\n",
       "    </tr>\n",
       "    <tr>\n",
       "      <th>11</th>\n",
       "      <td>UC Browser</td>\n",
       "      <td>True</td>\n",
       "      <td>68</td>\n",
       "      <td>0</td>\n",
       "      <td>0.000000</td>\n",
       "    </tr>\n",
       "    <tr>\n",
       "      <th>12</th>\n",
       "      <td>YaBrowser</td>\n",
       "      <td>False</td>\n",
       "      <td>303</td>\n",
       "      <td>0</td>\n",
       "      <td>0.000000</td>\n",
       "    </tr>\n",
       "  </tbody>\n",
       "</table>\n",
       "</div>"
      ],
      "text/plain": [
       "              browser  isMobile  numTrans  numClick       CTR\n",
       "0         Amazon Silk      True        26         0  0.000000\n",
       "1              Chrome      True      9271       159  0.017150\n",
       "2              Chrome     False     67104      1574  0.023456\n",
       "3                Edge     False       870         5  0.005747\n",
       "4             Firefox     False      3699        55  0.014869\n",
       "5   Internet Explorer      True        34         0  0.000000\n",
       "6   Internet Explorer     False      1500        13  0.008667\n",
       "7               Opera     False       140         2  0.014286\n",
       "8              Safari      True      7207       146  0.020258\n",
       "9              Safari     False      2570        71  0.027626\n",
       "10    Safari (in-app)      True       215         9  0.041860\n",
       "11         UC Browser      True        68         0  0.000000\n",
       "12          YaBrowser     False       303         0  0.000000"
      ]
     },
     "execution_count": 195,
     "metadata": {},
     "output_type": "execute_result"
    }
   ],
   "source": [
    "%%bigquery --project $PROJECT \n",
    "SELECT\n",
    "    browser,\n",
    "    isMobile,\n",
    "    COUNT(1) AS numTrans,\n",
    "    SUM(isClick) AS numClick,\n",
    "    SUM(isClick)/COUNT(1) AS CTR\n",
    "FROM `google_analytics.ga_dataset_cleansed` \n",
    "GROUP BY browser, isMobile\n",
    "ORDER BY browser, isMobile DESC"
   ]
  },
  {
   "cell_type": "markdown",
   "metadata": {},
   "source": [
    "同じブラウザでも、携帯からのアクセスかどうかで異なるようなので、この2つも交差特徴量として入力します"
   ]
  },
  {
   "cell_type": "markdown",
   "metadata": {},
   "source": [
    "以上をまとめて、機械学習に入力するデータセットを作成します"
   ]
  },
  {
   "cell_type": "code",
   "execution_count": 199,
   "metadata": {},
   "outputs": [
    {
     "data": {
      "text/html": [
       "<div>\n",
       "<style scoped>\n",
       "    .dataframe tbody tr th:only-of-type {\n",
       "        vertical-align: middle;\n",
       "    }\n",
       "\n",
       "    .dataframe tbody tr th {\n",
       "        vertical-align: top;\n",
       "    }\n",
       "\n",
       "    .dataframe thead th {\n",
       "        text-align: right;\n",
       "    }\n",
       "</style>\n",
       "<table border=\"1\" class=\"dataframe\">\n",
       "  <thead>\n",
       "    <tr style=\"text-align: right;\">\n",
       "      <th></th>\n",
       "    </tr>\n",
       "  </thead>\n",
       "  <tbody>\n",
       "  </tbody>\n",
       "</table>\n",
       "</div>"
      ],
      "text/plain": [
       "Empty DataFrame\n",
       "Columns: []\n",
       "Index: []"
      ]
     },
     "execution_count": 199,
     "metadata": {},
     "output_type": "execute_result"
    }
   ],
   "source": [
    "%%bigquery --project $PROJECT \n",
    "CREATE OR REPLACE TABLE google_analytics.ga_dataset_feature AS\n",
    "SELECT\n",
    "    ML.FEATURE_CROSS(\n",
    "    STRUCT(\n",
    "            country,\n",
    "            CAST(hour AS STRING) AS hour\n",
    "    )) \n",
    "    AS countryHour,\n",
    "    ML.FEATURE_CROSS(\n",
    "    STRUCT(\n",
    "            browser,\n",
    "            isMobile\n",
    "    )) \n",
    "    AS browserMobile,\n",
    "    ML.BUCKETIZE(\n",
    "    productPrice,\n",
    "    [2, 5, 16, 17, 20, 50]\n",
    "    ) AS priceBin,\n",
    "    isClick\n",
    "FROM  `google_analytics.ga_dataset_cleansed`  "
   ]
  },
  {
   "cell_type": "code",
   "execution_count": 200,
   "metadata": {},
   "outputs": [
    {
     "data": {
      "text/html": [
       "<div>\n",
       "<style scoped>\n",
       "    .dataframe tbody tr th:only-of-type {\n",
       "        vertical-align: middle;\n",
       "    }\n",
       "\n",
       "    .dataframe tbody tr th {\n",
       "        vertical-align: top;\n",
       "    }\n",
       "\n",
       "    .dataframe thead th {\n",
       "        text-align: right;\n",
       "    }\n",
       "</style>\n",
       "<table border=\"1\" class=\"dataframe\">\n",
       "  <thead>\n",
       "    <tr style=\"text-align: right;\">\n",
       "      <th></th>\n",
       "      <th>countryHour</th>\n",
       "      <th>browserMobile</th>\n",
       "      <th>priceBin</th>\n",
       "      <th>isClick</th>\n",
       "    </tr>\n",
       "  </thead>\n",
       "  <tbody>\n",
       "    <tr>\n",
       "      <th>0</th>\n",
       "      <td>{'country_hour': 'Peru_9'}</td>\n",
       "      <td>{'browser_isMobile': 'Chrome_false'}</td>\n",
       "      <td>bin_1</td>\n",
       "      <td>0</td>\n",
       "    </tr>\n",
       "    <tr>\n",
       "      <th>1</th>\n",
       "      <td>{'country_hour': 'Peru_9'}</td>\n",
       "      <td>{'browser_isMobile': 'Chrome_false'}</td>\n",
       "      <td>bin_1</td>\n",
       "      <td>0</td>\n",
       "    </tr>\n",
       "    <tr>\n",
       "      <th>2</th>\n",
       "      <td>{'country_hour': 'Peru_9'}</td>\n",
       "      <td>{'browser_isMobile': 'Chrome_false'}</td>\n",
       "      <td>bin_1</td>\n",
       "      <td>0</td>\n",
       "    </tr>\n",
       "    <tr>\n",
       "      <th>3</th>\n",
       "      <td>{'country_hour': 'Peru_9'}</td>\n",
       "      <td>{'browser_isMobile': 'Chrome_false'}</td>\n",
       "      <td>bin_1</td>\n",
       "      <td>0</td>\n",
       "    </tr>\n",
       "    <tr>\n",
       "      <th>4</th>\n",
       "      <td>{'country_hour': 'Peru_9'}</td>\n",
       "      <td>{'browser_isMobile': 'Chrome_false'}</td>\n",
       "      <td>bin_1</td>\n",
       "      <td>0</td>\n",
       "    </tr>\n",
       "  </tbody>\n",
       "</table>\n",
       "</div>"
      ],
      "text/plain": [
       "                  countryHour                         browserMobile priceBin  \\\n",
       "0  {'country_hour': 'Peru_9'}  {'browser_isMobile': 'Chrome_false'}    bin_1   \n",
       "1  {'country_hour': 'Peru_9'}  {'browser_isMobile': 'Chrome_false'}    bin_1   \n",
       "2  {'country_hour': 'Peru_9'}  {'browser_isMobile': 'Chrome_false'}    bin_1   \n",
       "3  {'country_hour': 'Peru_9'}  {'browser_isMobile': 'Chrome_false'}    bin_1   \n",
       "4  {'country_hour': 'Peru_9'}  {'browser_isMobile': 'Chrome_false'}    bin_1   \n",
       "\n",
       "   isClick  \n",
       "0        0  \n",
       "1        0  \n",
       "2        0  \n",
       "3        0  \n",
       "4        0  "
      ]
     },
     "execution_count": 200,
     "metadata": {},
     "output_type": "execute_result"
    }
   ],
   "source": [
    "%%bigquery --project $PROJECT \n",
    "\n",
    "SELECT * FROM  `google_analytics.ga_dataset_feature`  LIMIT 5 "
   ]
  },
  {
   "cell_type": "markdown",
   "metadata": {},
   "source": [
    "次に、このデータセットをモデルを作成し入力します(また今度書きます)"
   ]
  }
 ],
 "metadata": {
  "kernelspec": {
   "display_name": "Python 3",
   "language": "python",
   "name": "python3"
  },
  "language_info": {
   "codemirror_mode": {
    "name": "ipython",
    "version": 3
   },
   "file_extension": ".py",
   "mimetype": "text/x-python",
   "name": "python",
   "nbconvert_exporter": "python",
   "pygments_lexer": "ipython3",
   "version": "3.7.1"
  }
 },
 "nbformat": 4,
 "nbformat_minor": 4
}
