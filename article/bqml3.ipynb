{
 "cells": [
  {
   "cell_type": "markdown",
   "metadata": {},
   "source": [
    "# BigQuery + jupyterで機械学習を行う(BQMLの使い方について)"
   ]
  },
  {
   "cell_type": "markdown",
   "metadata": {},
   "source": [
    "## これなに?\n",
    "\n",
    "この記事はBQMLで利用できるアルゴリズム、モデルを作成する方法と、評価値の確認や特徴量生成や評価値の確認などで有用な関数についてまとめてあります  \n",
    "一応続き物ということになってますが、前回記事と前々回記事はデータセットの作成までしか行っていないので、BQMLの使い方自体については、この記事だけで完結してます  \n",
    "興味ある方は\n",
    "- [BigQuery + jupyterで機械学習を行う(その1: データセットの作成)(前々回記事)](https://qiita.com/hiroaki_hase/items/3d7da2166b5bc495879f)\n",
    "- [BigQuery + jupyterで機械学習を行う(その2: 前処理、EDA、特徴量生成)\n",
    "(前回記事)](https://qiita.com/hiroaki_hase/items/5fcc9f056d44105d186e)\n",
    "\n",
    "をお読みいただけると嬉しいです  \n",
    "なお、すべての処理はjupyter上で行い、この記事自体もjupyterで書きました(jupyter上でbqを使用する方法については前々回記事参照)"
   ]
  },
  {
   "cell_type": "code",
   "execution_count": 133,
   "metadata": {},
   "outputs": [],
   "source": [
    "from google.cloud.bigquery import magics\n",
    "from google.oauth2 import service_account\n",
    "credentials = (service_account.Credentials.from_service_account_file('[/path/to/key.json]'))\n",
    "magics.context.credentials = credentials"
   ]
  },
  {
   "cell_type": "code",
   "execution_count": 134,
   "metadata": {},
   "outputs": [
    {
     "name": "stdout",
     "output_type": "stream",
     "text": [
      "The google.cloud.bigquery extension is already loaded. To reload it, use:\n",
      "  %reload_ext google.cloud.bigquery\n"
     ]
    }
   ],
   "source": [
    "%load_ext google.cloud.bigquery"
   ]
  },
  {
   "cell_type": "code",
   "execution_count": 137,
   "metadata": {},
   "outputs": [],
   "source": [
    "PROJECT ='自身で作成したプロジェクトID'"
   ]
  },
  {
   "cell_type": "markdown",
   "metadata": {},
   "source": [
    "# BQMLの使いどころ\n",
    "- 大量のデータセットから、素早く学習、予測を行いたい場合\n",
    "    - アルゴリズムによりますが数千万レコードのデータセットでも数分で学習が実行できます\n",
    "- 素早く機械学習システムをプロダクトに導入したい場合\n",
    "    - 機械学習が実行でき、かつクエリを定期実行することも可能なので、極端に高い精度が求められなければ、低コストで機械学習システムを導入できます\n",
    "- とりあえず、機械学習を試してみたい場合\n",
    "    - 上記に似てますが、SQLで完結するのと、パラメータのチューニングや必要最低限の前処理などはよしなにやってくれるので、あまり機械学習に触れたことがない人でも簡単に試せます"
   ]
  },
  {
   "cell_type": "markdown",
   "metadata": {},
   "source": [
    "# アルゴリズム一覧(2019/7月時点)\n",
    "## 普通に使える\n",
    "- linear_reg\n",
    "\t- 線形回帰\n",
    "- logistic_reg\n",
    "\t- ロジスティック回帰\n",
    "- kmeans\n",
    "\t- k-平均法\n",
    "\t- 唯一の教師なしアルゴリズム\n",
    "\n",
    "## betaにだけある\n",
    "- tensorflow\n",
    "\t- cloud storage に保存してあるmodel fileを呼び出して実行\n",
    "\t\n",
    "## 発表だけあった\n",
    "- matrix_factorization\n",
    "\t- 協調フィルタリング\n",
    "\t- 4月のNext19で発表\n",
    "\t- いまのところbetaにもなし\n",
    "\n",
    "- dnn_classifier\n",
    "\t- いわゆるDeep Learning\n",
    "\t- 4月のNext19で発表\n",
    "\t- いまのところbetaにもなし"
   ]
  },
  {
   "cell_type": "markdown",
   "metadata": {},
   "source": [
    "# 使用するデータセット"
   ]
  },
  {
   "cell_type": "markdown",
   "metadata": {},
   "source": [
    "前回の記事で作成したgoogle_analyticsのdatasetから、特定の商品をclickする確率を予測します"
   ]
  },
  {
   "cell_type": "code",
   "execution_count": 138,
   "metadata": {},
   "outputs": [
    {
     "data": {
      "text/html": [
       "<div>\n",
       "<style scoped>\n",
       "    .dataframe tbody tr th:only-of-type {\n",
       "        vertical-align: middle;\n",
       "    }\n",
       "\n",
       "    .dataframe tbody tr th {\n",
       "        vertical-align: top;\n",
       "    }\n",
       "\n",
       "    .dataframe thead th {\n",
       "        text-align: right;\n",
       "    }\n",
       "</style>\n",
       "<table border=\"1\" class=\"dataframe\">\n",
       "  <thead>\n",
       "    <tr style=\"text-align: right;\">\n",
       "      <th></th>\n",
       "      <th>countryHour</th>\n",
       "      <th>browserMobile</th>\n",
       "      <th>priceBin</th>\n",
       "      <th>isClick</th>\n",
       "    </tr>\n",
       "  </thead>\n",
       "  <tbody>\n",
       "    <tr>\n",
       "      <th>0</th>\n",
       "      <td>{'country_hour': 'Peru_9'}</td>\n",
       "      <td>{'browser_isMobile': 'Chrome_false'}</td>\n",
       "      <td>bin_1</td>\n",
       "      <td>0</td>\n",
       "    </tr>\n",
       "    <tr>\n",
       "      <th>1</th>\n",
       "      <td>{'country_hour': 'Peru_9'}</td>\n",
       "      <td>{'browser_isMobile': 'Chrome_false'}</td>\n",
       "      <td>bin_1</td>\n",
       "      <td>0</td>\n",
       "    </tr>\n",
       "    <tr>\n",
       "      <th>2</th>\n",
       "      <td>{'country_hour': 'Peru_9'}</td>\n",
       "      <td>{'browser_isMobile': 'Chrome_false'}</td>\n",
       "      <td>bin_1</td>\n",
       "      <td>0</td>\n",
       "    </tr>\n",
       "    <tr>\n",
       "      <th>3</th>\n",
       "      <td>{'country_hour': 'Peru_9'}</td>\n",
       "      <td>{'browser_isMobile': 'Chrome_false'}</td>\n",
       "      <td>bin_1</td>\n",
       "      <td>0</td>\n",
       "    </tr>\n",
       "    <tr>\n",
       "      <th>4</th>\n",
       "      <td>{'country_hour': 'Peru_9'}</td>\n",
       "      <td>{'browser_isMobile': 'Chrome_false'}</td>\n",
       "      <td>bin_1</td>\n",
       "      <td>0</td>\n",
       "    </tr>\n",
       "  </tbody>\n",
       "</table>\n",
       "</div>"
      ],
      "text/plain": [
       "                  countryHour                         browserMobile priceBin  \\\n",
       "0  {'country_hour': 'Peru_9'}  {'browser_isMobile': 'Chrome_false'}    bin_1   \n",
       "1  {'country_hour': 'Peru_9'}  {'browser_isMobile': 'Chrome_false'}    bin_1   \n",
       "2  {'country_hour': 'Peru_9'}  {'browser_isMobile': 'Chrome_false'}    bin_1   \n",
       "3  {'country_hour': 'Peru_9'}  {'browser_isMobile': 'Chrome_false'}    bin_1   \n",
       "4  {'country_hour': 'Peru_9'}  {'browser_isMobile': 'Chrome_false'}    bin_1   \n",
       "\n",
       "   isClick  \n",
       "0        0  \n",
       "1        0  \n",
       "2        0  \n",
       "3        0  \n",
       "4        0  "
      ]
     },
     "execution_count": 138,
     "metadata": {},
     "output_type": "execute_result"
    }
   ],
   "source": [
    "%%bigquery --project $PROJECT \n",
    "SELECT * FROM `google_analytics.ga_dataset_feature` LIMIT 5"
   ]
  },
  {
   "cell_type": "markdown",
   "metadata": {},
   "source": [
    "# 特徴量生成(`ML.BUCKETIZE`、`ML.FEATURE_CROSS`)"
   ]
  },
  {
   "cell_type": "markdown",
   "metadata": {},
   "source": [
    "BQMLには、モデル作成以外にも特徴量生成のための関数も用意されてます。\n",
    "- `ML.FEATURE_CROSS`\n",
    "    - 交差特徴量を生成します\n",
    "- `ML.BUCKETIZE`\n",
    "    - 連続値を任意のしきい値で分けて、カテゴリにできます\n",
    "\n",
    "作成した結果の特徴量は以下のようになります。具体的な使い方は[前記事](https://qiita.com/hiroaki_hase/items/5fcc9f056d44105d186e#%E3%82%88%E3%82%8A%E3%82%88%E3%81%84%E7%89%B9%E5%BE%B4%E9%87%8F%E3%82%92%E6%8E%A2%E7%B4%A2)を参考にしてください"
   ]
  },
  {
   "cell_type": "code",
   "execution_count": 139,
   "metadata": {},
   "outputs": [
    {
     "data": {
      "text/html": [
       "<div>\n",
       "<style scoped>\n",
       "    .dataframe tbody tr th:only-of-type {\n",
       "        vertical-align: middle;\n",
       "    }\n",
       "\n",
       "    .dataframe tbody tr th {\n",
       "        vertical-align: top;\n",
       "    }\n",
       "\n",
       "    .dataframe thead th {\n",
       "        text-align: right;\n",
       "    }\n",
       "</style>\n",
       "<table border=\"1\" class=\"dataframe\">\n",
       "  <thead>\n",
       "    <tr style=\"text-align: right;\">\n",
       "      <th></th>\n",
       "      <th>countryHour</th>\n",
       "      <th>priceBin</th>\n",
       "    </tr>\n",
       "  </thead>\n",
       "  <tbody>\n",
       "    <tr>\n",
       "      <th>0</th>\n",
       "      <td>{'country_hour': 'Peru_9'}</td>\n",
       "      <td>bin_1</td>\n",
       "    </tr>\n",
       "    <tr>\n",
       "      <th>1</th>\n",
       "      <td>{'country_hour': 'Peru_9'}</td>\n",
       "      <td>bin_1</td>\n",
       "    </tr>\n",
       "    <tr>\n",
       "      <th>2</th>\n",
       "      <td>{'country_hour': 'Peru_9'}</td>\n",
       "      <td>bin_1</td>\n",
       "    </tr>\n",
       "    <tr>\n",
       "      <th>3</th>\n",
       "      <td>{'country_hour': 'Peru_9'}</td>\n",
       "      <td>bin_1</td>\n",
       "    </tr>\n",
       "    <tr>\n",
       "      <th>4</th>\n",
       "      <td>{'country_hour': 'Peru_9'}</td>\n",
       "      <td>bin_1</td>\n",
       "    </tr>\n",
       "  </tbody>\n",
       "</table>\n",
       "</div>"
      ],
      "text/plain": [
       "                  countryHour priceBin\n",
       "0  {'country_hour': 'Peru_9'}    bin_1\n",
       "1  {'country_hour': 'Peru_9'}    bin_1\n",
       "2  {'country_hour': 'Peru_9'}    bin_1\n",
       "3  {'country_hour': 'Peru_9'}    bin_1\n",
       "4  {'country_hour': 'Peru_9'}    bin_1"
      ]
     },
     "execution_count": 139,
     "metadata": {},
     "output_type": "execute_result"
    }
   ],
   "source": [
    "%%bigquery --project $PROJECT \n",
    "SELECT \n",
    "-- 交差特徴量\n",
    "    countryHour,  \n",
    "-- 境界値で区切ってbin化\n",
    "    priceBin\n",
    "FROM `google_analytics.ga_dataset_feature` LIMIT 5"
   ]
  },
  {
   "cell_type": "markdown",
   "metadata": {},
   "source": [
    "# モデルの構築(`CREATE MODEL`)"
   ]
  },
  {
   "cell_type": "markdown",
   "metadata": {},
   "source": [
    "モデルを構築してみます。作り方は`CREATE TABLE`によく似ています  \n",
    "今回は分類問題をときたいので、アルゴリズムはロジスティック回帰(`logistic_reg`)で行います  \n",
    "モデルに入力する特徴量が順序特徴量として使われるか、カテゴリ特徴量として使われるかはカラムで定義されている型によって決定し、`INT64`、`FLOAT64`等の場合は数値として入力され、`STRING`、`TIMESTAMP`等の場合は、カテゴリ型として、自動でone-hot encodingされた後、モデルに入力されます"
   ]
  },
  {
   "cell_type": "code",
   "execution_count": 141,
   "metadata": {},
   "outputs": [
    {
     "data": {
      "text/html": [
       "<div>\n",
       "<style scoped>\n",
       "    .dataframe tbody tr th:only-of-type {\n",
       "        vertical-align: middle;\n",
       "    }\n",
       "\n",
       "    .dataframe tbody tr th {\n",
       "        vertical-align: top;\n",
       "    }\n",
       "\n",
       "    .dataframe thead th {\n",
       "        text-align: right;\n",
       "    }\n",
       "</style>\n",
       "<table border=\"1\" class=\"dataframe\">\n",
       "  <thead>\n",
       "    <tr style=\"text-align: right;\">\n",
       "      <th></th>\n",
       "    </tr>\n",
       "  </thead>\n",
       "  <tbody>\n",
       "  </tbody>\n",
       "</table>\n",
       "</div>"
      ],
      "text/plain": [
       "Empty DataFrame\n",
       "Columns: []\n",
       "Index: []"
      ]
     },
     "execution_count": 141,
     "metadata": {},
     "output_type": "execute_result"
    }
   ],
   "source": [
    "%%bigquery  --project $PROJECT \n",
    "CREATE OR REPLACE MODEL google_analytics.ga_model_log  \n",
    "OPTIONS(\n",
    "    INPUT_LABEL_COLS=['isClick'], \n",
    "    MODEL_TYPE='logistic_reg',\n",
    "    -- 今回はclickしないレコード数が多い不均衡データのため、\n",
    "    -- 重み値を頻度の逆数で重み付けする\n",
    "    AUTO_CLASS_WEIGHTS=True,\n",
    "    -- 下2つのパラメータはテスト用のデータを多くしたいがために設定。\n",
    "    -- 何も指定しないと2割のデータが自動でテスト用に使用される\n",
    "    DATA_SPLIT_METHOD='RANDOM',\n",
    "    DATA_SPLIT_EVAL_FRACTION=0.4\n",
    "    )\n",
    "AS \n",
    "SELECT * FROM `google_analytics.ga_dataset_feature` "
   ]
  },
  {
   "cell_type": "markdown",
   "metadata": {},
   "source": [
    "`INPUT_LABEL_COLS`には正解ラベルとなるカラム名を、`MODEL_TYPE`には使用するアルゴリズムを入力します  \n",
    "その他のパラメータを指定しないと、l2正則化や学習率などのハイパーパラメータや、trainデータとセットtestデータセットの分割方法などは自動で行われますが、指定したい場合はオプションで設定できます([詳細はドキュメント参照](https://cloud.google.com/bigquery-ml/docs/reference/standard-sql/bigqueryml-syntax-create?hl=ja))   \n",
    "\n",
    "`ga_model_log`という名前でモデルが生成されました。なお、モデルを修正したり消去したいときは、table作成と同じように`REPLACE MODEL`や`DROP MODEL`で行えます"
   ]
  },
  {
   "cell_type": "markdown",
   "metadata": {},
   "source": [
    "# トレーニング結果を確認(`ML.TRAINING_INFO`)\n",
    "イテレーション毎に適用されたパラメータと評価値がわかります。(ただし、コンソール上から見たほうが見やすいです)"
   ]
  },
  {
   "cell_type": "code",
   "execution_count": 142,
   "metadata": {},
   "outputs": [
    {
     "data": {
      "text/html": [
       "<div>\n",
       "<style scoped>\n",
       "    .dataframe tbody tr th:only-of-type {\n",
       "        vertical-align: middle;\n",
       "    }\n",
       "\n",
       "    .dataframe tbody tr th {\n",
       "        vertical-align: top;\n",
       "    }\n",
       "\n",
       "    .dataframe thead th {\n",
       "        text-align: right;\n",
       "    }\n",
       "</style>\n",
       "<table border=\"1\" class=\"dataframe\">\n",
       "  <thead>\n",
       "    <tr style=\"text-align: right;\">\n",
       "      <th></th>\n",
       "      <th>training_run</th>\n",
       "      <th>iteration</th>\n",
       "      <th>loss</th>\n",
       "      <th>eval_loss</th>\n",
       "      <th>duration_ms</th>\n",
       "      <th>learning_rate</th>\n",
       "    </tr>\n",
       "  </thead>\n",
       "  <tbody>\n",
       "    <tr>\n",
       "      <th>0</th>\n",
       "      <td>0</td>\n",
       "      <td>1</td>\n",
       "      <td>0.690266</td>\n",
       "      <td>0.690282</td>\n",
       "      <td>4934</td>\n",
       "      <td>0.4</td>\n",
       "    </tr>\n",
       "    <tr>\n",
       "      <th>1</th>\n",
       "      <td>0</td>\n",
       "      <td>0</td>\n",
       "      <td>0.692706</td>\n",
       "      <td>0.692721</td>\n",
       "      <td>3718</td>\n",
       "      <td>0.2</td>\n",
       "    </tr>\n",
       "  </tbody>\n",
       "</table>\n",
       "</div>"
      ],
      "text/plain": [
       "   training_run  iteration      loss  eval_loss  duration_ms  learning_rate\n",
       "0             0          1  0.690266   0.690282         4934            0.4\n",
       "1             0          0  0.692706   0.692721         3718            0.2"
      ]
     },
     "execution_count": 142,
     "metadata": {},
     "output_type": "execute_result"
    }
   ],
   "source": [
    "%%bigquery  --project $PROJECT \n",
    "SELECT * \n",
    "FROM \n",
    "ML.TRAINING_INFO(MODEL `google_analytics.ga_model_log`)"
   ]
  },
  {
   "cell_type": "markdown",
   "metadata": {},
   "source": [
    "# モデルの評価(`ML.EVALUATE`、`ML.ROC_CURVE`、`ML.CONFUSION_MATRIX`)\n",
    "\n",
    "作成したモデルの性能を確認するための関数です。本来ならば、BQコンソール上からGUIで確認したほうがきれいに可視化されており、そちらで見たほうがわかりやすいのですが、今回jupyterで完結させるため、あえてクエリを実行して確認します"
   ]
  },
  {
   "cell_type": "markdown",
   "metadata": {},
   "source": [
    "## ML.EVALUATE\n",
    "基本的なモデルの性能の評価値を確認します。どのアルゴリズム(TENSORFLOWを除く)で作成したモデルでも実行可能です(ただし、評価の項目は変わります)"
   ]
  },
  {
   "cell_type": "code",
   "execution_count": 143,
   "metadata": {},
   "outputs": [
    {
     "data": {
      "text/html": [
       "<div>\n",
       "<style scoped>\n",
       "    .dataframe tbody tr th:only-of-type {\n",
       "        vertical-align: middle;\n",
       "    }\n",
       "\n",
       "    .dataframe tbody tr th {\n",
       "        vertical-align: top;\n",
       "    }\n",
       "\n",
       "    .dataframe thead th {\n",
       "        text-align: right;\n",
       "    }\n",
       "</style>\n",
       "<table border=\"1\" class=\"dataframe\">\n",
       "  <thead>\n",
       "    <tr style=\"text-align: right;\">\n",
       "      <th></th>\n",
       "      <th>precision</th>\n",
       "      <th>recall</th>\n",
       "      <th>accuracy</th>\n",
       "      <th>f1_score</th>\n",
       "      <th>log_loss</th>\n",
       "      <th>roc_auc</th>\n",
       "    </tr>\n",
       "  </thead>\n",
       "  <tbody>\n",
       "    <tr>\n",
       "      <th>0</th>\n",
       "      <td>0.03053</td>\n",
       "      <td>0.687421</td>\n",
       "      <td>0.531938</td>\n",
       "      <td>0.058464</td>\n",
       "      <td>0.690282</td>\n",
       "      <td>0.661142</td>\n",
       "    </tr>\n",
       "  </tbody>\n",
       "</table>\n",
       "</div>"
      ],
      "text/plain": [
       "   precision    recall  accuracy  f1_score  log_loss   roc_auc\n",
       "0    0.03053  0.687421  0.531938  0.058464  0.690282  0.661142"
      ]
     },
     "execution_count": 143,
     "metadata": {},
     "output_type": "execute_result"
    }
   ],
   "source": [
    "%%bigquery  --project $PROJECT \n",
    "SELECT *\n",
    "FROM ML.EVALUATE(MODEL google_analytics.ga_model_log)"
   ]
  },
  {
   "cell_type": "markdown",
   "metadata": {},
   "source": [
    "## ML.ROC_CURVE\n",
    "その名の通り、ROCカーブを確認できます。二値分類のロジスティック回帰のみ実行可能です。可視化を行うため、返り値を`pandas.DataFrame`で受け取ります(受け取り方は、前々記事参照)"
   ]
  },
  {
   "cell_type": "code",
   "execution_count": 144,
   "metadata": {},
   "outputs": [],
   "source": [
    "%%bigquery  roc --project $PROJECT \n",
    "SELECT *\n",
    "FROM ML.ROC_CURVE(MODEL `google_analytics.ga_model_log` )"
   ]
  },
  {
   "cell_type": "code",
   "execution_count": 145,
   "metadata": {},
   "outputs": [
    {
     "data": {
      "text/html": [
       "<div>\n",
       "<style scoped>\n",
       "    .dataframe tbody tr th:only-of-type {\n",
       "        vertical-align: middle;\n",
       "    }\n",
       "\n",
       "    .dataframe tbody tr th {\n",
       "        vertical-align: top;\n",
       "    }\n",
       "\n",
       "    .dataframe thead th {\n",
       "        text-align: right;\n",
       "    }\n",
       "</style>\n",
       "<table border=\"1\" class=\"dataframe\">\n",
       "  <thead>\n",
       "    <tr style=\"text-align: right;\">\n",
       "      <th></th>\n",
       "      <th>threshold</th>\n",
       "      <th>recall</th>\n",
       "      <th>false_positive_rate</th>\n",
       "      <th>true_positives</th>\n",
       "      <th>false_positives</th>\n",
       "      <th>true_negatives</th>\n",
       "      <th>false_negatives</th>\n",
       "    </tr>\n",
       "  </thead>\n",
       "  <tbody>\n",
       "    <tr>\n",
       "      <th>0</th>\n",
       "      <td>0.780942</td>\n",
       "      <td>0.001271</td>\n",
       "      <td>0.000000</td>\n",
       "      <td>1</td>\n",
       "      <td>0</td>\n",
       "      <td>36441</td>\n",
       "      <td>786</td>\n",
       "    </tr>\n",
       "    <tr>\n",
       "      <th>1</th>\n",
       "      <td>0.594805</td>\n",
       "      <td>0.035578</td>\n",
       "      <td>0.009632</td>\n",
       "      <td>28</td>\n",
       "      <td>351</td>\n",
       "      <td>36090</td>\n",
       "      <td>759</td>\n",
       "    </tr>\n",
       "    <tr>\n",
       "      <th>2</th>\n",
       "      <td>0.565863</td>\n",
       "      <td>0.052097</td>\n",
       "      <td>0.019703</td>\n",
       "      <td>41</td>\n",
       "      <td>718</td>\n",
       "      <td>35723</td>\n",
       "      <td>746</td>\n",
       "    </tr>\n",
       "    <tr>\n",
       "      <th>3</th>\n",
       "      <td>0.552784</td>\n",
       "      <td>0.063532</td>\n",
       "      <td>0.029500</td>\n",
       "      <td>50</td>\n",
       "      <td>1075</td>\n",
       "      <td>35366</td>\n",
       "      <td>737</td>\n",
       "    </tr>\n",
       "    <tr>\n",
       "      <th>4</th>\n",
       "      <td>0.543293</td>\n",
       "      <td>0.076239</td>\n",
       "      <td>0.039598</td>\n",
       "      <td>60</td>\n",
       "      <td>1443</td>\n",
       "      <td>34998</td>\n",
       "      <td>727</td>\n",
       "    </tr>\n",
       "  </tbody>\n",
       "</table>\n",
       "</div>"
      ],
      "text/plain": [
       "   threshold    recall  false_positive_rate  true_positives  false_positives  \\\n",
       "0   0.780942  0.001271             0.000000               1                0   \n",
       "1   0.594805  0.035578             0.009632              28              351   \n",
       "2   0.565863  0.052097             0.019703              41              718   \n",
       "3   0.552784  0.063532             0.029500              50             1075   \n",
       "4   0.543293  0.076239             0.039598              60             1443   \n",
       "\n",
       "   true_negatives  false_negatives  \n",
       "0           36441              786  \n",
       "1           36090              759  \n",
       "2           35723              746  \n",
       "3           35366              737  \n",
       "4           34998              727  "
      ]
     },
     "execution_count": 145,
     "metadata": {},
     "output_type": "execute_result"
    }
   ],
   "source": [
    "roc.head()"
   ]
  },
  {
   "cell_type": "markdown",
   "metadata": {},
   "source": [
    "このままではよくわからないので、`matplotlib`で可視化します"
   ]
  },
  {
   "cell_type": "code",
   "execution_count": 146,
   "metadata": {},
   "outputs": [
    {
     "data": {
      "image/png": "[encoded data removed]",
      "text/plain": [
       "<Figure size 432x288 with 1 Axes>"
      ]
     },
     "metadata": {
      "needs_background": "light"
     },
     "output_type": "display_data"
    }
   ],
   "source": [
    "import matplotlib.pyplot as plt\n",
    "roc.plot(x='false_positives', y='true_positives', label='ROC')\n",
    "plt.show()"
   ]
  },
  {
   "cell_type": "markdown",
   "metadata": {},
   "source": [
    "## ML.CONFUSION_MATRIX\n",
    "その名の通り、混同行列の形で評価値を確認します。(多分類含む)ロジスティック回帰のみ実行可能です"
   ]
  },
  {
   "cell_type": "code",
   "execution_count": 147,
   "metadata": {},
   "outputs": [
    {
     "data": {
      "text/html": [
       "<div>\n",
       "<style scoped>\n",
       "    .dataframe tbody tr th:only-of-type {\n",
       "        vertical-align: middle;\n",
       "    }\n",
       "\n",
       "    .dataframe tbody tr th {\n",
       "        vertical-align: top;\n",
       "    }\n",
       "\n",
       "    .dataframe thead th {\n",
       "        text-align: right;\n",
       "    }\n",
       "</style>\n",
       "<table border=\"1\" class=\"dataframe\">\n",
       "  <thead>\n",
       "    <tr style=\"text-align: right;\">\n",
       "      <th></th>\n",
       "      <th>expected_label</th>\n",
       "      <th>_0</th>\n",
       "      <th>_1</th>\n",
       "    </tr>\n",
       "  </thead>\n",
       "  <tbody>\n",
       "    <tr>\n",
       "      <th>0</th>\n",
       "      <td>0</td>\n",
       "      <td>19262</td>\n",
       "      <td>17179</td>\n",
       "    </tr>\n",
       "    <tr>\n",
       "      <th>1</th>\n",
       "      <td>1</td>\n",
       "      <td>246</td>\n",
       "      <td>541</td>\n",
       "    </tr>\n",
       "  </tbody>\n",
       "</table>\n",
       "</div>"
      ],
      "text/plain": [
       "  expected_label     _0     _1\n",
       "0              0  19262  17179\n",
       "1              1    246    541"
      ]
     },
     "execution_count": 147,
     "metadata": {},
     "output_type": "execute_result"
    }
   ],
   "source": [
    "%%bigquery --project $PROJECT \n",
    "SELECT *\n",
    "FROM ML.CONFUSION_MATRIX(MODEL `google_analytics.ga_model_log` )"
   ]
  },
  {
   "cell_type": "markdown",
   "metadata": {},
   "source": [
    "# 構築したモデルで予測(`ML.PREDICT`)\n",
    "構築したモデルで予測を行います"
   ]
  },
  {
   "cell_type": "code",
   "execution_count": 148,
   "metadata": {},
   "outputs": [
    {
     "data": {
      "text/html": [
       "<div>\n",
       "<style scoped>\n",
       "    .dataframe tbody tr th:only-of-type {\n",
       "        vertical-align: middle;\n",
       "    }\n",
       "\n",
       "    .dataframe tbody tr th {\n",
       "        vertical-align: top;\n",
       "    }\n",
       "\n",
       "    .dataframe thead th {\n",
       "        text-align: right;\n",
       "    }\n",
       "</style>\n",
       "<table border=\"1\" class=\"dataframe\">\n",
       "  <thead>\n",
       "    <tr style=\"text-align: right;\">\n",
       "      <th></th>\n",
       "      <th>predicted_isClick_probs</th>\n",
       "      <th>predicted_isClick</th>\n",
       "      <th>isClick</th>\n",
       "    </tr>\n",
       "  </thead>\n",
       "  <tbody>\n",
       "    <tr>\n",
       "      <th>0</th>\n",
       "      <td>[{'label': 1, 'prob': 0.6119019220195546}, {'l...</td>\n",
       "      <td>1</td>\n",
       "      <td>0</td>\n",
       "    </tr>\n",
       "    <tr>\n",
       "      <th>1</th>\n",
       "      <td>[{'label': 1, 'prob': 0.5540411720040493}, {'l...</td>\n",
       "      <td>1</td>\n",
       "      <td>0</td>\n",
       "    </tr>\n",
       "    <tr>\n",
       "      <th>2</th>\n",
       "      <td>[{'label': 1, 'prob': 0.5093257989158975}, {'l...</td>\n",
       "      <td>0</td>\n",
       "      <td>0</td>\n",
       "    </tr>\n",
       "    <tr>\n",
       "      <th>3</th>\n",
       "      <td>[{'label': 1, 'prob': 0.5032699831732143}, {'l...</td>\n",
       "      <td>0</td>\n",
       "      <td>0</td>\n",
       "    </tr>\n",
       "    <tr>\n",
       "      <th>4</th>\n",
       "      <td>[{'label': 1, 'prob': 0.4976015874326989}, {'l...</td>\n",
       "      <td>0</td>\n",
       "      <td>0</td>\n",
       "    </tr>\n",
       "  </tbody>\n",
       "</table>\n",
       "</div>"
      ],
      "text/plain": [
       "                             predicted_isClick_probs  predicted_isClick  \\\n",
       "0  [{'label': 1, 'prob': 0.6119019220195546}, {'l...                  1   \n",
       "1  [{'label': 1, 'prob': 0.5540411720040493}, {'l...                  1   \n",
       "2  [{'label': 1, 'prob': 0.5093257989158975}, {'l...                  0   \n",
       "3  [{'label': 1, 'prob': 0.5032699831732143}, {'l...                  0   \n",
       "4  [{'label': 1, 'prob': 0.4976015874326989}, {'l...                  0   \n",
       "\n",
       "   isClick  \n",
       "0        0  \n",
       "1        0  \n",
       "2        0  \n",
       "3        0  \n",
       "4        0  "
      ]
     },
     "execution_count": 148,
     "metadata": {},
     "output_type": "execute_result"
    }
   ],
   "source": [
    "%%bigquery  --project $PROJECT \n",
    "SELECT \n",
    "    predicted_isClick_probs,\n",
    "    predicted_isClick,\n",
    "    isClick\n",
    "FROM ML.PREDICT(\n",
    "    MODEL `google_analytics.ga_model_log`,\n",
    "    -- 予測を行うためのデータセットを読み込む(今回は学習に使ったものを流用)\n",
    "    (\n",
    "    SELECT *\n",
    "    FROM `google_analytics.ga_dataset_feature` \n",
    "    -- 適当にサンプリング\n",
    "    WHERE RAND() < 0.001\n",
    "    LIMIT 5\n",
    "    ),\n",
    "    -- positiveと判定する閾値を0.55以上とする(デフォルト0.5)\n",
    "    -- 二値分類のロジスティック回帰のみ適用可能\n",
    "    STRUCT(0.55 AS threshold))"
   ]
  },
  {
   "cell_type": "markdown",
   "metadata": {},
   "source": [
    "`predicted_isClick_probs`の中には以下のような`STRUCT`を持った配列が入っており、それぞれのラベルを取るときの予測値が入っています  \n",
    "今回は不均衡データを是正する関係で、予測値は普通の値よりも高く出ていることに注意してください\n",
    "```\n",
    "[{'label': 1, 'prob': 0.4582647505087995},\n",
    " {'label': 0, 'prob': 0.5417352494912004}]\n",
    "```"
   ]
  },
  {
   "cell_type": "markdown",
   "metadata": {},
   "source": [
    "# モデルの重み値の確認(`ML.WEIIGHTS`)\n",
    "重み値の大きさを出力します"
   ]
  },
  {
   "cell_type": "code",
   "execution_count": 149,
   "metadata": {},
   "outputs": [
    {
     "data": {
      "text/html": [
       "<div>\n",
       "<style scoped>\n",
       "    .dataframe tbody tr th:only-of-type {\n",
       "        vertical-align: middle;\n",
       "    }\n",
       "\n",
       "    .dataframe tbody tr th {\n",
       "        vertical-align: top;\n",
       "    }\n",
       "\n",
       "    .dataframe thead th {\n",
       "        text-align: right;\n",
       "    }\n",
       "</style>\n",
       "<table border=\"1\" class=\"dataframe\">\n",
       "  <thead>\n",
       "    <tr style=\"text-align: right;\">\n",
       "      <th></th>\n",
       "      <th>category</th>\n",
       "      <th>weight</th>\n",
       "    </tr>\n",
       "  </thead>\n",
       "  <tbody>\n",
       "    <tr>\n",
       "      <th>0</th>\n",
       "      <td>Haiti_10</td>\n",
       "      <td>-0.149425</td>\n",
       "    </tr>\n",
       "    <tr>\n",
       "      <th>1</th>\n",
       "      <td>Georgia_9</td>\n",
       "      <td>-0.149508</td>\n",
       "    </tr>\n",
       "    <tr>\n",
       "      <th>2</th>\n",
       "      <td>Denmark_8</td>\n",
       "      <td>-0.151037</td>\n",
       "    </tr>\n",
       "    <tr>\n",
       "      <th>3</th>\n",
       "      <td>United States_10</td>\n",
       "      <td>0.031624</td>\n",
       "    </tr>\n",
       "    <tr>\n",
       "      <th>4</th>\n",
       "      <td>United States_1</td>\n",
       "      <td>-0.100186</td>\n",
       "    </tr>\n",
       "  </tbody>\n",
       "</table>\n",
       "</div>"
      ],
      "text/plain": [
       "           category    weight\n",
       "0          Haiti_10 -0.149425\n",
       "1         Georgia_9 -0.149508\n",
       "2         Denmark_8 -0.151037\n",
       "3  United States_10  0.031624\n",
       "4   United States_1 -0.100186"
      ]
     },
     "execution_count": 149,
     "metadata": {},
     "output_type": "execute_result"
    }
   ],
   "source": [
    "%%bigquery  --project $PROJECT \n",
    "WITH weights AS(\n",
    "SELECT * \n",
    "FROM\n",
    "ML.WEIGHTS(MODEL `google_analytics.ga_model_log`))\n",
    "\n",
    "SELECT \n",
    "    category_weight.category,\n",
    "    category_weight.weight\n",
    "FROM weights, UNNEST(weights.category_weights) AS  category_weight LIMIT 5"
   ]
  },
  {
   "cell_type": "markdown",
   "metadata": {},
   "source": [
    "# モデルで使用したの特徴量の確認\n",
    "使用した特徴量の統計的な情報を確認できます。イメージとしては`pandas.DataFrame.describe()`のような感じです"
   ]
  },
  {
   "cell_type": "code",
   "execution_count": 150,
   "metadata": {},
   "outputs": [
    {
     "data": {
      "text/html": [
       "<div>\n",
       "<style scoped>\n",
       "    .dataframe tbody tr th:only-of-type {\n",
       "        vertical-align: middle;\n",
       "    }\n",
       "\n",
       "    .dataframe tbody tr th {\n",
       "        vertical-align: top;\n",
       "    }\n",
       "\n",
       "    .dataframe thead th {\n",
       "        text-align: right;\n",
       "    }\n",
       "</style>\n",
       "<table border=\"1\" class=\"dataframe\">\n",
       "  <thead>\n",
       "    <tr style=\"text-align: right;\">\n",
       "      <th></th>\n",
       "      <th>input</th>\n",
       "      <th>min</th>\n",
       "      <th>max</th>\n",
       "      <th>mean</th>\n",
       "      <th>median</th>\n",
       "      <th>stddev</th>\n",
       "      <th>category_count</th>\n",
       "      <th>null_count</th>\n",
       "    </tr>\n",
       "  </thead>\n",
       "  <tbody>\n",
       "    <tr>\n",
       "      <th>0</th>\n",
       "      <td>countryHour_country_hour</td>\n",
       "      <td>None</td>\n",
       "      <td>None</td>\n",
       "      <td>None</td>\n",
       "      <td>None</td>\n",
       "      <td>None</td>\n",
       "      <td>229</td>\n",
       "      <td>0</td>\n",
       "    </tr>\n",
       "    <tr>\n",
       "      <th>1</th>\n",
       "      <td>browserMobile_browser_isMobile</td>\n",
       "      <td>None</td>\n",
       "      <td>None</td>\n",
       "      <td>None</td>\n",
       "      <td>None</td>\n",
       "      <td>None</td>\n",
       "      <td>13</td>\n",
       "      <td>0</td>\n",
       "    </tr>\n",
       "    <tr>\n",
       "      <th>2</th>\n",
       "      <td>priceBin</td>\n",
       "      <td>None</td>\n",
       "      <td>None</td>\n",
       "      <td>None</td>\n",
       "      <td>None</td>\n",
       "      <td>None</td>\n",
       "      <td>7</td>\n",
       "      <td>0</td>\n",
       "    </tr>\n",
       "  </tbody>\n",
       "</table>\n",
       "</div>"
      ],
      "text/plain": [
       "                            input   min   max  mean median stddev  \\\n",
       "0        countryHour_country_hour  None  None  None   None   None   \n",
       "1  browserMobile_browser_isMobile  None  None  None   None   None   \n",
       "2                        priceBin  None  None  None   None   None   \n",
       "\n",
       "   category_count  null_count  \n",
       "0             229           0  \n",
       "1              13           0  \n",
       "2               7           0  "
      ]
     },
     "execution_count": 150,
     "metadata": {},
     "output_type": "execute_result"
    }
   ],
   "source": [
    "%%bigquery  --project $PROJECT \n",
    "SELECT *\n",
    "FROM ML.FEATURE_INFO(MODEL `google_analytics.ga_model_log`)"
   ]
  },
  {
   "cell_type": "markdown",
   "metadata": {},
   "source": [
    "# まとめ\n",
    "BQMLで実行できるほぼすべての関数を実行してまとめました　　\n",
    "BQMLでは、SQLを土台としているため、学習コストが低いことと、本来やらなければ行けない前処理やパラメータの調整など、機械学習になれていない人が本来はまりそうな落とし穴を『よしなに』自動で行ってくれるおかげで、非常に扱いやすいと思いました  \n",
    "同時に、細かいパラメータの調整や、モデルや特徴量の概要について確認できる関数が用意されているおかげで、ある程度なれているならばモデルをブラッシュアップしてある程度までは精度を向上させることができると思います  \n",
    "まだ、基本的なアルゴリズムしかありませんが、今後より増えていくことは確実なので、今後さまざまなプロダクトで使えるようになることを期待します\n"
   ]
  },
  {
   "cell_type": "markdown",
   "metadata": {},
   "source": [
    "# 参考文献\n",
    "- [BQML公式ドキュメント](https://cloud.google.com/bigquery-ml/docs/reference/?hl=ja)\n",
    "\n",
    "- [スケーラブルデータサイエンス データエンジニアのための実践Google Cloud Platform](https://www.amazon.co.jp/%E3%82%B9%E3%82%B1%E3%83%BC%E3%83%A9%E3%83%96%E3%83%AB%E3%83%87%E3%83%BC%E3%82%BF%E3%82%B5%E3%82%A4%E3%82%A8%E3%83%B3%E3%82%B9-%E3%83%87%E3%83%BC%E3%82%BF%E3%82%A8%E3%83%B3%E3%82%B8%E3%83%8B%E3%82%A2%E3%81%AE%E3%81%9F%E3%82%81%E3%81%AE%E5%AE%9F%E8%B7%B5Google-Platform-Valliappa-Lakshmanan-ebook/dp/B07R39RLSQ/ref=sr_1_1?__mk_ja_JP=%E3%82%AB%E3%82%BF%E3%82%AB%E3%83%8A&keywords=%E3%82%B9%E3%82%B1%E3%83%BC%E3%83%A9%E3%83%96%E3%83%AB+GCP&qid=1563756392&s=digital-text&sr=1-1)\n",
    "    - bqのTech Leadである[Valliappa Lakshmanan](https://www.oreilly.com/pub/au/7304)さんの本。日本語版が最近出た\n",
    "    \n",
    "- [Google BigQuery: The Definitive Guide](https://www.amazon.com/Google-BigQuery-Definitive-Warehousing-Analytics/dp/1492044466)\n",
    "    - 同じくValliappa Lakshmananさんの本。ただし、発売は来年\n",
    "\n",
    "- [ビッグデータ分析・活用のためのSQLレシピ](https://www.amazon.co.jp/%E3%83%93%E3%83%83%E3%82%B0%E3%83%87%E3%83%BC%E3%82%BF%E5%88%86%E6%9E%90%E3%83%BB%E6%B4%BB%E7%94%A8%E3%81%AE%E3%81%9F%E3%82%81%E3%81%AESQL%E3%83%AC%E3%82%B7%E3%83%94-%E5%8A%A0%E5%B5%9C-%E9%95%B7%E9%96%80/dp/4839961263/ref=sr_1_4?__mk_ja_JP=%E3%82%AB%E3%82%BF%E3%82%AB%E3%83%8A&keywords=sql&qid=1563756274&s=books&sr=1-4)\n",
    "    - ここまでやるかというレベルのSQLの黒魔術がいろいろのってます"
   ]
  }
 ],
 "metadata": {
  "kernelspec": {
   "display_name": "Python 3",
   "language": "python",
   "name": "python3"
  },
  "language_info": {
   "codemirror_mode": {
    "name": "ipython",
    "version": 3
   },
   "file_extension": ".py",
   "mimetype": "text/x-python",
   "name": "python",
   "nbconvert_exporter": "python",
   "pygments_lexer": "ipython3",
   "version": "3.7.1"
  }
 },
 "nbformat": 4,
 "nbformat_minor": 4
}
