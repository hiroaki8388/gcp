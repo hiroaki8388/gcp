{
 "cells": [
  {
   "cell_type": "markdown",
   "metadata": {},
   "source": [
    "# TODO title"
   ]
  },
  {
   "cell_type": "markdown",
   "metadata": {},
   "source": [
    "## これなに?"
   ]
  },
  {
   "cell_type": "markdown",
   "metadata": {},
   "source": [
    "TODO"
   ]
  },
  {
   "cell_type": "markdown",
   "metadata": {},
   "source": [
    "# 分析対象"
   ]
  },
  {
   "cell_type": "markdown",
   "metadata": {},
   "source": [
    "例としてなにか良いものがないか、`bigquery-public-data` から探してみると、`google_analytics_sample`という、`GA`のトランザクションのdatasetがあったので、これで、クリックする確率を予測してみようと思います"
   ]
  },
  {
   "cell_type": "code",
   "execution_count": null,
   "metadata": {},
   "outputs": [],
   "source": [
    "!bq ls --project_id bigquery-public-data"
   ]
  },
  {
   "cell_type": "markdown",
   "metadata": {},
   "source": [
    "# 準備"
   ]
  },
  {
   "cell_type": "markdown",
   "metadata": {},
   "source": [
    "## datasetを生成"
   ]
  },
  {
   "cell_type": "code",
   "execution_count": null,
   "metadata": {},
   "outputs": [],
   "source": [
    "!bq --locaton=eu mk google-analytics"
   ]
  },
  {
   "cell_type": "markdown",
   "metadata": {},
   "source": [
    "datasetを作成します。今回は `bigquery-public-data` を使う都合上、locationを `EU`に指定します"
   ]
  },
  {
   "cell_type": "markdown",
   "metadata": {},
   "source": [
    "## magic command"
   ]
  },
  {
   "cell_type": "markdown",
   "metadata": {},
   "source": [
    "せっかくjupyterを使うので、magic commandを使用してbqに接続できるようにします。"
   ]
  },
  {
   "cell_type": "code",
   "execution_count": 4,
   "metadata": {},
   "outputs": [],
   "source": [
    "!pip install google-cloud-bigquery"
   ]
  },
  {
   "cell_type": "code",
   "execution_count": 24,
   "metadata": {},
   "outputs": [],
   "source": [
    "from google.cloud.bigquery import magics\n",
    "from google.oauth2 import service_account\n",
    "credentials = (service_account.Credentials.from_service_account_file('/Users/hiroaki/Downloads/scalable-data-science-b045d3ddcc4c.json'))\n",
    "magics.context.credentials = credentials\n"
   ]
  },
  {
   "cell_type": "code",
   "execution_count": 20,
   "metadata": {},
   "outputs": [],
   "source": [
    "PROJECT = 'scalable-data-science'"
   ]
  },
  {
   "cell_type": "markdown",
   "metadata": {},
   "source": [
    "# %%bigqueryの使い方について"
   ]
  },
  {
   "cell_type": "code",
   "execution_count": 45,
   "metadata": {},
   "outputs": [
    {
     "name": "stdout",
     "output_type": "stream",
     "text": [
      "The google.cloud.bigquery extension is already loaded. To reload it, use:\n",
      "  %reload_ext google.cloud.bigquery\n"
     ]
    }
   ],
   "source": [
    "%load_ext google.cloud.bigquery"
   ]
  },
  {
   "cell_type": "markdown",
   "metadata": {},
   "source": [
    "magic comannd `%%bigquery` を使用すると、cell内でbqのクエリを実行でき、更に返り値を`pandas.DataFrame`オブジェクトで受け取れるので、jupyter上で可視化などを行う際に非常に便利です。  \n",
    "使い方としては以下のような形です"
   ]
  },
  {
   "cell_type": "markdown",
   "metadata": {},
   "source": [
    "```\n",
    "%%bigquery [返り値を格納する変数名]　--project [project_id] --param [クエリ内で使いたい変数を格納したdictまたはjson]  \n",
    "\n",
    "[実行するクエリ]\n",
    "```"
   ]
  },
  {
   "cell_type": "markdown",
   "metadata": {},
   "source": [
    "具体的な実行はこのようになります"
   ]
  },
  {
   "cell_type": "code",
   "execution_count": 73,
   "metadata": {},
   "outputs": [],
   "source": [
    "PARAMS = {'LIMIT' : 5}\n",
    "PROJECT ='scalable-data-science'"
   ]
  },
  {
   "cell_type": "code",
   "execution_count": 82,
   "metadata": {},
   "outputs": [],
   "source": [
    "%%bigquery data --project $PROJECT  --params $PARAMS\n",
    "SELECT * FROM  `bigquery-public-data.google_analytics_sample.ga_sessions_20160801` LIMIT @LIMIT"
   ]
  },
  {
   "cell_type": "code",
   "execution_count": 77,
   "metadata": {},
   "outputs": [
    {
     "data": {
      "text/html": [
       "<div>\n",
       "<style scoped>\n",
       "    .dataframe tbody tr th:only-of-type {\n",
       "        vertical-align: middle;\n",
       "    }\n",
       "\n",
       "    .dataframe tbody tr th {\n",
       "        vertical-align: top;\n",
       "    }\n",
       "\n",
       "    .dataframe thead th {\n",
       "        text-align: right;\n",
       "    }\n",
       "</style>\n",
       "<table border=\"1\" class=\"dataframe\">\n",
       "  <thead>\n",
       "    <tr style=\"text-align: right;\">\n",
       "      <th></th>\n",
       "      <th>visitorId</th>\n",
       "      <th>visitNumber</th>\n",
       "      <th>visitId</th>\n",
       "      <th>visitStartTime</th>\n",
       "      <th>date</th>\n",
       "      <th>totals</th>\n",
       "      <th>trafficSource</th>\n",
       "      <th>device</th>\n",
       "      <th>geoNetwork</th>\n",
       "      <th>customDimensions</th>\n",
       "      <th>hits</th>\n",
       "      <th>fullVisitorId</th>\n",
       "      <th>userId</th>\n",
       "      <th>channelGrouping</th>\n",
       "      <th>socialEngagementType</th>\n",
       "    </tr>\n",
       "  </thead>\n",
       "  <tbody>\n",
       "    <tr>\n",
       "      <th>0</th>\n",
       "      <td>None</td>\n",
       "      <td>1</td>\n",
       "      <td>1470117657</td>\n",
       "      <td>1470117657</td>\n",
       "      <td>20160801</td>\n",
       "      <td>{'visits': 1, 'hits': 3, 'pageviews': 3, 'time...</td>\n",
       "      <td>{'referralPath': '/yt/about/', 'campaign': '(n...</td>\n",
       "      <td>{'browser': 'Internet Explorer', 'browserVersi...</td>\n",
       "      <td>{'continent': 'Americas', 'subContinent': 'Nor...</td>\n",
       "      <td>[{'index': 4, 'value': 'North America'}]</td>\n",
       "      <td>[{'hitNumber': 1, 'time': 0, 'hour': 23, 'minu...</td>\n",
       "      <td>7194065619159478122</td>\n",
       "      <td>None</td>\n",
       "      <td>Social</td>\n",
       "      <td>Not Socially Engaged</td>\n",
       "    </tr>\n",
       "    <tr>\n",
       "      <th>1</th>\n",
       "      <td>None</td>\n",
       "      <td>151</td>\n",
       "      <td>1470083489</td>\n",
       "      <td>1470083489</td>\n",
       "      <td>20160801</td>\n",
       "      <td>{'visits': 1, 'hits': 3, 'pageviews': 3, 'time...</td>\n",
       "      <td>{'referralPath': '/yt/about/', 'campaign': '(n...</td>\n",
       "      <td>{'browser': 'Chrome', 'browserVersion': 'not a...</td>\n",
       "      <td>{'continent': 'Americas', 'subContinent': 'Nor...</td>\n",
       "      <td>[{'index': 4, 'value': 'North America'}]</td>\n",
       "      <td>[{'hitNumber': 1, 'time': 0, 'hour': 13, 'minu...</td>\n",
       "      <td>8159312408158297118</td>\n",
       "      <td>None</td>\n",
       "      <td>Social</td>\n",
       "      <td>Not Socially Engaged</td>\n",
       "    </tr>\n",
       "  </tbody>\n",
       "</table>\n",
       "</div>"
      ],
      "text/plain": [
       "  visitorId  visitNumber     visitId  visitStartTime      date  \\\n",
       "0      None            1  1470117657      1470117657  20160801   \n",
       "1      None          151  1470083489      1470083489  20160801   \n",
       "\n",
       "                                              totals  \\\n",
       "0  {'visits': 1, 'hits': 3, 'pageviews': 3, 'time...   \n",
       "1  {'visits': 1, 'hits': 3, 'pageviews': 3, 'time...   \n",
       "\n",
       "                                       trafficSource  \\\n",
       "0  {'referralPath': '/yt/about/', 'campaign': '(n...   \n",
       "1  {'referralPath': '/yt/about/', 'campaign': '(n...   \n",
       "\n",
       "                                              device  \\\n",
       "0  {'browser': 'Internet Explorer', 'browserVersi...   \n",
       "1  {'browser': 'Chrome', 'browserVersion': 'not a...   \n",
       "\n",
       "                                          geoNetwork  \\\n",
       "0  {'continent': 'Americas', 'subContinent': 'Nor...   \n",
       "1  {'continent': 'Americas', 'subContinent': 'Nor...   \n",
       "\n",
       "                           customDimensions  \\\n",
       "0  [{'index': 4, 'value': 'North America'}]   \n",
       "1  [{'index': 4, 'value': 'North America'}]   \n",
       "\n",
       "                                                hits        fullVisitorId  \\\n",
       "0  [{'hitNumber': 1, 'time': 0, 'hour': 23, 'minu...  7194065619159478122   \n",
       "1  [{'hitNumber': 1, 'time': 0, 'hour': 13, 'minu...  8159312408158297118   \n",
       "\n",
       "  userId channelGrouping  socialEngagementType  \n",
       "0   None          Social  Not Socially Engaged  \n",
       "1   None          Social  Not Socially Engaged  "
      ]
     },
     "execution_count": 77,
     "metadata": {},
     "output_type": "execute_result"
    }
   ],
   "source": [
    "data.head(2)"
   ]
  },
  {
   "cell_type": "markdown",
   "metadata": {},
   "source": [
    "基本は、これだけで良いと思いますが、より詳細なオプションは[公式ドキュメント](https://google-cloud.readthedocs.io/en/latest/bigquery/generated/google.cloud.bigquery.magics.html)を参考にしてください。"
   ]
  },
  {
   "cell_type": "markdown",
   "metadata": {},
   "source": [
    "# tableの概要を確認"
   ]
  },
  {
   "cell_type": "code",
   "execution_count": 94,
   "metadata": {},
   "outputs": [
    {
     "data": {
      "text/html": [
       "<div>\n",
       "<style scoped>\n",
       "    .dataframe tbody tr th:only-of-type {\n",
       "        vertical-align: middle;\n",
       "    }\n",
       "\n",
       "    .dataframe tbody tr th {\n",
       "        vertical-align: top;\n",
       "    }\n",
       "\n",
       "    .dataframe thead th {\n",
       "        text-align: right;\n",
       "    }\n",
       "</style>\n",
       "<table border=\"1\" class=\"dataframe\">\n",
       "  <thead>\n",
       "    <tr style=\"text-align: right;\">\n",
       "      <th></th>\n",
       "      <th>table_name</th>\n",
       "      <th>column_name</th>\n",
       "      <th>data_type</th>\n",
       "    </tr>\n",
       "  </thead>\n",
       "  <tbody>\n",
       "    <tr>\n",
       "      <th>0</th>\n",
       "      <td>ga_sessions_20160801</td>\n",
       "      <td>visitorId</td>\n",
       "      <td>INT64</td>\n",
       "    </tr>\n",
       "    <tr>\n",
       "      <th>1</th>\n",
       "      <td>ga_sessions_20160801</td>\n",
       "      <td>visitNumber</td>\n",
       "      <td>INT64</td>\n",
       "    </tr>\n",
       "    <tr>\n",
       "      <th>2</th>\n",
       "      <td>ga_sessions_20160801</td>\n",
       "      <td>visitId</td>\n",
       "      <td>INT64</td>\n",
       "    </tr>\n",
       "    <tr>\n",
       "      <th>3</th>\n",
       "      <td>ga_sessions_20160801</td>\n",
       "      <td>visitStartTime</td>\n",
       "      <td>INT64</td>\n",
       "    </tr>\n",
       "    <tr>\n",
       "      <th>4</th>\n",
       "      <td>ga_sessions_20160801</td>\n",
       "      <td>date</td>\n",
       "      <td>STRING</td>\n",
       "    </tr>\n",
       "    <tr>\n",
       "      <th>5</th>\n",
       "      <td>ga_sessions_20160801</td>\n",
       "      <td>totals</td>\n",
       "      <td>STRUCT&lt;visits INT64, hits INT64, pageviews INT...</td>\n",
       "    </tr>\n",
       "    <tr>\n",
       "      <th>6</th>\n",
       "      <td>ga_sessions_20160801</td>\n",
       "      <td>trafficSource</td>\n",
       "      <td>STRUCT&lt;referralPath STRING, campaign STRING, s...</td>\n",
       "    </tr>\n",
       "    <tr>\n",
       "      <th>7</th>\n",
       "      <td>ga_sessions_20160801</td>\n",
       "      <td>device</td>\n",
       "      <td>STRUCT&lt;browser STRING, browserVersion STRING, ...</td>\n",
       "    </tr>\n",
       "    <tr>\n",
       "      <th>8</th>\n",
       "      <td>ga_sessions_20160801</td>\n",
       "      <td>geoNetwork</td>\n",
       "      <td>STRUCT&lt;continent STRING, subContinent STRING, ...</td>\n",
       "    </tr>\n",
       "    <tr>\n",
       "      <th>9</th>\n",
       "      <td>ga_sessions_20160801</td>\n",
       "      <td>customDimensions</td>\n",
       "      <td>ARRAY&lt;STRUCT&lt;index INT64, value STRING&gt;&gt;</td>\n",
       "    </tr>\n",
       "    <tr>\n",
       "      <th>10</th>\n",
       "      <td>ga_sessions_20160801</td>\n",
       "      <td>hits</td>\n",
       "      <td>ARRAY&lt;STRUCT&lt;hitNumber INT64, time INT64, hour...</td>\n",
       "    </tr>\n",
       "    <tr>\n",
       "      <th>11</th>\n",
       "      <td>ga_sessions_20160801</td>\n",
       "      <td>fullVisitorId</td>\n",
       "      <td>STRING</td>\n",
       "    </tr>\n",
       "    <tr>\n",
       "      <th>12</th>\n",
       "      <td>ga_sessions_20160801</td>\n",
       "      <td>userId</td>\n",
       "      <td>STRING</td>\n",
       "    </tr>\n",
       "    <tr>\n",
       "      <th>13</th>\n",
       "      <td>ga_sessions_20160801</td>\n",
       "      <td>channelGrouping</td>\n",
       "      <td>STRING</td>\n",
       "    </tr>\n",
       "    <tr>\n",
       "      <th>14</th>\n",
       "      <td>ga_sessions_20160801</td>\n",
       "      <td>socialEngagementType</td>\n",
       "      <td>STRING</td>\n",
       "    </tr>\n",
       "  </tbody>\n",
       "</table>\n",
       "</div>"
      ],
      "text/plain": [
       "              table_name           column_name  \\\n",
       "0   ga_sessions_20160801             visitorId   \n",
       "1   ga_sessions_20160801           visitNumber   \n",
       "2   ga_sessions_20160801               visitId   \n",
       "3   ga_sessions_20160801        visitStartTime   \n",
       "4   ga_sessions_20160801                  date   \n",
       "5   ga_sessions_20160801                totals   \n",
       "6   ga_sessions_20160801         trafficSource   \n",
       "7   ga_sessions_20160801                device   \n",
       "8   ga_sessions_20160801            geoNetwork   \n",
       "9   ga_sessions_20160801      customDimensions   \n",
       "10  ga_sessions_20160801                  hits   \n",
       "11  ga_sessions_20160801         fullVisitorId   \n",
       "12  ga_sessions_20160801                userId   \n",
       "13  ga_sessions_20160801       channelGrouping   \n",
       "14  ga_sessions_20160801  socialEngagementType   \n",
       "\n",
       "                                            data_type  \n",
       "0                                               INT64  \n",
       "1                                               INT64  \n",
       "2                                               INT64  \n",
       "3                                               INT64  \n",
       "4                                              STRING  \n",
       "5   STRUCT<visits INT64, hits INT64, pageviews INT...  \n",
       "6   STRUCT<referralPath STRING, campaign STRING, s...  \n",
       "7   STRUCT<browser STRING, browserVersion STRING, ...  \n",
       "8   STRUCT<continent STRING, subContinent STRING, ...  \n",
       "9            ARRAY<STRUCT<index INT64, value STRING>>  \n",
       "10  ARRAY<STRUCT<hitNumber INT64, time INT64, hour...  \n",
       "11                                             STRING  \n",
       "12                                             STRING  \n",
       "13                                             STRING  \n",
       "14                                             STRING  "
      ]
     },
     "execution_count": 94,
     "metadata": {},
     "output_type": "execute_result"
    }
   ],
   "source": [
    "%%bigquery --project $PROJECT \n",
    "SELECT table_name, column_name, data_type  FROM `bigquery-public-data.google_analytics_sample.INFORMATION_SCHEMA.COLUMNS` \n",
    "WHERE table_name ='ga_sessions_20160801'"
   ]
  },
  {
   "cell_type": "markdown",
   "metadata": {},
   "source": [
    "# 学習に使用する変数のみを取り出す"
   ]
  },
  {
   "cell_type": "markdown",
   "metadata": {},
   "source": [
    "このtableに入っている変数を"
   ]
  },
  {
   "cell_type": "code",
   "execution_count": null,
   "metadata": {},
   "outputs": [],
   "source": [
    "bq show  --project_id bigquery-public-data google_analytics_sample.ga_sessions_20160801"
   ]
  },
  {
   "cell_type": "markdown",
   "metadata": {},
   "source": [
    "で確認して見ます  \n",
    "全部使うと、流石に面倒なので、予測のための説明変数は"
   ]
  },
  {
   "cell_type": "markdown",
   "metadata": {},
   "source": [
    "TODO   \n",
    "としましょう  \n",
    "細かいcolumnの説明は[こちら](https://support.google.com/analytics/answer/3437719?hl=ja)にあるので、気になる人は御覧ください"
   ]
  },
  {
   "cell_type": "markdown",
   "metadata": {},
   "source": [
    "目的変数である`isClick` はかなり入れ込んでるので、少し面倒そうですね"
   ]
  },
  {
   "cell_type": "markdown",
   "metadata": {},
   "source": [
    "# 必要な変数が入っているcolumnのみを取り出す"
   ]
  },
  {
   "cell_type": "code",
   "execution_count": 241,
   "metadata": {},
   "outputs": [
    {
     "data": {
      "text/html": [
       "<div>\n",
       "<style scoped>\n",
       "    .dataframe tbody tr th:only-of-type {\n",
       "        vertical-align: middle;\n",
       "    }\n",
       "\n",
       "    .dataframe tbody tr th {\n",
       "        vertical-align: top;\n",
       "    }\n",
       "\n",
       "    .dataframe thead th {\n",
       "        text-align: right;\n",
       "    }\n",
       "</style>\n",
       "<table border=\"1\" class=\"dataframe\">\n",
       "  <thead>\n",
       "    <tr style=\"text-align: right;\">\n",
       "      <th></th>\n",
       "      <th>fullVisitorId</th>\n",
       "      <th>hour</th>\n",
       "      <th>browser</th>\n",
       "      <th>productPrice</th>\n",
       "      <th>isClick</th>\n",
       "    </tr>\n",
       "  </thead>\n",
       "  <tbody>\n",
       "    <tr>\n",
       "      <th>0</th>\n",
       "      <td>7194065619159478122</td>\n",
       "      <td>23</td>\n",
       "      <td>Internet Explorer</td>\n",
       "      <td>25000000</td>\n",
       "      <td>None</td>\n",
       "    </tr>\n",
       "    <tr>\n",
       "      <th>1</th>\n",
       "      <td>7194065619159478122</td>\n",
       "      <td>23</td>\n",
       "      <td>Internet Explorer</td>\n",
       "      <td>50000000</td>\n",
       "      <td>None</td>\n",
       "    </tr>\n",
       "    <tr>\n",
       "      <th>2</th>\n",
       "      <td>7194065619159478122</td>\n",
       "      <td>23</td>\n",
       "      <td>Internet Explorer</td>\n",
       "      <td>100000000</td>\n",
       "      <td>None</td>\n",
       "    </tr>\n",
       "    <tr>\n",
       "      <th>3</th>\n",
       "      <td>7194065619159478122</td>\n",
       "      <td>23</td>\n",
       "      <td>Internet Explorer</td>\n",
       "      <td>250000000</td>\n",
       "      <td>None</td>\n",
       "    </tr>\n",
       "    <tr>\n",
       "      <th>4</th>\n",
       "      <td>8159312408158297118</td>\n",
       "      <td>13</td>\n",
       "      <td>Chrome</td>\n",
       "      <td>16990000</td>\n",
       "      <td>None</td>\n",
       "    </tr>\n",
       "    <tr>\n",
       "      <th>5</th>\n",
       "      <td>8159312408158297118</td>\n",
       "      <td>13</td>\n",
       "      <td>Chrome</td>\n",
       "      <td>16990000</td>\n",
       "      <td>None</td>\n",
       "    </tr>\n",
       "    <tr>\n",
       "      <th>6</th>\n",
       "      <td>8159312408158297118</td>\n",
       "      <td>13</td>\n",
       "      <td>Chrome</td>\n",
       "      <td>16990000</td>\n",
       "      <td>None</td>\n",
       "    </tr>\n",
       "    <tr>\n",
       "      <th>7</th>\n",
       "      <td>8159312408158297118</td>\n",
       "      <td>13</td>\n",
       "      <td>Chrome</td>\n",
       "      <td>16990000</td>\n",
       "      <td>None</td>\n",
       "    </tr>\n",
       "    <tr>\n",
       "      <th>8</th>\n",
       "      <td>8159312408158297118</td>\n",
       "      <td>13</td>\n",
       "      <td>Chrome</td>\n",
       "      <td>16990000</td>\n",
       "      <td>None</td>\n",
       "    </tr>\n",
       "    <tr>\n",
       "      <th>9</th>\n",
       "      <td>8159312408158297118</td>\n",
       "      <td>13</td>\n",
       "      <td>Chrome</td>\n",
       "      <td>16990000</td>\n",
       "      <td>None</td>\n",
       "    </tr>\n",
       "  </tbody>\n",
       "</table>\n",
       "</div>"
      ],
      "text/plain": [
       "         fullVisitorId  hour            browser  productPrice isClick\n",
       "0  7194065619159478122    23  Internet Explorer      25000000    None\n",
       "1  7194065619159478122    23  Internet Explorer      50000000    None\n",
       "2  7194065619159478122    23  Internet Explorer     100000000    None\n",
       "3  7194065619159478122    23  Internet Explorer     250000000    None\n",
       "4  8159312408158297118    13             Chrome      16990000    None\n",
       "5  8159312408158297118    13             Chrome      16990000    None\n",
       "6  8159312408158297118    13             Chrome      16990000    None\n",
       "7  8159312408158297118    13             Chrome      16990000    None\n",
       "8  8159312408158297118    13             Chrome      16990000    None\n",
       "9  8159312408158297118    13             Chrome      16990000    None"
      ]
     },
     "execution_count": 241,
     "metadata": {},
     "output_type": "execute_result"
    }
   ],
   "source": [
    "%%bigquery --project $PROJECT \n",
    "-- 使用する変数が入っている要素のみを抽出\n",
    "WITH data AS(\n",
    "SELECT fullVisitorId, visitStartTime, hits, device \n",
    "FROM `bigquery-public-data.google_analytics_sample.ga_sessions_20160801` \n",
    "),\n",
    "data2 AS(\n",
    "SELECT fullVisitorId, hit.hour, hit.product, device.browser  FROM data, UNNEST(hits) AS hit\n",
    "),\n",
    "data3 AS(\n",
    "-- TODO IF(product.isClick is null, False, True) AS isClick \n",
    "SELECT fullVisitorId, hour, browser, product.productPrice, product.isClick FROM data2, UNNEST(product) AS product \n",
    ")\n",
    "\n",
    "SELECT  * FROM data3 LIMIT 10\n"
   ]
  },
  {
   "cell_type": "markdown",
   "metadata": {},
   "source": [
    "いちいち上のクエリを叩くのも面倒なので、最初に作成したdatasetの中に保存します"
   ]
  },
  {
   "cell_type": "code",
   "execution_count": null,
   "metadata": {},
   "outputs": [],
   "source": [
    "TODO "
   ]
  }
 ],
 "metadata": {
  "kernelspec": {
   "display_name": "Python 3",
   "language": "python",
   "name": "python3"
  },
  "language_info": {
   "codemirror_mode": {
    "name": "ipython",
    "version": 3
   },
   "file_extension": ".py",
   "mimetype": "text/x-python",
   "name": "python",
   "nbconvert_exporter": "python",
   "pygments_lexer": "ipython3",
   "version": "3.7.1"
  }
 },
 "nbformat": 4,
 "nbformat_minor": 4
}
